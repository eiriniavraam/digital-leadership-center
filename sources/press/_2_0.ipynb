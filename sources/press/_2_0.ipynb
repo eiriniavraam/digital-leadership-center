{
 "cells": [
  {
   "cell_type": "markdown",
   "metadata": {},
   "source": [
    "# Topic modelling – blockchain - related articles"
   ]
  },
  {
   "cell_type": "markdown",
   "metadata": {},
   "source": [
    "# Session setup"
   ]
  },
  {
   "cell_type": "markdown",
   "metadata": {},
   "source": [
    "## Libraries"
   ]
  },
  {
   "cell_type": "code",
   "execution_count": 11,
   "metadata": {},
   "outputs": [],
   "source": [
    "# basic operations\n",
    "import os\n",
    "import glob\n",
    "import re\n",
    "import logging\n",
    "import time\n",
    "import pickle\n",
    "\n",
    "# utilities\n",
    "from pprint import pprint as pp\n",
    "\n",
    "# data analysis/management/manipulation\n",
    "import numpy as np\n",
    "import pandas as pd\n",
    "import sklearn\n",
    "\n",
    "# text analysis\n",
    "import gensim\n",
    "from gensim.models import LdaModel, ldamodel\n",
    "from gensim.models import LsiModel, lsimodel\n",
    "from gensim.models import Phrases\n",
    "from gensim.models import CoherenceModel  \n",
    "from gensim.corpora import Dictionary\n",
    "from gensim.similarities import MatrixSimilarity\n",
    "'''\n",
    "Uncomment the next two lines of code if you don't have a copy of the\n",
    "Mallet software installed in your machine\n",
    "'''\n",
    "# ! wget http://mallet.cs.umass.edu/dist/mallet-2.0.8.zip # * updated if needed *\n",
    "# ! unzip mallet-2.0.8.zip\n",
    "MALLET_PATH = 'mallet-2.0.8/bin/mallet'\n",
    "import spacy\n",
    "import en_core_web_lg\n",
    "\n",
    "# multivariate analysis\n",
    "from sklearn import manifold\n",
    "from sklearn.metrics import euclidean_distances\n",
    "from sklearn.decomposition import PCA\n",
    "\n",
    "# distance metrics\n",
    "from scipy.spatial.distance import cosine\n",
    "\n",
    "# visualization\n",
    "import matplotlib.pyplot as plt\n",
    "import matplotlib.cm as cm\n",
    "import pyLDAvis\n",
    "import pyLDAvis.gensim # directly import the module `gensim'!"
   ]
  },
  {
   "cell_type": "markdown",
   "metadata": {},
   "source": [
    "## Options for dumping outcome to the screen"
   ]
  },
  {
   "cell_type": "code",
   "execution_count": 12,
   "metadata": {},
   "outputs": [],
   "source": [
    "# data vis\n",
    "%matplotlib inline\n",
    "\n",
    "# send output to the screen\n",
    "LINE = ''.join(['\\n', 79 * '~', '\\n'])"
   ]
  },
  {
   "cell_type": "markdown",
   "metadata": {},
   "source": [
    "## Basic info about the notebook/session"
   ]
  },
  {
   "cell_type": "code",
   "execution_count": 13,
   "metadata": {},
   "outputs": [
    {
     "name": "stdout",
     "output_type": "stream",
     "text": [
      "spaCy Version: 2.1.4 | Gensim Version: 3.7.3\n",
      "~~~~~~~~~~~~~~~~~~~~~~~~~~~~~~~~~~~~~~~~~~~~~~~~~~~~~~~~~~~~~~~~~~~~~~~~~~~~~~~\n",
      "Coding style as per PEP8 \n",
      "~~~~~~~~~~~~~~~~~~~~~~~~~~~~~~~~~~~~~~~~~~~~~~~~~~~~~~~~~~~~~~~~~~~~~~~~~~~~~~~\n"
     ]
    }
   ],
   "source": [
    "# check libraries\n",
    "print(' | '.join(['spaCy Version: %s' % (spacy.__version__),\n",
    "                  'Gensim Version: %s' % (gensim.__version__),]),\n",
    "      end=LINE)\n",
    "\n",
    "# coding style\n",
    "print('Coding style as per PEP8', '', end=LINE)"
   ]
  },
  {
   "cell_type": "markdown",
   "metadata": {},
   "source": [
    "# Read data"
   ]
  },
  {
   "cell_type": "code",
   "execution_count": 14,
   "metadata": {},
   "outputs": [],
   "source": [
    "# params\n",
    "# SRV = '/Users/simone'\n",
    "SRV = '/media/simone/data'\n",
    "PATH = 'Dropbox/dataProjects/code/AI/pressRelease/factiva'\n",
    "FOLDER = '002787c0-99a7-11e9-90f7-f8b156d0a52b'\n",
    "FILE = 'ai_articles.csv'\n",
    "DF = pd.read_csv(os.path.join(SRV, PATH, FOLDER, FILE),\n",
    "                 encoding='ISO-8859-1')"
   ]
  },
  {
   "cell_type": "markdown",
   "metadata": {},
   "source": [
    "# Logging Gensim's output"
   ]
  },
  {
   "cell_type": "code",
   "execution_count": 15,
   "metadata": {},
   "outputs": [],
   "source": [
    "LOG_FILE = os.path.join(SRV, PATH, FOLDER, 'log_%s.txt' % time.time())\n",
    "\n",
    "logging.basicConfig(filename=LOG_FILE,\n",
    "                    format='%(asctime)s : %(levelname)s : %(message)s',\n",
    "                    level=logging.INFO)"
   ]
  },
  {
   "cell_type": "markdown",
   "metadata": {},
   "source": [
    "# Basic data cleaning"
   ]
  },
  {
   "cell_type": "code",
   "execution_count": 16,
   "metadata": {},
   "outputs": [],
   "source": [
    "# remove returns\n",
    "DF.loc[:, 'text'] = DF['text'].str.replace('\\n', '')\n",
    "\n",
    "# remove copyright details\n",
    "DF.loc[:, 'text'] = DF['text'].str.split('©').str.get(0)\n",
    "\n",
    "# list of docs published in 2017\n",
    "TEXT17 = DF.loc[(DF['year'] == 2017) & (DF['text'].notnull()),\n",
    "              'text']\n",
    "DOCS17 = [text.strip().lower() for text in TEXT17]\n",
    "\n",
    "# list of docs published in 2018\n",
    "TEXT18 = DF.loc[(DF['year'] == 2018) & (DF['text'].notnull()),\n",
    "              'text']\n",
    "DOCS18 = [text.strip().lower() for text in TEXT18]"
   ]
  },
  {
   "cell_type": "markdown",
   "metadata": {},
   "source": [
    "# Pass documents through spaCy's `nlp` pipeline"
   ]
  },
  {
   "cell_type": "markdown",
   "metadata": {},
   "source": [
    "## Load language model"
   ]
  },
  {
   "cell_type": "code",
   "execution_count": 17,
   "metadata": {},
   "outputs": [],
   "source": [
    "# load spaCy model 'web_lg'\n",
    "nlp = en_core_web_lg.load()"
   ]
  },
  {
   "cell_type": "markdown",
   "metadata": {},
   "source": [
    "## Expand on spaCy's stopwords"
   ]
  },
  {
   "cell_type": "code",
   "execution_count": 18,
   "metadata": {},
   "outputs": [],
   "source": [
    "# custom stopwords\n",
    "MY_STOPWORDS = []\n",
    "\n",
    "# expand on spaCy's stopwords \n",
    "for stopword in MY_STOPWORDS:\n",
    "    nlp.vocab[stopword].is_stop = True"
   ]
  },
  {
   "cell_type": "markdown",
   "metadata": {},
   "source": [
    "# 2017 Articles"
   ]
  },
  {
   "cell_type": "markdown",
   "metadata": {},
   "source": [
    "## Tokenize text"
   ]
  },
  {
   "cell_type": "code",
   "execution_count": 19,
   "metadata": {},
   "outputs": [],
   "source": [
    "# filter text\n",
    "DOCS_TOKENS, TMP_TOKENS = [], []\n",
    "\n",
    "for doc in DOCS17:\n",
    "    TMP_TOKENS = [token.lemma_ for token in nlp(doc)\n",
    "                  if not token.is_stop and not token.is_punct\n",
    "                  and not token.like_num]\n",
    "    DOCS_TOKENS.append(TMP_TOKENS)\n",
    "    TMP_TOKENS = []"
   ]
  },
  {
   "cell_type": "markdown",
   "metadata": {},
   "source": [
    "## Take into account bi- and tri-grams"
   ]
  },
  {
   "cell_type": "code",
   "execution_count": 20,
   "metadata": {
    "scrolled": false
   },
   "outputs": [
    {
     "name": "stdout",
     "output_type": "stream",
     "text": [
      "\n",
      "~~~~~~~~~~~~~~~~~~~~~~~~~~~~~~~~~~~~~~~~~~~~~~~~~~~~~~~~~~~~~~~~~~~~~~~~~~~~~~~\n",
      "Published article:\n",
      "~~~~~~~~~~~~~~~~~~~~~~~~~~~~~~~~~~~~~~~~~~~~~~~~~~~~~~~~~~~~~~~~~~~~~~~~~~~~~~~\n",
      "as companies scale their use of big data, the move brings a lot of questions. does it require new architecture? does it require new platforms? the wall street journal's jay greene discussed the topic with richard sherlund, managing director and chairman, software investment banking, at barclays. the discussion covered everything from going beyond big data that looks to the past to newer applications that will be able to learn and make predictions.edited excerpts follow.mr. greene: you have this idea that we are at the precipice of a big change in the way systems architecture is set up and that many cios are unprepared.mr. sherlund: i think the internet of things has enabled industrial companies to start thinking about the need to move to big data.because in the past you really couldn't aggregate big data. it was too expensive. but we have available to us in the cloud now, we can start to collect big data.the next challenge is what do you do with that. because companies that just had big data have been disappointed that it's not creating value. but once you can find the correlations in the data through machine learning, you can then begin to have predictive capabilities.mr. greene: what is making cios unprepared for this change?mr. sherlund: i don't know that cios are building the next generation of applications. what they're doing is building apps where they have some domain expertise. we're seeing this everywhere.mr. greene: what's fueling this platform are internet of things devices, right?mr. sherlund: the new airbus has 70,000 sensors. none of that data comes down to earth. that stays on the airplane. that has to be processed locally. there are security reasons that you don't want that data going back and forth.if you're running ge's jet engines, a lot of the correlation's going to be done in the cloud on amazon or microsoft. but some of that data's going to be processed on the edge [of the data network].mr. greene: you talk about how this data is about systems of prediction essentially. so walk me through a little bit of that. are we talking about these sensors predicting on an airplane when an engine's about to fail or when it needs maintenance?mr. sherlund: first of all, you have to have the data scientists to optimize for machine learning. because for an aircraft engine you may be looking at [performance data such as] temperature, vibration, pressures, whatever.there was an example of a carrier over in europe. and they were trying to figure out, \"well, why is the engine wearing out faster than machine-learning predictions?\" and it turns out they were short-haul flights. so you're at lower elevations -- wear and tear with more friction.you have to have some domain expertise to be intelligent as a data scientist in looking at that industry. every industry has its quirks.there are probably 100 or more [machine-learning companies] out there. they're just so small, you know? you've got half a dozen or a dozen data scientists that get together, and [the companies are] for sale now at $100 to $200 million. you buy it, and then they leave, you're kind of hosed.you wish there were a couple big machine-learning companies out there. as an investment banker, i'd be all over them now because there's such high demand for them.mr. greene: are there companies that you think are further along in this architecture, are doing it well?mr. sherlund: i think there are industries that are further along. i think the industrial sector is kind of hyperfocused on this right now.i think health care, there's just enormous predictive value in the health-care field. you get physicals. and you can do correlations and realize kind of predictive things. hospitals are huge in terms of the kinds of systems that need to be tied together. so, i mean, virtually every industry will be significantly impacted by this.one of the things that's exciting to me is at the highest level, which is the applications level. so if i know when a machine's going to fail, let's say it's a jet engine. you know, a 95% probability in 200 hours that it's going to fail. if i'm a software company in the business of providing a sales-force automation system, i want that data to be surfaced to the salesperson [so that he or she can attempt to make a sales call to that jet-engine customer about the need to repair or replace the engine].because that now becomes a lead-generation system. not a more static customer-relationship-management system. i'm now telling a salesperson, \"call that customer.\"and because i integrate with the data, i know about the product. i can say, \"this is the part. this is how old it is. should be repaired or replaced. call the customer now and notify them.\"\n",
      "~~~~~~~~~~~~~~~~~~~~~~~~~~~~~~~~~~~~~~~~~~~~~~~~~~~~~~~~~~~~~~~~~~~~~~~~~~~~~~~\n",
      "Tokenized article:\n",
      "~~~~~~~~~~~~~~~~~~~~~~~~~~~~~~~~~~~~~~~~~~~~~~~~~~~~~~~~~~~~~~~~~~~~~~~~~~~~~~~\n",
      "['company', 'scale', 'use', 'big', 'datum', 'bring', 'lot', 'question', 'require', 'new', 'architecture', 'require', 'new', 'platform', 'wall', 'street', 'journal', 'jay', 'greene', 'discuss', 'topic', 'richard', 'sherlund', 'manage', 'director', 'chairman', 'software', 'investment', 'banking', 'barclays', 'discussion', 'cover', 'go', 'big', 'datum', 'look', 'past', 'new', 'application', 'able', 'learn', 'predictions.edited', 'excerpt', 'follow.mr', 'greene', 'idea', 'precipice', 'big', 'change', 'way', 'system', 'architecture', 'set', 'cio', 'unprepared.mr', 'sherlund', 'think', 'internet', 'thing', 'enable', 'industrial', 'company', 'start', 'think', 'need', 'big', 'data.because', 'past', 'aggregate', 'big', 'datum', 'expensive', 'available', 'cloud', 'start', 'collect', 'big', 'data.the', 'challenge', 'company', 'big', 'datum', 'disappoint', 'create', 'value', 'find', 'correlation', 'datum', 'machine', 'learning', 'begin', 'predictive', 'capabilities.mr', 'greene', 'make', 'cios', 'unprepared', 'change?mr', 'sherlund', 'know', 'cios', 'build', 'generation', 'application', 'build', 'app', 'domain', 'expertise', 'see', 'everywhere.mr', 'greene', 'fuel', 'platform', 'internet', 'thing', 'device', 'right?mr', 'sherlund', 'new', 'airbus', 'sensor', 'data', 'come', 'earth', 'stay', 'airplane', 'process', 'locally', 'security', 'reason', 'want', 'datum', 'go', 'forth.if', 'run', 'ge', 'jet', 'engine', 'lot', 'correlation', 'go', 'cloud', 'amazon', 'microsoft', 'data', 'go', 'process', 'edge', 'datum', 'network].mr', 'greene', 'talk', 'data', 'system', 'prediction', 'essentially', 'walk', 'little', 'bit', 'talk', 'sensor', 'predict', 'airplane', 'engine', 'fail', 'need', 'maintenance?mr', 'sherlund', 'datum', 'scientist', 'optimize', 'machine', 'learning', 'aircraft', 'engine', 'look', 'performance', 'datum', 'temperature', 'vibration', 'pressure', 'whatever.there', 'example', 'carrier', 'europe', 'try', 'figure', 'engine', 'wear', 'faster', 'machine', 'learn', 'prediction', 'turn', 'short', 'haul', 'flight', 'low', 'elevation', 'wear', 'tear', 'friction.you', 'domain', 'expertise', 'intelligent', 'data', 'scientist', 'look', 'industry', 'industry', 'quirks.there', 'probably', 'machine', 'learn', 'company', 'small', 'know', 'get', 'half', 'dozen', 'dozen', 'datum', 'scientist', 'company', 'sale', '$', '$', 'buy', 'leave', 'kind', 'hosed.you', 'wish', 'couple', 'big', 'machine', 'learn', 'company', 'investment', 'banker', 'high', 'demand', 'them.mr', 'greene', 'company', 'think', 'architecture', 'well?mr', 'sherlund', 'think', 'industry', 'think', 'industrial', 'sector', 'kind', 'hyperfocuse', 'right', 'now.i', 'think', 'health', 'care', 'enormous', 'predictive', 'value', 'health', 'care', 'field', 'physical', 'correlation', 'realize', 'kind', 'predictive', 'thing', 'hospital', 'huge', 'term', 'kind', 'system', 'need', 'tie', 'mean', 'virtually', 'industry', 'significantly', 'impact', 'this.one', 'thing', 'exciting', 'high', 'level', 'application', 'level', 'know', 'machine', 'go', 'fail', 'let', 'jet', 'engine', 'know', 'probability', 'hour', 'go', 'fail', 'software', 'company', 'business', 'provide', 'sale', 'force', 'automation', 'system', 'want', 'datum', 'surface', 'salesperson', 'attempt', 'sale', 'jet', 'engine', 'customer', 'need', 'repair', 'replace', 'engine].because', 'lead', 'generation', 'system', 'static', 'customer', 'relationship', 'management', 'system', 'tell', 'salesperson', 'customer.\"and', 'integrate', 'datum', 'know', 'product', 'old', 'repair', 'replace', 'customer', 'notify']\n",
      "~~~~~~~~~~~~~~~~~~~~~~~~~~~~~~~~~~~~~~~~~~~~~~~~~~~~~~~~~~~~~~~~~~~~~~~~~~~~~~~\n",
      "Tri-grammed tokenised aticle:\n",
      "~~~~~~~~~~~~~~~~~~~~~~~~~~~~~~~~~~~~~~~~~~~~~~~~~~~~~~~~~~~~~~~~~~~~~~~~~~~~~~~\n",
      "['company', 'scale', 'use', 'big', 'datum', 'bring', 'lot', 'question', 'require', 'new', 'architecture', 'require', 'new', 'platform', 'wall_street_journal', 'jay', 'greene', 'discuss', 'topic', 'richard', 'sherlund', 'manage_director', 'chairman', 'software', 'investment', 'banking', 'barclays', 'discussion', 'cover', 'go', 'big', 'datum', 'look', 'past', 'new', 'application', 'able', 'learn', 'predictions.edited', 'excerpt', 'follow.mr', 'greene', 'idea', 'precipice', 'big', 'change', 'way', 'system', 'architecture', 'set', 'cio', 'unprepared.mr', 'sherlund', 'think', 'internet', 'thing', 'enable', 'industrial', 'company', 'start', 'think', 'need', 'big', 'data.because', 'past', 'aggregate', 'big', 'datum', 'expensive', 'available', 'cloud', 'start', 'collect', 'big', 'data.the', 'challenge', 'company', 'big', 'datum', 'disappoint', 'create', 'value', 'find', 'correlation', 'datum', 'machine_learning', 'begin', 'predictive', 'capabilities.mr', 'greene', 'make', 'cios', 'unprepared', 'change?mr', 'sherlund', 'know', 'cios', 'build', 'generation', 'application', 'build', 'app', 'domain', 'expertise', 'see', 'everywhere.mr', 'greene', 'fuel', 'platform', 'internet', 'thing', 'device', 'right?mr', 'sherlund', 'new', 'airbus', 'sensor', 'data', 'come', 'earth', 'stay', 'airplane', 'process', 'locally', 'security', 'reason', 'want', 'datum', 'go', 'forth.if', 'run', 'ge', 'jet', 'engine', 'lot', 'correlation', 'go', 'cloud', 'amazon', 'microsoft', 'data', 'go', 'process', 'edge', 'datum', 'network].mr', 'greene', 'talk', 'data', 'system', 'prediction', 'essentially', 'walk', 'little_bit', 'talk', 'sensor', 'predict', 'airplane', 'engine', 'fail', 'need', 'maintenance?mr', 'sherlund', 'datum', 'scientist', 'optimize', 'machine_learning', 'aircraft', 'engine', 'look', 'performance', 'datum', 'temperature', 'vibration', 'pressure', 'whatever.there', 'example', 'carrier', 'europe', 'try', 'figure', 'engine', 'wear', 'faster', 'machine_learn', 'prediction', 'turn', 'short', 'haul', 'flight', 'low', 'elevation', 'wear', 'tear', 'friction.you', 'domain', 'expertise', 'intelligent', 'data', 'scientist', 'look', 'industry', 'industry', 'quirks.there', 'probably', 'machine_learn', 'company', 'small', 'know', 'get', 'half', 'dozen', 'dozen', 'datum', 'scientist', 'company', 'sale', '$', '$', 'buy', 'leave', 'kind', 'hosed.you', 'wish', 'couple', 'big', 'machine_learn', 'company', 'investment', 'banker', 'high', 'demand', 'them.mr', 'greene', 'company', 'think', 'architecture', 'well?mr', 'sherlund', 'think', 'industry', 'think', 'industrial', 'sector', 'kind', 'hyperfocuse', 'right', 'now.i', 'think', 'health_care', 'enormous', 'predictive', 'value', 'health_care', 'field', 'physical', 'correlation', 'realize', 'kind', 'predictive', 'thing', 'hospital', 'huge', 'term', 'kind', 'system', 'need', 'tie', 'mean', 'virtually', 'industry', 'significantly', 'impact', 'this.one', 'thing', 'exciting', 'high', 'level', 'application', 'level', 'know', 'machine', 'go', 'fail', 'let', 'jet', 'engine', 'know', 'probability', 'hour', 'go', 'fail', 'software', 'company', 'business', 'provide', 'sale', 'force', 'automation', 'system', 'want', 'datum', 'surface', 'salesperson', 'attempt', 'sale', 'jet', 'engine', 'customer', 'need', 'repair', 'replace', 'engine].because', 'lead', 'generation', 'system', 'static', 'customer', 'relationship', 'management', 'system', 'tell', 'salesperson', 'customer.\"and', 'integrate', 'datum', 'know', 'product', 'old', 'repair', 'replace', 'customer', 'notify']\n",
      "~~~~~~~~~~~~~~~~~~~~~~~~~~~~~~~~~~~~~~~~~~~~~~~~~~~~~~~~~~~~~~~~~~~~~~~~~~~~~~~\n"
     ]
    }
   ],
   "source": [
    "# get rid of common terms\n",
    "COMMON_TERMS = [u'of', u'with', u'without', u'and', u'or', u'the', u'a',\n",
    "                u'not', 'be', u'to', u'this', u'who', u'in']\n",
    "\n",
    "# find phrases\n",
    "BIGRAM = Phrases(DOCS_TOKENS,\n",
    "                 min_count=50,\n",
    "                 threshold=5,\n",
    "                 max_vocab_size=50000,\n",
    "                 common_terms=COMMON_TERMS)\n",
    "\n",
    "TRIGRAM = Phrases(BIGRAM[DOCS_TOKENS],\n",
    "                  min_count=50,\n",
    "                  threshold=5,\n",
    "                  max_vocab_size=50000,\n",
    "                  common_terms=COMMON_TERMS)\n",
    "\n",
    "# uncomment if bi-grammed, tokenized document is preferred\n",
    "# DOCS_PHRASED = [BIGRAM[line] for line in DOCS_TOKENS]\n",
    "DOCS_PHRASED = [TRIGRAM[BIGRAM[line]] for line in DOCS_TOKENS]\n",
    "\n",
    "# check nlp pipeline\n",
    "print('',\n",
    "      'Published article:', DOCS17[0],\n",
    "      'Tokenized article:', DOCS_TOKENS[0],\n",
    "      'Tri-grammed tokenised aticle:', DOCS_PHRASED[0],\n",
    "      sep=LINE, end=LINE)"
   ]
  },
  {
   "cell_type": "markdown",
   "metadata": {},
   "source": [
    "# Topic modeling"
   ]
  },
  {
   "cell_type": "markdown",
   "metadata": {},
   "source": [
    "## Model building"
   ]
  },
  {
   "cell_type": "markdown",
   "metadata": {},
   "source": [
    "### Text transformation"
   ]
  },
  {
   "cell_type": "code",
   "execution_count": 21,
   "metadata": {},
   "outputs": [],
   "source": [
    "# create dictionary and text corpus\n",
    "'''\n",
    "overriding these transformations breaks reproducibility\n",
    "'''\n",
    "DICT = Dictionary(DOCS_PHRASED)\n",
    "CORPUS = [DICT.doc2bow(doc) for doc in DOCS_PHRASED]"
   ]
  },
  {
   "cell_type": "markdown",
   "metadata": {},
   "source": [
    "### Mallet's implementation of LDA algorithm (using Gibbs sampling)"
   ]
  },
  {
   "cell_type": "code",
   "execution_count": null,
   "metadata": {},
   "outputs": [
    {
     "name": "stderr",
     "output_type": "stream",
     "text": [
      "/home/simone/py3_venvs/nlp/lib/python3.6/site-packages/smart_open/smart_open_lib.py:398: UserWarning: This function is deprecated, use smart_open.open instead. See the migration notes for details: https://github.com/RaRe-Technologies/smart_open/blob/master/README.rst#migrating-to-the-new-open-function\n",
      "  'See the migration notes for details: %s' % _MIGRATION_NOTES_URL\n"
     ]
    }
   ],
   "source": [
    "'''\n",
    "Based on Gardner et al's LQ paper, we expect to see\n",
    "29 distinctive topics circa\n",
    "'''\n",
    "N_TOPICS = 10\n",
    "LDA_MALLET = gensim.models.wrappers.LdaMallet(MALLET_PATH,\n",
    "                                              corpus=CORPUS,\n",
    "                                              num_topics=N_TOPICS,\n",
    "                                              id2word=DICT,\n",
    "                                              random_seed=123)\n",
    "LDA_MALLET.print_topics(num_topics=N_TOPICS, num_words=5)"
   ]
  },
  {
   "cell_type": "markdown",
   "metadata": {},
   "source": [
    "##  Model evaluation"
   ]
  },
  {
   "cell_type": "markdown",
   "metadata": {},
   "source": [
    "### Get range of coherence values as the number of retained topics change"
   ]
  },
  {
   "cell_type": "code",
   "execution_count": 24,
   "metadata": {},
   "outputs": [],
   "source": [
    "# define function\n",
    "def compute_coherence_values(dictionary, corpus, texts, limit, start, step):\n",
    "    \"\"\"\n",
    "    Compute c_v coherence for various number of topics\n",
    "\n",
    "    Parameters:\n",
    "    -----------\n",
    "    dictionary : Gensim dictionary\n",
    "    corpus     : Gensim corpus\n",
    "    texts      : List of input texts\n",
    "    limit      : Max number of topics\n",
    "\n",
    "    Returns:\n",
    "    --------\n",
    "    model_list       : List of LDA topic models\n",
    "    coherence_values : Coherence values corresponding to the LDA model\n",
    "                       with respective number of topics\n",
    "    \"\"\"\n",
    "    coherence_values = []\n",
    "    model_list = []\n",
    "    mallet_path = MALLET_PATH\n",
    "    for num_topics in range(start, limit, step):\n",
    "        model = gensim.models.wrappers.LdaMallet(mallet_path,\n",
    "                                                 corpus=corpus,\n",
    "                                                 num_topics=num_topics,\n",
    "                                                 id2word=dictionary,\n",
    "                                                 random_seed=123)\n",
    "        model_list.append(model)\n",
    "        coherencemodel = CoherenceModel(model=model,\n",
    "                                        texts=texts,\n",
    "                                        dictionary=dictionary,\n",
    "                                        coherence='c_v')\n",
    "        coherence_values.append(coherencemodel.get_coherence())\n",
    "\n",
    "    return model_list, coherence_values"
   ]
  },
  {
   "cell_type": "code",
   "execution_count": 25,
   "metadata": {},
   "outputs": [
    {
     "name": "stderr",
     "output_type": "stream",
     "text": [
      "/home/simone/py3_venvs/nlp/lib/python3.6/site-packages/smart_open/smart_open_lib.py:398: UserWarning: This function is deprecated, use smart_open.open instead. See the migration notes for details: https://github.com/RaRe-Technologies/smart_open/blob/master/README.rst#migrating-to-the-new-open-function\n",
      "  'See the migration notes for details: %s' % _MIGRATION_NOTES_URL\n"
     ]
    }
   ],
   "source": [
    "# collect coherence scores as the number of retained topics change\n",
    "LIMIT, START, STEP = 16, 2, 2\n",
    "MODEL_LIST, COHER_VALS = compute_coherence_values(dictionary=DICT,\n",
    "                                                  corpus=CORPUS,\n",
    "                                                  texts=DOCS_PHRASED,\n",
    "                                                  start=START,\n",
    "                                                  limit=LIMIT,\n",
    "                                                  step=STEP)"
   ]
  },
  {
   "cell_type": "code",
   "execution_count": 26,
   "metadata": {
    "collapsed": true
   },
   "outputs": [
    {
     "ename": "FileNotFoundError",
     "evalue": "[Errno 2] No such file or directory: '/media/simone/data/Dropbox/dataProjects/code/AI/pressRelease/factiva/exhibits/appxB/B_0.pdf'",
     "output_type": "error",
     "traceback": [
      "\u001b[0;31m---------------------------------------------------------------------------\u001b[0m",
      "\u001b[0;31mFileNotFoundError\u001b[0m                         Traceback (most recent call last)",
      "\u001b[0;32m<ipython-input-26-44aa24fb307a>\u001b[0m in \u001b[0;36m<module>\u001b[0;34m\u001b[0m\n\u001b[1;32m     30\u001b[0m             \u001b[0mtransparent\u001b[0m\u001b[0;34m=\u001b[0m\u001b[0;32mTrue\u001b[0m\u001b[0;34m,\u001b[0m\u001b[0;34m\u001b[0m\u001b[0;34m\u001b[0m\u001b[0m\n\u001b[1;32m     31\u001b[0m             \u001b[0mbbox_inches\u001b[0m\u001b[0;34m=\u001b[0m\u001b[0;34m'tight'\u001b[0m\u001b[0;34m,\u001b[0m\u001b[0;34m\u001b[0m\u001b[0;34m\u001b[0m\u001b[0m\n\u001b[0;32m---> 32\u001b[0;31m             pad_inches=0)\n\u001b[0m\u001b[1;32m     33\u001b[0m \u001b[0;34m\u001b[0m\u001b[0m\n\u001b[1;32m     34\u001b[0m \u001b[0mplt\u001b[0m\u001b[0;34m.\u001b[0m\u001b[0mshow\u001b[0m\u001b[0;34m(\u001b[0m\u001b[0;34m)\u001b[0m\u001b[0;34m\u001b[0m\u001b[0;34m\u001b[0m\u001b[0m\n",
      "\u001b[0;32m~/py3_venvs/nlp/lib/python3.6/site-packages/matplotlib/pyplot.py\u001b[0m in \u001b[0;36msavefig\u001b[0;34m(*args, **kwargs)\u001b[0m\n\u001b[1;32m    714\u001b[0m \u001b[0;32mdef\u001b[0m \u001b[0msavefig\u001b[0m\u001b[0;34m(\u001b[0m\u001b[0;34m*\u001b[0m\u001b[0margs\u001b[0m\u001b[0;34m,\u001b[0m \u001b[0;34m**\u001b[0m\u001b[0mkwargs\u001b[0m\u001b[0;34m)\u001b[0m\u001b[0;34m:\u001b[0m\u001b[0;34m\u001b[0m\u001b[0;34m\u001b[0m\u001b[0m\n\u001b[1;32m    715\u001b[0m     \u001b[0mfig\u001b[0m \u001b[0;34m=\u001b[0m \u001b[0mgcf\u001b[0m\u001b[0;34m(\u001b[0m\u001b[0;34m)\u001b[0m\u001b[0;34m\u001b[0m\u001b[0;34m\u001b[0m\u001b[0m\n\u001b[0;32m--> 716\u001b[0;31m     \u001b[0mres\u001b[0m \u001b[0;34m=\u001b[0m \u001b[0mfig\u001b[0m\u001b[0;34m.\u001b[0m\u001b[0msavefig\u001b[0m\u001b[0;34m(\u001b[0m\u001b[0;34m*\u001b[0m\u001b[0margs\u001b[0m\u001b[0;34m,\u001b[0m \u001b[0;34m**\u001b[0m\u001b[0mkwargs\u001b[0m\u001b[0;34m)\u001b[0m\u001b[0;34m\u001b[0m\u001b[0;34m\u001b[0m\u001b[0m\n\u001b[0m\u001b[1;32m    717\u001b[0m     \u001b[0mfig\u001b[0m\u001b[0;34m.\u001b[0m\u001b[0mcanvas\u001b[0m\u001b[0;34m.\u001b[0m\u001b[0mdraw_idle\u001b[0m\u001b[0;34m(\u001b[0m\u001b[0;34m)\u001b[0m   \u001b[0;31m# need this if 'transparent=True' to reset colors\u001b[0m\u001b[0;34m\u001b[0m\u001b[0;34m\u001b[0m\u001b[0m\n\u001b[1;32m    718\u001b[0m     \u001b[0;32mreturn\u001b[0m \u001b[0mres\u001b[0m\u001b[0;34m\u001b[0m\u001b[0;34m\u001b[0m\u001b[0m\n",
      "\u001b[0;32m~/py3_venvs/nlp/lib/python3.6/site-packages/matplotlib/figure.py\u001b[0m in \u001b[0;36msavefig\u001b[0;34m(self, fname, transparent, **kwargs)\u001b[0m\n\u001b[1;32m   2178\u001b[0m             \u001b[0mself\u001b[0m\u001b[0;34m.\u001b[0m\u001b[0mpatch\u001b[0m\u001b[0;34m.\u001b[0m\u001b[0mset_visible\u001b[0m\u001b[0;34m(\u001b[0m\u001b[0mframeon\u001b[0m\u001b[0;34m)\u001b[0m\u001b[0;34m\u001b[0m\u001b[0;34m\u001b[0m\u001b[0m\n\u001b[1;32m   2179\u001b[0m \u001b[0;34m\u001b[0m\u001b[0m\n\u001b[0;32m-> 2180\u001b[0;31m         \u001b[0mself\u001b[0m\u001b[0;34m.\u001b[0m\u001b[0mcanvas\u001b[0m\u001b[0;34m.\u001b[0m\u001b[0mprint_figure\u001b[0m\u001b[0;34m(\u001b[0m\u001b[0mfname\u001b[0m\u001b[0;34m,\u001b[0m \u001b[0;34m**\u001b[0m\u001b[0mkwargs\u001b[0m\u001b[0;34m)\u001b[0m\u001b[0;34m\u001b[0m\u001b[0;34m\u001b[0m\u001b[0m\n\u001b[0m\u001b[1;32m   2181\u001b[0m \u001b[0;34m\u001b[0m\u001b[0m\n\u001b[1;32m   2182\u001b[0m         \u001b[0;32mif\u001b[0m \u001b[0mframeon\u001b[0m\u001b[0;34m:\u001b[0m\u001b[0;34m\u001b[0m\u001b[0;34m\u001b[0m\u001b[0m\n",
      "\u001b[0;32m~/py3_venvs/nlp/lib/python3.6/site-packages/matplotlib/backend_bases.py\u001b[0m in \u001b[0;36mprint_figure\u001b[0;34m(self, filename, dpi, facecolor, edgecolor, orientation, format, bbox_inches, **kwargs)\u001b[0m\n\u001b[1;32m   2080\u001b[0m                     \u001b[0morientation\u001b[0m\u001b[0;34m=\u001b[0m\u001b[0morientation\u001b[0m\u001b[0;34m,\u001b[0m\u001b[0;34m\u001b[0m\u001b[0;34m\u001b[0m\u001b[0m\n\u001b[1;32m   2081\u001b[0m                     \u001b[0mbbox_inches_restore\u001b[0m\u001b[0;34m=\u001b[0m\u001b[0m_bbox_inches_restore\u001b[0m\u001b[0;34m,\u001b[0m\u001b[0;34m\u001b[0m\u001b[0;34m\u001b[0m\u001b[0m\n\u001b[0;32m-> 2082\u001b[0;31m                     **kwargs)\n\u001b[0m\u001b[1;32m   2083\u001b[0m             \u001b[0;32mfinally\u001b[0m\u001b[0;34m:\u001b[0m\u001b[0;34m\u001b[0m\u001b[0;34m\u001b[0m\u001b[0m\n\u001b[1;32m   2084\u001b[0m                 \u001b[0;32mif\u001b[0m \u001b[0mbbox_inches\u001b[0m \u001b[0;32mand\u001b[0m \u001b[0mrestore_bbox\u001b[0m\u001b[0;34m:\u001b[0m\u001b[0;34m\u001b[0m\u001b[0;34m\u001b[0m\u001b[0m\n",
      "\u001b[0;32m~/py3_venvs/nlp/lib/python3.6/site-packages/matplotlib/backends/backend_pdf.py\u001b[0m in \u001b[0;36mprint_pdf\u001b[0;34m(self, filename, dpi, bbox_inches_restore, metadata, **kwargs)\u001b[0m\n\u001b[1;32m   2494\u001b[0m             \u001b[0mfile\u001b[0m \u001b[0;34m=\u001b[0m \u001b[0mfilename\u001b[0m\u001b[0;34m.\u001b[0m\u001b[0m_file\u001b[0m\u001b[0;34m\u001b[0m\u001b[0;34m\u001b[0m\u001b[0m\n\u001b[1;32m   2495\u001b[0m         \u001b[0;32melse\u001b[0m\u001b[0;34m:\u001b[0m\u001b[0;34m\u001b[0m\u001b[0;34m\u001b[0m\u001b[0m\n\u001b[0;32m-> 2496\u001b[0;31m             \u001b[0mfile\u001b[0m \u001b[0;34m=\u001b[0m \u001b[0mPdfFile\u001b[0m\u001b[0;34m(\u001b[0m\u001b[0mfilename\u001b[0m\u001b[0;34m,\u001b[0m \u001b[0mmetadata\u001b[0m\u001b[0;34m=\u001b[0m\u001b[0mmetadata\u001b[0m\u001b[0;34m)\u001b[0m\u001b[0;34m\u001b[0m\u001b[0;34m\u001b[0m\u001b[0m\n\u001b[0m\u001b[1;32m   2497\u001b[0m         \u001b[0;32mtry\u001b[0m\u001b[0;34m:\u001b[0m\u001b[0;34m\u001b[0m\u001b[0;34m\u001b[0m\u001b[0m\n\u001b[1;32m   2498\u001b[0m             \u001b[0mfile\u001b[0m\u001b[0;34m.\u001b[0m\u001b[0mnewPage\u001b[0m\u001b[0;34m(\u001b[0m\u001b[0mwidth\u001b[0m\u001b[0;34m,\u001b[0m \u001b[0mheight\u001b[0m\u001b[0;34m)\u001b[0m\u001b[0;34m\u001b[0m\u001b[0;34m\u001b[0m\u001b[0m\n",
      "\u001b[0;32m~/py3_venvs/nlp/lib/python3.6/site-packages/matplotlib/backends/backend_pdf.py\u001b[0m in \u001b[0;36m__init__\u001b[0;34m(self, filename, metadata)\u001b[0m\n\u001b[1;32m    430\u001b[0m         \u001b[0mself\u001b[0m\u001b[0;34m.\u001b[0m\u001b[0moriginal_file_like\u001b[0m \u001b[0;34m=\u001b[0m \u001b[0;32mNone\u001b[0m\u001b[0;34m\u001b[0m\u001b[0;34m\u001b[0m\u001b[0m\n\u001b[1;32m    431\u001b[0m         \u001b[0mself\u001b[0m\u001b[0;34m.\u001b[0m\u001b[0mtell_base\u001b[0m \u001b[0;34m=\u001b[0m \u001b[0;36m0\u001b[0m\u001b[0;34m\u001b[0m\u001b[0;34m\u001b[0m\u001b[0m\n\u001b[0;32m--> 432\u001b[0;31m         \u001b[0mfh\u001b[0m\u001b[0;34m,\u001b[0m \u001b[0mopened\u001b[0m \u001b[0;34m=\u001b[0m \u001b[0mcbook\u001b[0m\u001b[0;34m.\u001b[0m\u001b[0mto_filehandle\u001b[0m\u001b[0;34m(\u001b[0m\u001b[0mfilename\u001b[0m\u001b[0;34m,\u001b[0m \u001b[0;34m\"wb\"\u001b[0m\u001b[0;34m,\u001b[0m \u001b[0mreturn_opened\u001b[0m\u001b[0;34m=\u001b[0m\u001b[0;32mTrue\u001b[0m\u001b[0;34m)\u001b[0m\u001b[0;34m\u001b[0m\u001b[0;34m\u001b[0m\u001b[0m\n\u001b[0m\u001b[1;32m    433\u001b[0m         \u001b[0;32mif\u001b[0m \u001b[0;32mnot\u001b[0m \u001b[0mopened\u001b[0m\u001b[0;34m:\u001b[0m\u001b[0;34m\u001b[0m\u001b[0;34m\u001b[0m\u001b[0m\n\u001b[1;32m    434\u001b[0m             \u001b[0;32mtry\u001b[0m\u001b[0;34m:\u001b[0m\u001b[0;34m\u001b[0m\u001b[0;34m\u001b[0m\u001b[0m\n",
      "\u001b[0;32m~/py3_venvs/nlp/lib/python3.6/site-packages/matplotlib/cbook/__init__.py\u001b[0m in \u001b[0;36mto_filehandle\u001b[0;34m(fname, flag, return_opened, encoding)\u001b[0m\n\u001b[1;32m    430\u001b[0m             \u001b[0mfh\u001b[0m \u001b[0;34m=\u001b[0m \u001b[0mbz2\u001b[0m\u001b[0;34m.\u001b[0m\u001b[0mBZ2File\u001b[0m\u001b[0;34m(\u001b[0m\u001b[0mfname\u001b[0m\u001b[0;34m,\u001b[0m \u001b[0mflag\u001b[0m\u001b[0;34m)\u001b[0m\u001b[0;34m\u001b[0m\u001b[0;34m\u001b[0m\u001b[0m\n\u001b[1;32m    431\u001b[0m         \u001b[0;32melse\u001b[0m\u001b[0;34m:\u001b[0m\u001b[0;34m\u001b[0m\u001b[0;34m\u001b[0m\u001b[0m\n\u001b[0;32m--> 432\u001b[0;31m             \u001b[0mfh\u001b[0m \u001b[0;34m=\u001b[0m \u001b[0mopen\u001b[0m\u001b[0;34m(\u001b[0m\u001b[0mfname\u001b[0m\u001b[0;34m,\u001b[0m \u001b[0mflag\u001b[0m\u001b[0;34m,\u001b[0m \u001b[0mencoding\u001b[0m\u001b[0;34m=\u001b[0m\u001b[0mencoding\u001b[0m\u001b[0;34m)\u001b[0m\u001b[0;34m\u001b[0m\u001b[0;34m\u001b[0m\u001b[0m\n\u001b[0m\u001b[1;32m    433\u001b[0m         \u001b[0mopened\u001b[0m \u001b[0;34m=\u001b[0m \u001b[0;32mTrue\u001b[0m\u001b[0;34m\u001b[0m\u001b[0;34m\u001b[0m\u001b[0m\n\u001b[1;32m    434\u001b[0m     \u001b[0;32melif\u001b[0m \u001b[0mhasattr\u001b[0m\u001b[0;34m(\u001b[0m\u001b[0mfname\u001b[0m\u001b[0;34m,\u001b[0m \u001b[0;34m'seek'\u001b[0m\u001b[0;34m)\u001b[0m\u001b[0;34m:\u001b[0m\u001b[0;34m\u001b[0m\u001b[0;34m\u001b[0m\u001b[0m\n",
      "\u001b[0;31mFileNotFoundError\u001b[0m: [Errno 2] No such file or directory: '/media/simone/data/Dropbox/dataProjects/code/AI/pressRelease/factiva/exhibits/appxB/B_0.pdf'"
     ]
    },
    {
     "data": {
      "image/png": "[encoded data removed]",
      "text/plain": [
       "<Figure size 432x288 with 1 Axes>"
      ]
     },
     "metadata": {
      "needs_background": "light"
     },
     "output_type": "display_data"
    }
   ],
   "source": [
    "# plot collected coherence scores data\n",
    "\n",
    "# data series\n",
    "X = range(START, LIMIT, STEP)\n",
    "Y = COHER_VALS\n",
    "\n",
    "# create figure\n",
    "FIG = plt.figure(figsize=(6, 4))\n",
    "AX = FIG.add_subplot(1, 1, 1)\n",
    "\n",
    "# plot data\n",
    "AX.plot(X, Y, marker='o', color='b', ls='-')\n",
    "\n",
    "# axes\n",
    "AX.set_xlabel(\"Number of topics retained\")\n",
    "AX.set_ylabel(\"Coherence score\")\n",
    "AX.set_xticks(np.arange(10, 30, 1))\n",
    "\n",
    "# reference line\n",
    "AX.axvline(x=11, ymin=0, ymax=1, color='r')\n",
    "\n",
    "# grid\n",
    "AX.grid(True, ls='--')\n",
    "\n",
    "# save plot to file\n",
    "SRV, PATH = SRV, PATH\n",
    "FOLDER = 'exhibits'\n",
    "FILE = 'B_0.pdf'\n",
    "plt.savefig(os.path.join(SRV, PATH, FOLDER, FILE),\n",
    "            transparent=True,\n",
    "            bbox_inches='tight',\n",
    "            pad_inches=0)\n",
    "\n",
    "plt.show()"
   ]
  },
  {
   "cell_type": "code",
   "execution_count": 27,
   "metadata": {},
   "outputs": [
    {
     "name": "stderr",
     "output_type": "stream",
     "text": [
      "/home/simone/py3_venvs/nlp/lib/python3.6/site-packages/smart_open/smart_open_lib.py:398: UserWarning: This function is deprecated, use smart_open.open instead. See the migration notes for details: https://github.com/RaRe-Technologies/smart_open/blob/master/README.rst#migrating-to-the-new-open-function\n",
      "  'See the migration notes for details: %s' % _MIGRATION_NOTES_URL\n"
     ]
    },
    {
     "data": {
      "text/plain": [
       "[(0,\n",
       "  '0.037*\"bitcoin\" + 0.013*\"exchange\" + 0.011*\"currency\" + 0.010*\"\\x1c\" + 0.010*\"\\x1d\" + 0.010*\"market\" + 0.010*\"$\" + 0.009*\"digital\" + 0.009*\"trade\" + 0.009*\"price\"'),\n",
       " (1,\n",
       "  '0.020*\"fund\" + 0.020*\"$\" + 0.017*\"company\" + 0.012*\"year\" + 0.011*\"investment\" + 0.011*\"investor\" + 0.010*\"firm\" + 0.008*\"market\" + 0.008*\"stock\" + 0.007*\"share\"'),\n",
       " (2,\n",
       "  '0.018*\"bank\" + 0.013*\"rate\" + 0.011*\"year\" + 0.008*\"central\" + 0.007*\"financial\" + 0.007*\"market\" + 0.006*\"time\" + 0.006*\"risk\" + 0.006*\"tax\" + 0.006*\"economy\"'),\n",
       " (3,\n",
       "  '0.020*\"bank\" + 0.015*\"financial\" + 0.013*\"mr\" + 0.008*\"rule\" + 0.007*\"regulator\" + 0.006*\"u.s\" + 0.005*\"trump\" + 0.005*\"sec\" + 0.005*\"regulation\" + 0.004*\"article\"')]"
      ]
     },
     "execution_count": 27,
     "metadata": {},
     "output_type": "execute_result"
    }
   ],
   "source": [
    "# suggested number of topics to retain -- see above\n",
    "N_TOPICS = 4\n",
    "\n",
    "# model estimation\n",
    "LDA_MALLET = gensim.models.wrappers.LdaMallet(MALLET_PATH,\n",
    "                                              corpus=CORPUS,\n",
    "                                              num_topics=N_TOPICS,\n",
    "                                              id2word=DICT,\n",
    "                                              random_seed=123)\n",
    "\n",
    "# print results\n",
    "LDA_MALLET.print_topics(num_topics=N_TOPICS, num_words=10)"
   ]
  },
  {
   "cell_type": "markdown",
   "metadata": {},
   "source": [
    "### Result visualization with pyLDAvis"
   ]
  },
  {
   "cell_type": "markdown",
   "metadata": {},
   "source": [
    "### Copy the training model weights from `Mallet` to `Gensim`"
   ]
  },
  {
   "cell_type": "code",
   "execution_count": null,
   "metadata": {},
   "outputs": [],
   "source": [
    "# translate topic modeling outcome\n",
    "LDA_MALLET_G = gensim.models.wrappers.ldamallet.malletmodel2ldamodel(LDA_MALLET)"
   ]
  },
  {
   "cell_type": "code",
   "execution_count": null,
   "metadata": {
    "scrolled": false
   },
   "outputs": [],
   "source": [
    "# ignore warnings coming from pyLDAvis\n",
    "import warnings\n",
    "warnings.filterwarnings('ignore')\n",
    "\n",
    "# visualizing the outcome of the retained model -- this takes time\n",
    "pyLDAvis.enable_notebook()\n",
    "DATA_VIS = pyLDAvis.gensim.prepare(LDA_MALLET_G, CORPUS, DICT, sort_topics=False)\n",
    "DATA_VIS"
   ]
  },
  {
   "cell_type": "code",
   "execution_count": null,
   "metadata": {},
   "outputs": [],
   "source": [
    "# save pyLDAvis data to json file\n",
    "pyLDAvis.save_json(DATA_VIS, 'topic_modelling_vis.json')"
   ]
  }
 ],
 "metadata": {
  "kernelspec": {
   "display_name": "Python 3",
   "language": "python",
   "name": "python3"
  },
  "language_info": {
   "codemirror_mode": {
    "name": "ipython",
    "version": 3
   },
   "file_extension": ".py",
   "mimetype": "text/x-python",
   "name": "python",
   "nbconvert_exporter": "python",
   "pygments_lexer": "ipython3",
   "version": "3.6.8"
  },
  "latex_envs": {
   "LaTeX_envs_menu_present": true,
   "autoclose": false,
   "autocomplete": true,
   "bibliofile": "biblio.bib",
   "cite_by": "apalike",
   "current_citInitial": 1,
   "eqLabelWithNumbers": true,
   "eqNumInitial": 1,
   "hotkeys": {
    "equation": "Ctrl-E",
    "itemize": "Ctrl-I"
   },
   "labels_anchors": false,
   "latex_user_defs": false,
   "report_style_numbering": false,
   "user_envs_cfg": false
  },
  "toc": {
   "base_numbering": 1,
   "nav_menu": {},
   "number_sections": true,
   "sideBar": true,
   "skip_h1_title": false,
   "title_cell": "Table of Contents",
   "title_sidebar": "Contents",
   "toc_cell": false,
   "toc_position": {
    "height": "calc(100% - 180px)",
    "left": "10px",
    "top": "150px",
    "width": "436px"
   },
   "toc_section_display": true,
   "toc_window_display": false
  },
  "varInspector": {
   "cols": {
    "lenName": 16,
    "lenType": 16,
    "lenVar": 40
   },
   "kernels_config": {
    "python": {
     "delete_cmd_postfix": "",
     "delete_cmd_prefix": "del ",
     "library": "var_list.py",
     "varRefreshCmd": "print(var_dic_list())"
    },
    "r": {
     "delete_cmd_postfix": ") ",
     "delete_cmd_prefix": "rm(",
     "library": "var_list.r",
     "varRefreshCmd": "cat(var_dic_list()) "
    }
   },
   "types_to_exclude": [
    "module",
    "function",
    "builtin_function_or_method",
    "instance",
    "_Feature"
   ],
   "window_display": false
  }
 },
 "nbformat": 4,
 "nbformat_minor": 2
}
