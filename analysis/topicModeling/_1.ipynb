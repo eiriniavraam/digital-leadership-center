{
 "cells": [
  {
   "cell_type": "markdown",
   "metadata": {},
   "source": [
    "# Session setup\n",
    "\n",
    "## Libraries"
   ]
  },
  {
   "cell_type": "code",
   "execution_count": 65,
   "metadata": {
    "ExecuteTime": {
     "end_time": "2020-05-26T09:48:52.603718Z",
     "start_time": "2020-05-26T09:48:52.591526Z"
    },
    "attributes": {
     "classes": [],
     "id": "",
     "n": "1"
    }
   },
   "outputs": [],
   "source": [
    "# basic operations\n",
    "import os\n",
    "import json\n",
    "import re\n",
    "import logging\n",
    "import time\n",
    "import pickle\n",
    "\n",
    "# load data from mongodb\n",
    "from pymongo import MongoClient\n",
    "\n",
    "# utilities\n",
    "from pprint import pprint as pp\n",
    "\n",
    "# data analysis/management/manipulation\n",
    "import numpy as np\n",
    "import pandas as pd\n",
    "from pandas import json_normalize\n",
    "import sklearn\n",
    "\n",
    "# topic modeling\n",
    "import gensim\n",
    "from gensim.models import LdaModel, ldamodel\n",
    "from gensim.models import Phrases\n",
    "from gensim.models import CoherenceModel  \n",
    "from gensim.corpora import Dictionary\n",
    "from gensim.similarities import MatrixSimilarity\n",
    "\n",
    "# nlp pipeline\n",
    "import spacy\n",
    "import en_core_web_lg\n",
    "\n",
    "# multivariate analysis\n",
    "from sklearn import manifold\n",
    "from sklearn.metrics import euclidean_distances\n",
    "from sklearn.decomposition import PCA\n",
    "\n",
    "# distance metrics\n",
    "from scipy.spatial.distance import cosine\n",
    "\n",
    "# visualization\n",
    "import matplotlib.pyplot as plt\n",
    "import matplotlib.cm as cm\n",
    "import pyLDAvis\n",
    "import pyLDAvis.gensim"
   ]
  },
  {
   "cell_type": "markdown",
   "metadata": {},
   "source": [
    "## Options for dumping outcome to the screen"
   ]
  },
  {
   "cell_type": "code",
   "execution_count": 66,
   "metadata": {
    "ExecuteTime": {
     "end_time": "2020-05-26T09:48:52.661944Z",
     "start_time": "2020-05-26T09:48:52.655610Z"
    },
    "attributes": {
     "classes": [],
     "id": "",
     "n": "2"
    }
   },
   "outputs": [],
   "source": [
    "# data vis\n",
    "%matplotlib inline\n",
    "\n",
    "# send output to the screen\n",
    "LINE = ''.join(['\\n', 79 * '-', '\\n'])"
   ]
  },
  {
   "cell_type": "markdown",
   "metadata": {},
   "source": [
    "## Dataviz options"
   ]
  },
  {
   "cell_type": "code",
   "execution_count": 67,
   "metadata": {
    "ExecuteTime": {
     "end_time": "2020-05-26T09:48:52.732482Z",
     "start_time": "2020-05-26T09:48:52.727971Z"
    }
   },
   "outputs": [],
   "source": [
    "plt.style.use('seaborn-bright')"
   ]
  },
  {
   "cell_type": "markdown",
   "metadata": {},
   "source": [
    "## Basic info about the notebook/session"
   ]
  },
  {
   "cell_type": "code",
   "execution_count": 68,
   "metadata": {
    "ExecuteTime": {
     "end_time": "2020-05-26T09:48:52.816477Z",
     "start_time": "2020-05-26T09:48:52.809359Z"
    },
    "attributes": {
     "classes": [],
     "id": "",
     "n": "3"
    }
   },
   "outputs": [
    {
     "name": "stdout",
     "output_type": "stream",
     "text": [
      "spaCy Version: 2.2.4 | Gensim Version: 3.8.3\n",
      "-------------------------------------------------------------------------------\n",
      "Coding style as per PEP8 \n",
      "-------------------------------------------------------------------------------\n"
     ]
    }
   ],
   "source": [
    "# check libraries\n",
    "print(' | '.join(['spaCy Version: %s' % (spacy.__version__),\n",
    "                  'Gensim Version: %s' % (gensim.__version__),]),\n",
    "      end=LINE)\n",
    "\n",
    "# coding style\n",
    "print('Coding style as per PEP8', '', end=LINE)"
   ]
  },
  {
   "cell_type": "markdown",
   "metadata": {},
   "source": [
    "# Read data"
   ]
  },
  {
   "cell_type": "code",
   "execution_count": 69,
   "metadata": {
    "ExecuteTime": {
     "end_time": "2020-05-26T09:48:53.267539Z",
     "start_time": "2020-05-26T09:48:52.925496Z"
    },
    "attributes": {
     "classes": [],
     "id": "",
     "n": "375"
    }
   },
   "outputs": [],
   "source": [
    "# params\n",
    "CWD = os.getcwd()\n",
    "FOLDER = 'data'\n",
    "FILE = 'press_releases.json'\n",
    "\n",
    "# reda data\n",
    "DF = json_normalize([json.loads(line) for line in open(os.path.join(FOLDER, FILE))])"
   ]
  },
  {
   "cell_type": "markdown",
   "metadata": {},
   "source": [
    "# Logging Gensim's output"
   ]
  },
  {
   "cell_type": "code",
   "execution_count": 70,
   "metadata": {
    "ExecuteTime": {
     "end_time": "2020-05-26T09:48:53.272707Z",
     "start_time": "2020-05-26T09:48:53.269296Z"
    },
    "attributes": {
     "classes": [],
     "id": "",
     "n": "376"
    }
   },
   "outputs": [],
   "source": [
    "LOG_FILE = os.path.join(CWD, FOLDER, 'log_%s.txt' % time.time())\n",
    "\n",
    "logging.basicConfig(filename=LOG_FILE,\n",
    "                    format='%(asctime)s : %(levelname)s : %(message)s',\n",
    "                    level=logging.INFO)"
   ]
  },
  {
   "cell_type": "markdown",
   "metadata": {},
   "source": [
    "# Data transformation"
   ]
  },
  {
   "cell_type": "markdown",
   "metadata": {},
   "source": [
    "## Basic data cleaning"
   ]
  },
  {
   "cell_type": "code",
   "execution_count": 71,
   "metadata": {
    "ExecuteTime": {
     "end_time": "2020-05-26T09:48:53.520738Z",
     "start_time": "2020-05-26T09:48:53.274377Z"
    }
   },
   "outputs": [],
   "source": [
    "# date as datetime\n",
    "DF.loc[:, 'date'] = pd.to_datetime(DF['date.$date'])\n",
    "\n",
    "# get timespans\n",
    "DF.loc[:, 'year'] = DF['date'].dt.year\n",
    "\n",
    "# drop column\n",
    "DF.drop(['date.$date', '_id.$oid'], axis=1, inplace=True)\n",
    "\n",
    "# remove returns\n",
    "DF.loc[:, 'text'] = DF['text'].str.replace('\\n', '')"
   ]
  },
  {
   "cell_type": "markdown",
   "metadata": {},
   "source": [
    "## Arrange data for sequential LDA"
   ]
  },
  {
   "cell_type": "code",
   "execution_count": 72,
   "metadata": {
    "ExecuteTime": {
     "end_time": "2020-05-26T09:48:53.529176Z",
     "start_time": "2020-05-26T09:48:53.522676Z"
    }
   },
   "outputs": [],
   "source": [
    "# order data by year of publication\n",
    "DF.sort_values('year', inplace=True)\n",
    "\n",
    "# get stacks by year\n",
    "DATA = DF.loc[DF['year'] > 2008].groupby('year').size()"
   ]
  },
  {
   "cell_type": "markdown",
   "metadata": {
    "ExecuteTime": {
     "end_time": "2020-05-26T09:30:37.173583Z",
     "start_time": "2020-05-26T09:30:37.169842Z"
    }
   },
   "source": [
    "### Time slices"
   ]
  },
  {
   "cell_type": "code",
   "execution_count": 73,
   "metadata": {
    "ExecuteTime": {
     "end_time": "2020-05-26T09:48:53.534308Z",
     "start_time": "2020-05-26T09:48:53.531377Z"
    }
   },
   "outputs": [
    {
     "name": "stdout",
     "output_type": "stream",
     "text": [
      "[  97   11   40   21  265  385  479  825 1070  862  327]\n"
     ]
    }
   ],
   "source": [
    "TIME_SLICES = DATA.values\n",
    "print(TIME_SLICES)"
   ]
  },
  {
   "cell_type": "markdown",
   "metadata": {},
   "source": [
    "### Exploratory chart"
   ]
  },
  {
   "cell_type": "code",
   "execution_count": 74,
   "metadata": {
    "ExecuteTime": {
     "end_time": "2020-05-26T09:48:53.539557Z",
     "start_time": "2020-05-26T09:48:53.535955Z"
    }
   },
   "outputs": [],
   "source": [
    "# data series\n",
    "X = DATA.index\n",
    "Y = TIME_SLICES\n",
    "\n",
    "# labels\n",
    "X_LABELS = ['%s' % i for i in X if i < 2019] + ['2019*']\n",
    "Y_LABELS = ['%s' % i for i in np.arange(0, 1400, 200)]"
   ]
  },
  {
   "cell_type": "code",
   "execution_count": 75,
   "metadata": {
    "ExecuteTime": {
     "end_time": "2020-05-26T09:48:53.703031Z",
     "start_time": "2020-05-26T09:48:53.541003Z"
    },
    "scrolled": false
   },
   "outputs": [
    {
     "data": {
      "image/png": "[encoded data removed]",
      "text/plain": [
       "<Figure size 432x288 with 1 Axes>"
      ]
     },
     "metadata": {
      "needs_background": "light"
     },
     "output_type": "display_data"
    }
   ],
   "source": [
    "# create figure\n",
    "PLT = plt.figure(figsize=(6, 4))\n",
    "\n",
    "# populate figure with a plot\n",
    "AX = PLT.add_subplot(1, 1, 1)\n",
    "\n",
    "\n",
    "\n",
    "# plot data\n",
    "AX.bar(X, Y, color='r', alpha=0.5)\n",
    "\n",
    "# axis properties\n",
    "AX.set_xticks(X)\n",
    "AX.set_xticklabels(X_LABELS, fontsize=14, rotation='vertical')\n",
    "AX.set_xlabel('Year', fontsize=14)\n",
    "AX.set_yticklabels(Y_LABELS, fontsize=14)\n",
    "AX.set_ylabel('Counts of documents', fontsize=14)\n",
    "\n",
    "# annotation\n",
    "NOTES = \"\"\"Notes: * the 2019 bucket contains documents published \n",
    "              between Jan-01 and Mar-31.\"\"\"\n",
    "PLT.text(0.12, -0.25, NOTES, fontsize=12)\n",
    "\n",
    "# grid\n",
    "AX.grid(True, ls='--', axis='y', color='white')\n",
    "\n",
    "# show plot\n",
    "PLT.show()"
   ]
  },
  {
   "cell_type": "markdown",
   "metadata": {},
   "source": [
    "## List to pass through spacy"
   ]
  },
  {
   "cell_type": "code",
   "execution_count": 76,
   "metadata": {
    "ExecuteTime": {
     "end_time": "2020-05-26T09:48:54.361860Z",
     "start_time": "2020-05-26T09:48:53.704344Z"
    }
   },
   "outputs": [],
   "source": [
    "# list of articles\n",
    "DOCS = [article.strip().lower() for article in DF.text]\n",
    "\n",
    "# hyphen to underscores\n",
    "DOCS = [re.sub(r'\\b-\\b', '_', text) for text in DOCS]"
   ]
  },
  {
   "cell_type": "markdown",
   "metadata": {},
   "source": [
    "# Pass documents through spaCy's `nlp` pipeline\n",
    "\n",
    "## Load language model"
   ]
  },
  {
   "cell_type": "code",
   "execution_count": 77,
   "metadata": {
    "ExecuteTime": {
     "end_time": "2020-05-26T09:49:02.572524Z",
     "start_time": "2020-05-26T09:48:54.364304Z"
    },
    "attributes": {
     "classes": [],
     "id": "",
     "n": "378"
    }
   },
   "outputs": [],
   "source": [
    "# load spaCy model 'web_lg'\n",
    "nlp = en_core_web_lg.load()"
   ]
  },
  {
   "cell_type": "markdown",
   "metadata": {},
   "source": [
    "## Expand on spaCy's stopwords"
   ]
  },
  {
   "cell_type": "code",
   "execution_count": 78,
   "metadata": {
    "ExecuteTime": {
     "end_time": "2020-05-26T09:49:02.577879Z",
     "start_time": "2020-05-26T09:49:02.574577Z"
    },
    "attributes": {
     "classes": [],
     "id": "",
     "n": "379"
    }
   },
   "outputs": [],
   "source": [
    "# # params\n",
    "# CWD = CWD\n",
    "# FOLDER = FOLDER\n",
    "# FILE = 'my_stopwords.pickle'\n",
    "\n",
    "# # load my stopwords from pickle\n",
    "# with open(os.path.join(CWD, FOLDER, FILE), 'rb') as pipe:\n",
    "#     MY_STOPWORDS = pickle.load(pipe)\n",
    "\n",
    "# my stopwrods\n",
    "MY_STOPWORDS = ['\\x1c',\n",
    "                'ft', 'wsj', 'time', 'sec',\n",
    "                'say', 'says', 'said',\n",
    "                'mr.', 'mister', 'mr', 'miss', 'ms',\n",
    "                'inc']\n",
    "\n",
    "# expand on spaCy's stopwords \n",
    "for stopword in MY_STOPWORDS:\n",
    "    nlp.vocab[stopword].is_stop = True"
   ]
  },
  {
   "cell_type": "markdown",
   "metadata": {},
   "source": [
    "## Tokenize text"
   ]
  },
  {
   "cell_type": "code",
   "execution_count": 79,
   "metadata": {
    "ExecuteTime": {
     "end_time": "2020-05-26T09:57:33.718579Z",
     "start_time": "2020-05-26T09:49:02.579544Z"
    },
    "attributes": {
     "classes": [],
     "id": "",
     "n": "381"
    }
   },
   "outputs": [],
   "source": [
    "# filter text\n",
    "DOCS_TOKENS, TMP_TOKENS = [], []\n",
    "\n",
    "for doc in DOCS:\n",
    "    TMP_TOKENS = [token.lemma_ for token in nlp(doc)\n",
    "                  if not token.is_stop\n",
    "                  and not token.is_punct\n",
    "                  and not token.like_num\n",
    "                  and not token.like_url\n",
    "                  and not token.like_email\n",
    "                  and not token.is_currency\n",
    "                  and not token.is_oov]\n",
    "    DOCS_TOKENS.append(TMP_TOKENS)\n",
    "    TMP_TOKENS = []"
   ]
  },
  {
   "cell_type": "markdown",
   "metadata": {},
   "source": [
    "## Take into account bi- and tri-grams"
   ]
  },
  {
   "cell_type": "code",
   "execution_count": 80,
   "metadata": {
    "ExecuteTime": {
     "end_time": "2020-05-26T09:57:47.703675Z",
     "start_time": "2020-05-26T09:57:33.720357Z"
    },
    "attributes": {
     "classes": [],
     "id": "",
     "n": "382"
    },
    "scrolled": false
   },
   "outputs": [
    {
     "name": "stdout",
     "output_type": "stream",
     "text": [
      "\n",
      "-------------------------------------------------------------------------------\n",
      "Published article:\n",
      "-------------------------------------------------------------------------------\n",
      "in recent years, goldman sachs has become renowned as one of the savviest players on wall street. this week, however, the mighty us bank was forced into an embarrassing admission.in a rare unplanned investor call, the bank revealed that a flagship global equity fund had lost over 30 per cent of its value in a week because of problems with its trading strategies created by computer models. in particular, the computers had failed to foresee recent market movements to such a degree that they labelled them a  \u001c",
      "25_standard deviation event \u001d",
      "  \u0013 something that only happens once every 100,000 years or more. \u001c",
      "we are seeing things that were 25_standard deviation events, several days in a row, \u001d",
      " said david viniar, goldman \u0019s chief financial officer.  \u001c",
      "there have been some issues [before] in some of the other quantitative spaces, but nothing like what we saw last week. \u001d",
      "by any standards, it is a striking admission, given that these losses at the goldman fund could top $1.5bn (750m,  ¬1.1bn). but w\n",
      "-------------------------------------------------------------------------------\n",
      "Tokenized article:\n",
      "-------------------------------------------------------------------------------\n",
      "['year', 'goldman', 'sachs', 'renowned', 'savvy', 'player', 'wall', 'street', 'week', 'mighty', 'bank', 'force', 'embarrassing', 'rare', 'unplanned', 'investor', 'bank', 'reveal', 'flagship', 'global', 'equity', 'fund', 'lose', 'cent', 'value', 'week', 'problem', 'trading', 'strategy', 'create', 'computer', 'model', 'particular', 'computer', 'fail', 'foresee', 'recent', 'market', 'movement', 'degree', 'label', 'deviation', 'event', 'happen', 'year', 'see', 'thing', 'deviation', 'event', 'day', 'row', 'david', 'goldman', 'chief', 'financial', 'officer', 'issue', 'quantitative', 'space', 'like', 'see', 'week', '\\x1d', 'standard', 'striking', 'admission', 'give', 'loss', 'goldman', 'fund', '1.5bn', 'm', ' ', 'startling', 'goldman', 'sachs', 'see', 'model', 'haywire', 'contrary', 'recent', 'day', 'host', 'fund', 'experience', 'similar', 'difficulty', 'include', 'highly', 'renowned', 'fund', 'renaissance', 'simons', 'founder', 'renaissance', 'respected', 'quantitative', 'fund', 'manager']\n",
      "-------------------------------------------------------------------------------\n",
      "Tri-grammed tokenised article:\n",
      "-------------------------------------------------------------------------------\n",
      "['year', 'goldman_sachs', 'renowned', 'savvy', 'player', 'wall', 'street', 'week', 'mighty', 'bank', 'force', 'embarrassing', 'rare', 'unplanned', 'investor', 'bank', 'reveal', 'flagship', 'global', 'equity', 'fund', 'lose', 'cent', 'value', 'week', 'problem', 'trading', 'strategy', 'create', 'computer', 'model', 'particular', 'computer', 'fail', 'foresee', 'recent', 'market', 'movement', 'degree', 'label', 'deviation', 'event', 'happen', 'year', 'see', 'thing', 'deviation', 'event', 'day', 'row', 'david', 'goldman', 'chief', 'financial', 'officer', 'issue', 'quantitative', 'space', 'like', 'see', 'week', '\\x1d', 'standard', 'striking', 'admission', 'give', 'loss', 'goldman', 'fund', '1.5bn', 'm', ' ', 'startling', 'goldman_sachs', 'see', 'model', 'haywire', 'contrary', 'recent', 'day', 'host', 'fund', 'experience', 'similar', 'difficulty', 'include', 'highly', 'renowned', 'fund', 'renaissance', 'simons', 'founder', 'renaissance', 'respected', 'quantitative', 'fund', 'manager', 'week', 'investor']\n",
      "-------------------------------------------------------------------------------\n"
     ]
    }
   ],
   "source": [
    "# get rid of common terms\n",
    "COMMON_TERMS = [u'of', u'with', u'without', u'and', u'or', u'the', u'a',\n",
    "                u'not', 'be', u'to', u'this', u'who', u'in']\n",
    "\n",
    "# find phrases\n",
    "BIGRAM = Phrases(DOCS_TOKENS,\n",
    "                 min_count=50,\n",
    "                 threshold=5,\n",
    "                 max_vocab_size=50000,\n",
    "                 common_terms=COMMON_TERMS)\n",
    "\n",
    "TRIGRAM = Phrases(BIGRAM[DOCS_TOKENS],\n",
    "                  min_count=50,\n",
    "                  threshold=5,\n",
    "                  max_vocab_size=50000,\n",
    "                  common_terms=COMMON_TERMS)\n",
    "\n",
    "# uncomment if bi-grammed, tokenized document is preferred\n",
    "# DOCS_PHRASED = [BIGRAM[line] for line in DOCS_TOKENS]\n",
    "DOCS_PHRASED = [BIGRAM[line] for line in DOCS_TOKENS]\n",
    "\n",
    "# check nlp pipeline\n",
    "print('',\n",
    "      'Published article:', DOCS[1][0:1000],\n",
    "      'Tokenized article:', DOCS_TOKENS[1][1:100],\n",
    "      'Tri-grammed tokenised article:', DOCS_PHRASED[1][1:100],\n",
    "      sep=LINE, end=LINE)"
   ]
  },
  {
   "cell_type": "markdown",
   "metadata": {},
   "source": [
    "# Keyword analysis"
   ]
  },
  {
   "cell_type": "code",
   "execution_count": null,
   "metadata": {},
   "outputs": [],
   "source": [
    "\"\"\"\n",
    "machine learning\n",
    "internet of things\n",
    "robotis\n",
    "technology\n",
    "computer science\n",
    "computers\n",
    "automation\n",
    "augmented reality\n",
    "big data\n",
    "deep learning\n",
    "cloud computing\n",
    "natural language processing\n",
    "pattern recognition\n",
    "analytics\n",
    "computing\n",
    "\"\"\""
   ]
  },
  {
   "cell_type": "markdown",
   "metadata": {},
   "source": [
    "# Cross-sectional topic modeling"
   ]
  },
  {
   "cell_type": "markdown",
   "metadata": {},
   "source": [
    "## Coprus & dictionary to pass to the Topic Modeling"
   ]
  },
  {
   "cell_type": "code",
   "execution_count": 81,
   "metadata": {
    "ExecuteTime": {
     "end_time": "2020-05-26T10:00:58.149051Z",
     "start_time": "2020-05-26T10:00:55.711041Z"
    },
    "attributes": {
     "classes": [],
     "id": "",
     "n": "383"
    }
   },
   "outputs": [],
   "source": [
    "# create dictionary and text corpus\n",
    "'''\n",
    "overriding these transformations breaks reproducibility\n",
    "'''\n",
    "DICT = Dictionary(DOCS_PHRASED)\n",
    "CORPUS = [DICT.doc2bow(doc) for doc in DOCS_PHRASED]"
   ]
  },
  {
   "cell_type": "markdown",
   "metadata": {},
   "source": [
    "## Sequential LDA"
   ]
  },
  {
   "cell_type": "code",
   "execution_count": null,
   "metadata": {
    "ExecuteTime": {
     "start_time": "2020-05-26T10:53:35.443Z"
    }
   },
   "outputs": [],
   "source": [
    "# fix the number of topics\n",
    "N_TOPICS = 10\n",
    "\n",
    "# model estimation\n",
    "LDA_SEQ = ldamodel.(corpus=CORPUS,\n",
    "                                 id2word=DICT,\n",
    "                                 time_slice=TIME_SLICES,\n",
    "                                 num_topics=N_TOPICS)"
   ]
  },
  {
   "cell_type": "markdown",
   "metadata": {},
   "source": [
    "## Estimation results"
   ]
  },
  {
   "cell_type": "markdown",
   "metadata": {},
   "source": [
    "### Print topics"
   ]
  },
  {
   "cell_type": "code",
   "execution_count": null,
   "metadata": {
    "ExecuteTime": {
     "end_time": "2020-05-26T10:48:29.414795Z",
     "start_time": "2020-05-26T10:20:08.004Z"
    },
    "attributes": {
     "classes": [],
     "id": "",
     "n": "384"
    }
   },
   "outputs": [],
   "source": [
    "# print topics\n",
    "LDA_SEQ.print_topics(num_topics=N_TOPICS, num_words=5, time=0)"
   ]
  },
  {
   "cell_type": "markdown",
   "metadata": {},
   "source": [
    "### Result visualization with pyLDAvis\n",
    "\n",
    "### Copy the training model weights from `Mallet` to `Gensim`"
   ]
  },
  {
   "cell_type": "code",
   "execution_count": 389,
   "metadata": {
    "attributes": {
     "classes": [],
     "id": "",
     "n": "389"
    }
   },
   "outputs": [],
   "source": [
    "# translate topic modeling outcome\n",
    "LDA_MALLET_G = gensim.models.wrappers.ldamallet.malletmodel2ldamodel(LDA_MALLET)"
   ]
  },
  {
   "cell_type": "code",
   "execution_count": 390,
   "metadata": {
    "attributes": {
     "classes": [],
     "id": "",
     "n": "390"
    }
   },
   "outputs": [
    {
     "data": {
      "text/html": [
       "\n",
       "<link rel=\"stylesheet\" type=\"text/css\" href=\"https://cdn.rawgit.com/bmabey/pyLDAvis/files/ldavis.v1.0.0.css\">\n",
       "\n",
       "\n",
       "<div id=\"ldavis_el473952101648245768926316\"></div>\n",
       "<script type=\"text/javascript\">\n",
       "\n",
       "var ldavis_el473952101648245768926316_data = {\"mdsDat\": {\"x\": [0.13717609896619243, -0.09839683829899429, -0.1302996802606607, 0.2974069745410263, -0.14473641547403912, -0.04559858807642372, -0.0822411549074685, 0.2259385815787129, 0.022695105895869563, -0.18194408396421524], \"y\": [-0.07313389073393088, 0.13793059289602308, -0.2261492724948369, 0.08430912474778887, 0.15805263231692648, 0.24412579977935736, -0.15146628864286935, 0.011279388709197242, -0.22275695145789, 0.03780886488023414], \"topics\": [1, 2, 3, 4, 5, 6, 7, 8, 9, 10], \"cluster\": [1, 1, 1, 1, 1, 1, 1, 1, 1, 1], \"Freq\": [9.868050581220311, 9.696344387627146, 10.486971326941728, 10.138614542542216, 10.418149543110278, 10.001669393993327, 10.110474264996991, 9.56200702575517, 9.681441310587482, 10.036277623225347]}, \"tinfo\": {\"Category\": [\"Default\", \"Default\", \"Default\", \"Default\", \"Default\", \"Default\", \"Default\", \"Default\", \"Default\", \"Default\", \"Default\", \"Default\", \"Default\", \"Default\", \"Default\", \"Default\", \"Default\", \"Default\", \"Default\", \"Default\", \"Default\", \"Default\", \"Default\", \"Default\", \"Default\", \"Default\", \"Default\", \"Default\", \"Default\", \"Default\", \"Topic1\", \"Topic1\", \"Topic1\", \"Topic1\", \"Topic1\", \"Topic1\", \"Topic1\", \"Topic1\", \"Topic1\", \"Topic1\", \"Topic1\", \"Topic1\", \"Topic1\", \"Topic1\", \"Topic1\", \"Topic1\", \"Topic1\", \"Topic1\", \"Topic1\", \"Topic1\", \"Topic1\", \"Topic1\", \"Topic1\", \"Topic1\", \"Topic1\", \"Topic1\", \"Topic1\", \"Topic1\", \"Topic1\", \"Topic1\", \"Topic1\", \"Topic1\", \"Topic1\", \"Topic1\", \"Topic1\", \"Topic1\", \"Topic1\", \"Topic1\", \"Topic1\", \"Topic1\", \"Topic1\", \"Topic1\", \"Topic1\", \"Topic1\", \"Topic1\", \"Topic1\", \"Topic1\", \"Topic1\", \"Topic1\", \"Topic1\", \"Topic1\", \"Topic1\", \"Topic1\", \"Topic1\", \"Topic1\", \"Topic1\", \"Topic1\", \"Topic1\", \"Topic1\", \"Topic1\", \"Topic1\", \"Topic1\", \"Topic1\", \"Topic1\", \"Topic1\", \"Topic1\", \"Topic1\", \"Topic1\", \"Topic1\", \"Topic1\", \"Topic1\", \"Topic1\", \"Topic1\", \"Topic1\", \"Topic1\", \"Topic2\", \"Topic2\", \"Topic2\", \"Topic2\", \"Topic2\", \"Topic2\", \"Topic2\", \"Topic2\", \"Topic2\", \"Topic2\", \"Topic2\", \"Topic2\", \"Topic2\", \"Topic2\", \"Topic2\", \"Topic2\", \"Topic2\", \"Topic2\", \"Topic2\", \"Topic2\", \"Topic2\", \"Topic2\", \"Topic2\", \"Topic2\", \"Topic2\", \"Topic2\", \"Topic2\", \"Topic2\", \"Topic2\", \"Topic2\", \"Topic2\", \"Topic2\", \"Topic2\", \"Topic2\", \"Topic2\", \"Topic2\", \"Topic2\", \"Topic2\", \"Topic2\", \"Topic2\", \"Topic2\", \"Topic2\", \"Topic2\", \"Topic2\", \"Topic2\", \"Topic2\", \"Topic2\", \"Topic2\", \"Topic2\", \"Topic2\", \"Topic2\", \"Topic2\", \"Topic2\", \"Topic2\", \"Topic2\", \"Topic2\", \"Topic2\", \"Topic2\", \"Topic2\", \"Topic2\", \"Topic2\", \"Topic2\", \"Topic2\", \"Topic2\", \"Topic2\", \"Topic2\", \"Topic2\", \"Topic2\", \"Topic2\", \"Topic2\", \"Topic2\", \"Topic2\", \"Topic2\", \"Topic2\", \"Topic2\", \"Topic2\", \"Topic2\", \"Topic2\", \"Topic2\", \"Topic2\", \"Topic3\", \"Topic3\", \"Topic3\", \"Topic3\", \"Topic3\", \"Topic3\", \"Topic3\", \"Topic3\", \"Topic3\", \"Topic3\", \"Topic3\", \"Topic3\", \"Topic3\", \"Topic3\", \"Topic3\", \"Topic3\", \"Topic3\", \"Topic3\", \"Topic3\", \"Topic3\", \"Topic3\", \"Topic3\", \"Topic3\", \"Topic3\", \"Topic3\", \"Topic3\", \"Topic3\", \"Topic3\", \"Topic3\", \"Topic3\", \"Topic3\", \"Topic3\", \"Topic3\", \"Topic3\", \"Topic3\", \"Topic3\", \"Topic3\", \"Topic3\", \"Topic3\", \"Topic3\", \"Topic3\", \"Topic3\", \"Topic3\", \"Topic3\", \"Topic3\", \"Topic3\", \"Topic3\", \"Topic3\", \"Topic3\", \"Topic3\", \"Topic3\", \"Topic3\", \"Topic3\", \"Topic3\", \"Topic3\", \"Topic3\", \"Topic3\", \"Topic3\", \"Topic3\", \"Topic3\", \"Topic3\", \"Topic3\", \"Topic3\", \"Topic3\", \"Topic3\", \"Topic3\", \"Topic3\", \"Topic3\", \"Topic3\", \"Topic3\", \"Topic3\", \"Topic3\", \"Topic3\", \"Topic4\", \"Topic4\", \"Topic4\", \"Topic4\", \"Topic4\", \"Topic4\", \"Topic4\", \"Topic4\", \"Topic4\", \"Topic4\", \"Topic4\", \"Topic4\", \"Topic4\", \"Topic4\", \"Topic4\", \"Topic4\", \"Topic4\", \"Topic4\", \"Topic4\", \"Topic4\", \"Topic4\", \"Topic4\", \"Topic4\", \"Topic4\", \"Topic4\", \"Topic4\", \"Topic4\", \"Topic4\", \"Topic4\", \"Topic4\", \"Topic4\", \"Topic4\", \"Topic4\", \"Topic4\", \"Topic4\", \"Topic4\", \"Topic4\", \"Topic4\", \"Topic4\", \"Topic4\", \"Topic4\", \"Topic4\", \"Topic4\", \"Topic4\", \"Topic4\", \"Topic4\", \"Topic4\", \"Topic4\", \"Topic4\", \"Topic4\", \"Topic4\", \"Topic4\", \"Topic4\", \"Topic4\", \"Topic4\", \"Topic4\", \"Topic4\", \"Topic4\", \"Topic4\", \"Topic4\", \"Topic4\", \"Topic4\", \"Topic4\", \"Topic4\", \"Topic4\", \"Topic4\", \"Topic4\", \"Topic4\", \"Topic4\", \"Topic4\", \"Topic4\", \"Topic4\", \"Topic4\", \"Topic4\", \"Topic4\", \"Topic5\", \"Topic5\", \"Topic5\", \"Topic5\", \"Topic5\", \"Topic5\", \"Topic5\", \"Topic5\", \"Topic5\", \"Topic5\", \"Topic5\", \"Topic5\", \"Topic5\", \"Topic5\", \"Topic5\", \"Topic5\", \"Topic5\", \"Topic5\", \"Topic5\", \"Topic5\", \"Topic5\", \"Topic5\", \"Topic5\", \"Topic5\", \"Topic5\", \"Topic5\", \"Topic5\", \"Topic5\", \"Topic5\", \"Topic5\", \"Topic5\", \"Topic5\", \"Topic5\", \"Topic5\", \"Topic5\", \"Topic5\", \"Topic5\", \"Topic5\", \"Topic5\", \"Topic5\", \"Topic5\", \"Topic5\", \"Topic5\", \"Topic5\", \"Topic5\", \"Topic5\", \"Topic5\", \"Topic5\", \"Topic5\", \"Topic5\", \"Topic5\", \"Topic5\", \"Topic5\", \"Topic5\", \"Topic5\", \"Topic5\", \"Topic5\", \"Topic5\", \"Topic5\", \"Topic5\", \"Topic5\", \"Topic5\", \"Topic5\", \"Topic5\", \"Topic5\", \"Topic5\", \"Topic5\", \"Topic5\", \"Topic5\", \"Topic5\", \"Topic6\", \"Topic6\", \"Topic6\", \"Topic6\", \"Topic6\", \"Topic6\", \"Topic6\", \"Topic6\", \"Topic6\", \"Topic6\", \"Topic6\", \"Topic6\", \"Topic6\", \"Topic6\", \"Topic6\", \"Topic6\", \"Topic6\", \"Topic6\", \"Topic6\", \"Topic6\", \"Topic6\", \"Topic6\", \"Topic6\", \"Topic6\", \"Topic6\", \"Topic6\", \"Topic6\", \"Topic6\", \"Topic6\", \"Topic6\", \"Topic6\", \"Topic6\", \"Topic6\", \"Topic6\", \"Topic6\", \"Topic6\", \"Topic6\", \"Topic6\", \"Topic6\", \"Topic6\", \"Topic6\", \"Topic6\", \"Topic6\", \"Topic6\", \"Topic6\", \"Topic6\", \"Topic6\", \"Topic6\", \"Topic6\", \"Topic6\", \"Topic6\", \"Topic6\", \"Topic6\", \"Topic6\", \"Topic6\", \"Topic6\", \"Topic6\", \"Topic6\", \"Topic6\", \"Topic6\", \"Topic6\", \"Topic6\", \"Topic6\", \"Topic6\", \"Topic6\", \"Topic6\", \"Topic6\", \"Topic6\", \"Topic6\", \"Topic6\", \"Topic6\", \"Topic6\", \"Topic7\", \"Topic7\", \"Topic7\", \"Topic7\", \"Topic7\", \"Topic7\", \"Topic7\", \"Topic7\", \"Topic7\", \"Topic7\", \"Topic7\", \"Topic7\", \"Topic7\", \"Topic7\", \"Topic7\", \"Topic7\", \"Topic7\", \"Topic7\", \"Topic7\", \"Topic7\", \"Topic7\", \"Topic7\", \"Topic7\", \"Topic7\", \"Topic7\", \"Topic7\", \"Topic7\", \"Topic7\", \"Topic7\", \"Topic7\", \"Topic7\", \"Topic7\", \"Topic7\", \"Topic7\", \"Topic7\", \"Topic7\", \"Topic7\", \"Topic7\", \"Topic7\", \"Topic7\", \"Topic7\", \"Topic7\", \"Topic7\", \"Topic7\", \"Topic7\", \"Topic7\", \"Topic7\", \"Topic7\", \"Topic7\", \"Topic7\", \"Topic7\", \"Topic7\", \"Topic7\", \"Topic7\", \"Topic7\", \"Topic7\", \"Topic7\", \"Topic7\", \"Topic7\", \"Topic7\", \"Topic7\", \"Topic7\", \"Topic7\", \"Topic7\", \"Topic7\", \"Topic7\", \"Topic7\", \"Topic7\", \"Topic7\", \"Topic7\", \"Topic7\", \"Topic7\", \"Topic7\", \"Topic7\", \"Topic8\", \"Topic8\", \"Topic8\", \"Topic8\", \"Topic8\", \"Topic8\", \"Topic8\", \"Topic8\", \"Topic8\", \"Topic8\", \"Topic8\", \"Topic8\", \"Topic8\", \"Topic8\", \"Topic8\", \"Topic8\", \"Topic8\", \"Topic8\", \"Topic8\", \"Topic8\", \"Topic8\", \"Topic8\", \"Topic8\", \"Topic8\", \"Topic8\", \"Topic8\", \"Topic8\", \"Topic8\", \"Topic8\", \"Topic8\", \"Topic8\", \"Topic8\", \"Topic8\", \"Topic8\", \"Topic8\", \"Topic8\", \"Topic8\", \"Topic8\", \"Topic8\", \"Topic8\", \"Topic8\", \"Topic8\", \"Topic8\", \"Topic8\", \"Topic8\", \"Topic8\", \"Topic8\", \"Topic8\", \"Topic8\", \"Topic8\", \"Topic8\", \"Topic8\", \"Topic8\", \"Topic8\", \"Topic8\", \"Topic8\", \"Topic8\", \"Topic8\", \"Topic8\", \"Topic8\", \"Topic8\", \"Topic8\", \"Topic8\", \"Topic8\", \"Topic8\", \"Topic8\", \"Topic8\", \"Topic8\", \"Topic8\", \"Topic8\", \"Topic8\", \"Topic8\", \"Topic8\", \"Topic8\", \"Topic8\", \"Topic8\", \"Topic8\", \"Topic9\", \"Topic9\", \"Topic9\", \"Topic9\", \"Topic9\", \"Topic9\", \"Topic9\", \"Topic9\", \"Topic9\", \"Topic9\", \"Topic9\", \"Topic9\", \"Topic9\", \"Topic9\", \"Topic9\", \"Topic9\", \"Topic9\", \"Topic9\", \"Topic9\", \"Topic9\", \"Topic9\", \"Topic9\", \"Topic9\", \"Topic9\", \"Topic9\", \"Topic9\", \"Topic9\", \"Topic9\", \"Topic9\", \"Topic9\", \"Topic9\", \"Topic9\", \"Topic9\", \"Topic9\", \"Topic9\", \"Topic9\", \"Topic9\", \"Topic9\", \"Topic9\", \"Topic9\", \"Topic9\", \"Topic9\", \"Topic9\", \"Topic9\", \"Topic9\", \"Topic9\", \"Topic9\", \"Topic9\", \"Topic9\", \"Topic9\", \"Topic9\", \"Topic9\", \"Topic9\", \"Topic9\", \"Topic9\", \"Topic9\", \"Topic9\", \"Topic9\", \"Topic9\", \"Topic9\", \"Topic9\", \"Topic9\", \"Topic9\", \"Topic9\", \"Topic9\", \"Topic9\", \"Topic9\", \"Topic9\", \"Topic9\", \"Topic9\", \"Topic9\", \"Topic10\", \"Topic10\", \"Topic10\", \"Topic10\", \"Topic10\", \"Topic10\", \"Topic10\", \"Topic10\", \"Topic10\", \"Topic10\", \"Topic10\", \"Topic10\", \"Topic10\", \"Topic10\", \"Topic10\", \"Topic10\", \"Topic10\", \"Topic10\", \"Topic10\", \"Topic10\", \"Topic10\", \"Topic10\", \"Topic10\", \"Topic10\", \"Topic10\", \"Topic10\", \"Topic10\", \"Topic10\", \"Topic10\", \"Topic10\", \"Topic10\", \"Topic10\", \"Topic10\", \"Topic10\", \"Topic10\", \"Topic10\", \"Topic10\", \"Topic10\", \"Topic10\", \"Topic10\", \"Topic10\", \"Topic10\", \"Topic10\", \"Topic10\", \"Topic10\", \"Topic10\", \"Topic10\", \"Topic10\", \"Topic10\", \"Topic10\", \"Topic10\", \"Topic10\", \"Topic10\", \"Topic10\", \"Topic10\", \"Topic10\", \"Topic10\", \"Topic10\", \"Topic10\", \"Topic10\", \"Topic10\", \"Topic10\", \"Topic10\", \"Topic10\", \"Topic10\", \"Topic10\", \"Topic10\", \"Topic10\", \"Topic10\", \"Topic10\", \"Topic10\", \"Topic10\", \"Topic10\", \"Topic10\", \"Topic10\", \"Topic10\", \"Topic10\"], \"Freq\": [701.0, 565.0, 480.0, 420.0, 367.0, 325.0, 383.0, 303.0, 298.0, 269.0, 263.0, 258.0, 410.0, 219.0, 231.0, 218.0, 272.0, 208.0, 200.0, 199.0, 195.0, 190.0, 238.0, 179.0, 239.0, 190.0, 176.0, 164.0, 234.0, 159.0, 1.0817193846029352, 24.879545845867508, 3.2451581538088052, 20.552668307455768, 1.0817193846029352, 1.0817193846029352, 1.0817193846029352, 1.0817193846029352, 1.0817193846029352, 2.1634387692058703, 4.326877538411741, 33.53330092269099, 4.326877538411741, 16.22579076904403, 1.0817193846029352, 6.4903163076176105, 3.2451581538088052, 1.0817193846029352, 1.0817193846029352, 3.2451581538088052, 1.0817193846029352, 24.879545845867508, 1.0817193846029352, 1.0817193846029352, 1.0817193846029352, 1.0817193846029352, 2.1634387692058703, 1.0817193846029352, 4.326877538411741, 1.0817193846029352, 269.34812676613086, 195.79120861313126, 156.8493107674256, 112.49881599870525, 102.76334153727883, 85.45583138363189, 154.68587199821974, 75.72035692220547, 70.31175999919078, 67.06660184538198, 60.57628553776436, 55.16768861474969, 51.922530460940884, 50.84081107633796, 40.0236172303086, 38.94189784570567, 37.860178461102734, 36.77845907649979, 36.77845907649979, 36.77845907649979, 35.69673969189686, 33.53330092269099, 33.53330092269099, 33.53330092269099, 32.45158153808806, 30.28814276888218, 30.28814276888218, 27.042984615073376, 27.042984615073376, 27.042984615073376, 50.84081107633796, 38.94189784570567, 62.73972430697023, 36.77845907649979, 43.268775384117404, 51.922530460940884, 110.33537722949939, 40.0236172303086, 47.59565292252915, 59.494566153161436, 56.24940799935263, 127.64288738314634, 53.004249845543825, 55.16768861474969, 44.35049476872034, 3.2026301709893312, 13.878064074287101, 3.2026301709893312, 6.4052603419786625, 3.2026301709893312, 6.4052603419786625, 9.607890512967993, 13.878064074287101, 11.742977293627547, 12.810520683957325, 3.2026301709893312, 6.4052603419786625, 3.2026301709893312, 3.2026301709893312, 3.2026301709893312, 6.4052603419786625, 6.4052603419786625, 11.742977293627547, 3.2026301709893312, 3.2026301709893312, 3.2026301709893312, 3.2026301709893312, 13.878064074287101, 9.607890512967993, 19.215781025935986, 9.607890512967993, 3.2026301709893312, 3.2026301709893312, 3.2026301709893312, 3.2026301709893312, 208.17096111430652, 179.34728957540256, 164.40168211078566, 109.95696920396702, 68.32277698110573, 64.05260341978662, 58.714886468137735, 49.106995955169744, 45.904365784180406, 43.76927900352086, 40.56664883253153, 40.56664883253153, 39.49910544220175, 38.43156205187197, 38.43156205187197, 100.34907869099905, 36.296475271212415, 36.296475271212415, 33.09384510022309, 33.09384510022309, 33.09384510022309, 28.823671538903977, 23.485954587255094, 23.485954587255094, 22.41841119692532, 22.41841119692532, 22.41841119692532, 22.41841119692532, 22.41841119692532, 22.41841119692532, 80.06575427473328, 70.45786376176528, 50.174539345499525, 164.40168211078566, 52.30962612615907, 44.83682239385064, 214.57622145628517, 178.27974618507275, 89.67364478770128, 102.4841654716586, 67.25523359077594, 191.09026686903007, 71.52540715209506, 54.44471290681863, 45.904365784180406, 49.106995955169744, 44.83682239385064, 66.18769020044618, 51.2420827358293, 57.64734307780795, 1.0117115561521894, 1.0117115561521894, 5.058557780760947, 4.046846224608758, 5.058557780760947, 2.023423112304379, 1.0117115561521894, 2.023423112304379, 1.0117115561521894, 4.046846224608758, 5.058557780760947, 1.0117115561521894, 14.16396178613065, 1.0117115561521894, 3.0351346684565685, 7.081980893065325, 9.105404005369705, 1.0117115561521894, 1.0117115561521894, 1.0117115561521894, 1.0117115561521894, 9.105404005369705, 8.093692449217516, 2.023423112304379, 1.0117115561521894, 3.0351346684565685, 1.0117115561521894, 3.0351346684565685, 2.023423112304379, 5.058557780760947, 298.45490906489584, 176.03781077048097, 97.1243093906102, 95.10088627830581, 78.91350137987078, 77.90178982371859, 75.8783667114142, 141.63961786130653, 67.78467426219669, 66.7729627060445, 59.69098181297918, 59.69098181297918, 59.69098181297918, 58.67927025682698, 56.6558471445226, 54.63242403221823, 53.62071247606604, 52.60900091991385, 47.550443139152904, 46.53873158300071, 42.491885358391954, 111.28827117674084, 109.26484806443646, 39.45675068993539, 38.4450391337832, 38.4450391337832, 36.42161602147882, 35.40990446532663, 35.40990446532663, 35.40990446532663, 385.46210289398414, 49.57386625145728, 43.50359691454415, 113.3116942890452, 46.53873158300071, 99.14773250291456, 115.33511740134959, 85.9954822729361, 57.667558700674796, 79.92521293602297, 92.06575160984924, 65.76125114989232, 54.63242403221823, 1.019559754196744, 1.019559754196744, 11.215157296164184, 1.019559754196744, 1.019559754196744, 1.019559754196744, 3.058679262590232, 4.078239016786976, 1.019559754196744, 5.09779877098372, 4.078239016786976, 20.39119508393488, 7.136918279377208, 15.29339631295116, 12.234717050360928, 7.136918279377208, 1.019559754196744, 3.058679262590232, 7.136918279377208, 24.469434100721855, 19.371635329738137, 6.117358525180464, 1.019559754196744, 49.95842795564045, 3.058679262590232, 8.156478033573952, 2.039119508393488, 1.019559754196744, 1.019559754196744, 2.039119508393488, 303.82880675062967, 100.93641566547767, 85.6430193525265, 83.60389984413301, 76.4669815647558, 56.07578648082092, 56.07578648082092, 49.95842795564045, 49.95842795564045, 48.93886820144371, 46.89974869305023, 45.88018893885348, 42.82150967626325, 42.82150967626325, 38.74327065947627, 37.72371090527953, 37.72371090527953, 36.70415115108278, 36.70415115108278, 34.66503164268929, 34.66503164268929, 34.66503164268929, 32.62591213429581, 30.58679262590232, 30.58679262590232, 30.58679262590232, 30.58679262590232, 30.58679262590232, 29.567232871705578, 182.50119600121715, 64.23226451439487, 63.212704760198136, 59.134465743411155, 47.91930844724697, 39.762830413673015, 98.89729615708417, 80.54522058154278, 115.21025222423208, 51.99754746403395, 58.11490598921441, 61.17358525180464, 53.01710721823069, 51.99754746403395, 51.99754746403395, 39.762830413673015, 0.9911999723668746, 7.929599778934997, 1.9823999447337493, 1.9823999447337493, 2.973599917100624, 7.929599778934997, 21.80639939207124, 8.920799751301871, 7.929599778934997, 0.9911999723668746, 11.894399668402496, 1.9823999447337493, 10.90319969603562, 3.9647998894674985, 4.955999861834373, 0.9911999723668746, 39.647998894674984, 2.973599917100624, 3.9647998894674985, 7.929599778934997, 0.9911999723668746, 0.9911999723668746, 30.72719914337311, 16.850399530236867, 0.9911999723668746, 11.894399668402496, 0.9911999723668746, 68.39279809331435, 0.9911999723668746, 0.9911999723668746, 366.7439897757436, 159.5831955510668, 153.63599571686558, 129.84719638006058, 105.06719707088871, 104.07599709852182, 228.967193616748, 93.17279740248621, 91.19039745775247, 84.25199765118434, 78.3047978169831, 72.35759798278184, 70.3751980380481, 66.4103981485806, 64.42799820384685, 59.47199834201248, 57.489598397278726, 57.489598397278726, 57.489598397278726, 53.524798507811234, 51.54239856307748, 49.55999861834373, 45.595198728876234, 42.62159881177561, 40.639198867041856, 104.07599709852182, 35.683199005207484, 32.709599088106856, 87.22559756828495, 63.436798231479976, 330.06959079816926, 122.90879657349244, 112.00559687745684, 141.74159604846307, 76.32239787224934, 62.4455982591131, 69.38399806568123, 64.42799820384685, 60.46319831437935, 57.489598397278726, 40.707256662098544, 81.41451332419709, 81.41451332419709, 40.707256662098544, 1.0437758118486808, 8.350206494789447, 7.306430682940766, 6.262654871092085, 1.0437758118486808, 1.0437758118486808, 1.0437758118486808, 1.0437758118486808, 2.0875516236973617, 7.306430682940766, 7.306430682940766, 10.437758118486808, 6.262654871092085, 6.262654871092085, 4.175103247394723, 10.437758118486808, 3.1313274355460425, 3.1313274355460425, 5.218879059243404, 1.0437758118486808, 1.0437758118486808, 3.1313274355460425, 1.0437758118486808, 1.0437758118486808, 1.0437758118486808, 5.218879059243404, 158.65392340099947, 110.64023605596014, 96.02737469007863, 86.63339238344051, 84.54584075974314, 82.45828913604578, 79.32696170049974, 73.06430682940766, 68.88920358201293, 68.88920358201293, 66.80165195831557, 64.71410033461821, 58.45144546352613, 126.29687323369038, 49.05746315688799, 42.79480828579591, 42.79480828579591, 41.751032473947234, 39.66348085024987, 39.66348085024987, 39.66348085024987, 39.66348085024987, 38.619705038401186, 36.53215341470383, 36.53215341470383, 33.40082597915779, 33.40082597915779, 129.42820066923642, 43.83858409764459, 110.64023605596014, 82.45828913604578, 63.67032452276952, 86.63339238344051, 92.89604725453259, 58.45144546352613, 69.93297939386161, 85.58961657159182, 57.407669651677445, 84.54584075974314, 56.36389383982877, 63.67032452276952, 55.32011802798007, 1.0451373602487657, 1.0451373602487657, 7.315961521741361, 1.0451373602487657, 4.180549440995063, 4.180549440995063, 2.0902747204975314, 1.0451373602487657, 1.0451373602487657, 1.0451373602487657, 1.0451373602487657, 1.0451373602487657, 1.0451373602487657, 1.0451373602487657, 1.0451373602487657, 1.0451373602487657, 1.0451373602487657, 2.0902747204975314, 1.0451373602487657, 1.0451373602487657, 1.0451373602487657, 1.0451373602487657, 8.361098881990126, 1.0451373602487657, 1.0451373602487657, 1.0451373602487657, 4.180549440995063, 1.0451373602487657, 1.0451373602487657, 2.0902747204975314, 701.2871687269219, 565.4193118945823, 218.43370829199202, 200.66637316776306, 126.46162059010067, 122.2810711491056, 116.010246987613, 109.7394228261204, 98.242911863384, 61.66310425467719, 57.48255481368212, 54.34714273293582, 52.25686801243829, 51.21173065218953, 49.121455931692, 48.07631857144323, 45.9860438509457, 44.94090649069693, 43.895769130448166, 41.80549440995063, 39.7152196894531, 35.534670248458035, 35.534670248458035, 29.263846086965444, 27.17357136646791, 27.17357136646791, 26.128434006219145, 24.038159285721616, 22.99302192547285, 22.99302192547285, 22.99302192547285, 41.80549440995063, 22.99302192547285, 22.99302192547285, 140.04840627333462, 39.7152196894531, 55.39228009318459, 73.1596152174136, 48.07631857144323, 77.34016465840867, 55.39228009318459, 50.166593291940764, 56.437417453433355, 47.031181211194465, 1.0873026429737858, 1.0873026429737858, 1.0873026429737858, 2.1746052859475715, 3.2619079289213575, 5.4365132148689295, 1.0873026429737858, 3.2619079289213575, 8.698421143790286, 1.0873026429737858, 4.349210571895143, 7.611118500816501, 10.873026429737859, 5.4365132148689295, 2.1746052859475715, 3.2619079289213575, 3.2619079289213575, 1.0873026429737858, 2.1746052859475715, 1.0873026429737858, 2.1746052859475715, 2.1746052859475715, 1.0873026429737858, 1.0873026429737858, 8.698421143790286, 3.2619079289213575, 1.0873026429737858, 1.0873026429737858, 15.222237001633003, 1.0873026429737858, 102.20644843953588, 76.11118500816501, 75.02388236519121, 143.52394887253973, 67.41276386437472, 63.063553292479575, 56.539737434636855, 55.45243479166307, 52.19052686274172, 52.19052686274172, 51.10322421976794, 51.10322421976794, 48.92861893382036, 48.92861893382036, 48.92861893382036, 48.92861893382036, 47.84131629084658, 47.84131629084658, 46.75401364787279, 43.492105718951436, 42.40480307597765, 39.14289514705629, 39.14289514705629, 39.14289514705629, 38.055592504082504, 32.61907928921357, 32.61907928921357, 31.531776646239788, 31.531776646239788, 29.357171360292217, 152.22237001633002, 64.15085593545336, 60.88894800653201, 52.19052686274172, 39.14289514705629, 181.57954137662222, 90.24611936682422, 93.50802729574558, 104.38105372548344, 119.60329072711643, 73.93657972221743, 73.93657972221743, 80.46039558006015, 60.88894800653201, 57.62704007761065, 51.10322421976794, 50.01592157679414, 1.087849803818003, 1.087849803818003, 5.439249019090014, 4.351399215272012, 2.175699607636006, 3.263549411454009, 4.351399215272012, 2.175699607636006, 2.175699607636006, 2.175699607636006, 1.087849803818003, 2.175699607636006, 2.175699607636006, 1.087849803818003, 1.087849803818003, 1.087849803818003, 1.087849803818003, 1.087849803818003, 1.087849803818003, 30.45979450690408, 2.175699607636006, 1.087849803818003, 2.175699607636006, 3.263549411454009, 1.087849803818003, 5.439249019090014, 2.175699607636006, 1.087849803818003, 1.087849803818003, 1.087849803818003, 325.26709134158284, 258.90825330868466, 219.7456603712366, 159.91392116124644, 189.2858658643325, 80.50088548253221, 58.74388940617215, 58.74388940617215, 53.30464038708214, 52.21679058326414, 51.12894077944613, 46.77754156417412, 39.162592937448096, 35.899043525994095, 35.899043525994095, 31.54764431072208, 31.54764431072208, 31.54764431072208, 29.371944703086076, 29.371944703086076, 29.371944703086076, 28.284094899268077, 28.284094899268077, 27.196245095450074, 26.10839529163207, 26.10839529163207, 87.02798430544023, 25.02054548781407, 25.02054548781407, 62.00743881762616, 41.33829254508411, 44.60184195653812, 113.1363795970723, 77.2373360710782, 47.865391367992125, 35.899043525994095, 56.56818979853615, 42.42614234890211, 40.250442741266106, 32.63549411454009, 31.54764431072208, 66.36616062730519, 2.106862242136673, 1.0534311210683365, 1.0534311210683365, 1.0534311210683365, 2.106862242136673, 4.213724484273346, 1.0534311210683365, 1.0534311210683365, 1.0534311210683365, 1.0534311210683365, 1.0534311210683365, 2.106862242136673, 10.534311210683365, 3.1602933632050094, 3.1602933632050094, 1.0534311210683365, 4.213724484273346, 7.374017847478355, 5.267155605341682, 1.0534311210683365, 1.0534311210683365, 1.0534311210683365, 3.1602933632050094, 1.0534311210683365, 1.0534311210683365, 3.1602933632050094, 8.427448968546692, 3.1602933632050094, 7.374017847478355, 480.3645912071615, 263.35778026708414, 199.0984818819156, 150.64065031277212, 143.26663246529375, 134.83918349674707, 94.80880089615029, 77.9539029590569, 71.63331623264688, 67.41959174837353, 64.25929838516853, 55.831849416621836, 125.35830340713206, 45.29753820593847, 45.29753820593847, 36.87008923739178, 35.81665811632344, 100.07595650149197, 34.76322699525511, 33.70979587418677, 32.65636475311843, 32.65636475311843, 31.602933632050096, 31.602933632050096, 30.54950251098176, 30.54950251098176, 29.49607138991342, 29.49607138991342, 28.44264026884509, 65.31272950623686, 45.29753820593847, 41.08381372166512, 72.68674735371522, 48.45783156914348, 110.61026771217534, 74.79360959585189, 40.03038260059679, 88.48821416974026, 38.97695147952845, 62.15243614303185, 62.15243614303185, 40.03038260059679, 67.41959174837353, 55.831849416621836, 66.36616062730519, 58.99214277982684, 52.67155605341683], \"Term\": [\"performance\", \"team\", \"group\", \"transformational\", \"employee\", \"charismatic\", \"work\", \"development\", \"subordinate\", \"context\", \"effectiveness\", \"change\", \"role\", \"manager\", \"lmx\", \"member\", \"perception\", \"affect\", \"ceo\", \"task\", \"woman\", \"time\", \"positive\", \"emotion\", \"level\", \"perspective\", \"rating\", \"emotional\", \"develop\", \"charisma\", \"selfless\", \"progress\", \"stereotypical\", \"national\", \"contestable\", \"feed\", \"disciplinary\", \"payment\", \"nominal\", \"pairing\", \"egalitarian\", \"scale\", \"conducive\", \"institution\", \"two_source\", \"ceiling\", \"ryan\", \"fulfillemployee\", \"from247\", \"societal_level\", \"receipt\", \"advancement\", \"work_relate\", \"karasek\", \"self_intereste\", \"issue.we\", \"execute\", \"socially_innovative\", \"continuance\", \"paleogenetic\", \"context\", \"woman\", \"difference\", \"gender\", \"female\", \"culture\", \"power\", \"position\", \"male\", \"public\", \"man\", \"contextual\", \"stereotype\", \"bias\", \"author\", \"board\", \"cultural\", \"status\", \"project\", \"country\", \"pattern\", \"agency\", \"argument\", \"authority\", \"category\", \"choose\", \"aggregate\", \"preference\", \"deal\", \"senior\", \"distance\", \"achieve\", \"phenomenon\", \"society\", \"interview\", \"business\", \"practice\", \"target\", \"traditional\", \"executive\", \"number\", \"role\", \"consequence\", \"emerge\", \"management\", \"reciprocate\", \"self_sacrificial\", \"speculate\", \"transform\", \"diminished\", \"fall\", \"fill\", \"connection\", \"accountability\", \"mind\", \"ii\", \"regulatory\", \"sna\", \"life_cycle\", \"spread\", \"categorization\", \"within_person\", \"labor\", \"hamper\", \"applicant\", \"tkml\", \"affect_lmx\", \"reputation\", \"channel\", \"decrease\", \"advanced\", \"interorganizational\", \"connectedness\", \"aet\", \"spend\", \"affect\", \"emotion\", \"emotional\", \"network\", \"intelligence\", \"evaluation\", \"setting\", \"attribution\", \"notion\", \"expression\", \"regard\", \"underlie\", \"variety\", \"boundary\", \"depend\", \"collective\", \"mood\", \"anger\", \"path\", \"informal\", \"formal\", \"distribute\", \"replicate\", \"wisdom\", \"tie\", \"aim\", \"explicit\", \"avenue\", \"incident\", \"regulation\", \"event\", \"display\", \"reaction\", \"negative\", \"extend\", \"act\", \"perception\", \"positive\", \"link\", \"influence\", \"idea\", \"role\", \"knowledge\", \"importance\", \"build\", \"situation\", \"lack\", \"explore\", \"mechanism\", \"investigate\", \"questionnaire_form\", \"purchase\", \"cfc\", \"perceptual\", \"self-\", \"rwa\", \"relationship_oriented\", \"pr\", \"salary\", \"entitlement\", \"adolescence\", \"verification\", \"intrinsic\", \"optimally\", \"operative\", \"coefficient\", \"aggregation\", \"achille\", \"zhao\", \"mentorship\", \"liquid\", \"parent\", \"facet\", \"monte\", \"full_range_transformational\", \"retraction\", \"protect\", \"editorial\", \"physically\", \"inventory\", \"subordinate\", \"rating\", \"analysis\", \"report\", \"transactional\", \"motivation\", \"rat\", \"trait\", \"orientation\", \"career\", \"developmental\", \"significantly\", \"=\", \"association\", \"expectation\", \"peer\", \"variance\", \"multilevel\", \"agreement\", \"unique\", \"predictor\", \"significant\", \"personality\", \"military\", \"questionnaire\", \"generally\", \"family\", \"officer\", \"age\", \"rater\", \"transformational\", \"early\", \"assessment\", \"experience\", \"empower\", \"high\", \"associate\", \"predict\", \"expect\", \"potential\", \"role\", \"investigate\", \"ability\", \"safe\", \"cor\", \"collection\", \"andmechanism\", \"overwhelmed\", \"overwhelm\", \"piece\", \"introductory\", \"1992_1993\", \"opposite\", \"precursor\", \"image\", \"outlet\", \"extension\", \"meaningful\", \"testable\", \"disciplining\", \"disparate\", \"interesting\", \"politic\", \"overview\", \"omit\", \"sdt\", \"spiritual\", \"cite\", \"citation\", \"broad_based\", \"top_tier\", \"publishing\", \"mahoney\", \"development\", \"political\", \"purpose\", \"interest\", \"multiple\", \"human\", \"design\", \"special\", \"publish\", \"follow\", \"apply\", \"methodological\", \"technique\", \"decade\", \"application\", \"review\", \"theme\", \"begin\", \"methodology\", \"systematic\", \"illustrate\", \"journal\", \"assumption\", \"spirituality\", \"quantitative\", \"past\", \"evolutionary\", \"history\", \"practitioner\", \"perspective\", \"year\", \"method\", \"science\", \"multi_level\", \"major\", \"include\", \"view\", \"develop\", \"advance\", \"conduct\", \"direction\", \"general\", \"finally\", \"concern\", \"highlight\", \"petrochemical\", \"congruent\", \"pjps\", \"scss_na\", \"spillover\", \"working\", \"proactive\", \"polynomial\", \"idealized\", \"revenge\", \"partial\", \"person_supervisor\", \"joint\", \"conditional\", \"mainland\", \"two_group\", \"indirect\", \"oid\", \"affiliative\", \"guanxi\", \"protective\", \"devise\", \"fit\", \"coworker\", \"individual_within_group\", \"variability\", \"genesis\", \"dyad\", \"money\", \"re_examin\", \"employee\", \"job\", \"supervisor\", \"authentic\", \"satisfaction\", \"commitment\", \"lmx\", \"climate\", \"psychological\", \"creativity\", \"hypothesize\", \"conflict\", \"relational\", \"attitude\", \"negatively\", \"justice\", \"abusive_supervision\", \"leader_member_exchange_lmx\", \"turn\", \"citizenship\", \"servant\", \"differentiation\", \"ocb\", \"voice\", \"unit\", \"moderate\", \"intention\", \"partially\", \"exchange\", \"identification\", \"work\", \"mediate\", \"hypothesis\", \"perceive\", \"positively\", \"affective\", \"quality\", \"strong\", \"positive\", \"perception\", \"generate\", \"effort\", \"system\", \"solve\", \"institutionalize\", \"originality\", \"devote\", \"commit\", \"beijing\", \"goalwas\", \"simplification\", \"shortage\", \"forecast\", \"charge\", \"encounter\", \"viable\", \"radical\", \"historic\", \"dispute\", \"prove\", \"sl_28\", \"facilitation\", \"educational\", \"flaneur\", \"level(s\", \"modernity\", \"edition\", \"25th\", \"cogliser\", \"sustain\", \"understand\", \"problem\", \"strategy\", \"proposition\", \"complex\", \"involve\", \"critical\", \"environment\", \"innovation\", \"create\", \"case\", \"complexity\", \"activity\", \"vision\", \"order\", \"cognition\", \"temporal\", \"require\", \"adaptive\", \"capacity\", \"benefit\", \"central\", \"solution\", \"substitute\", \"enable\", \"guide\", \"integrative\", \"effective\", \"derive\", \"cognitive\", \"goal\", \"nature\", \"dynamic\", \"lead\", \"set\", \"key\", \"identify\", \"people\", \"explore\", \"integrate\", \"draw\", \"creative\", \"oc\", \"confederation\", \"rodi\", \"leadership_team\", \"between_team\", \"mts\", \"multiteam_interaction\", \"smooth\", \"stand_alone\", \"synchronization\", \"inter_organizational\", \"mediatory\", \"catalog\", \"probation\", \"split_data\", \"internalize\", \"evade\", \"post_test\", \"tee\", \"honest\", \"disengagement\", \"fifty_one\", \"virtuousness\", \"subordinate_reported\", \"conforming\", \"profitable\", \"upper_echelon\", \"ceo_top\", \"rupert\", \"ideation\", \"performance\", \"team\", \"member\", \"ceo\", \"skill\", \"firm\", \"decision\", \"share\", \"strategic\", \"communication\", \"prior\", \"tmt\", \"learn\", \"make\", \"empowerment\", \"program\", \"capital\", \"succession\", \"improve\", \"perform\", \"community\", \"integration\", \"financial\", \"small\", \"external\", \"objective\", \"successful\", \"growth\", \"consist\", \"comprise\", \"motif\", \"learning\", \"virtual\", \"narcissism\", \"management\", \"subsequent\", \"enhance\", \"focus\", \"large\", \"impact\", \"contribute\", \"behavioral\", \"quality\", \"evidence\", \"landy\", \"bedtime\", \"transgress\", \"multidisciplinary\", \"breaking\", \"deploy\", \"non_video\", \"espouse\", \"logic\", \"emotion_sensitive\", \"quo\", \"market\", \"competition\", \"trustworthiness\", \"shop_floor\", \"organisational\", \"award\", \"mechanisms_one\", \"mending\", \"withdraw\", \"na\", \"multi_dimensionality\", \"scss\", \"brazil\", \"top_level\", \"validity\", \"concise\", \"leadership_follower\", \"accuracy\", \"test_wusct\", \"moral\", \"integrity\", \"personal\", \"ethical\", \"consideration\", \"contrast\", \"limitation\", \"face\", \"occur\", \"implicit\", \"contingent\", \"promote\", \"basis\", \"character\", \"good\", \"represent\", \"facial\", \"life\", \"strength\", \"interpersonal\", \"remain\", \"meaning\", \"authenticity\", \"diversity\", \"prototype\", \"pay\", \"foster\", \"diverse\", \"ilt\", \"actual\", \"increase\", \"success\", \"emphasize\", \"domain\", \"common\", \"level\", \"reveal\", \"structure\", \"impact\", \"develop\", \"understanding\", \"trust\", \"practice\", \"specifically\", \"practical\", \"action\", \"account\", \"operant_base\", \"pre-\", \"worth\", \"hybrid\", \"clinical\", \"transformational_transactional\", \"soft\", \"resource_munificent\", \"resource_constrained\", \"pos\", \"3_way\", \"interdisciplinary\", \"sequentially\", \"dense\", \"value_behavior\", \"open_response\", \"kong\", \"t3\", \"emotion_laden\", \"ideological\", \"event_level\", \"multifoci\", \"substantively\", \"height\", \"emotion_regulation\", \"paradoxical\", \"hangover\", \"humane\", \"empirical_descriptive\", \"46_item\", \"charismatic\", \"change\", \"manager\", \"charisma\", \"time\", \"crisis\", \"attribute\", \"reflect\", \"president\", \"u.s\", \"tactic\", \"criterion\", \"differ\", \"presidential\", \"situational\", \"international\", \"tend\", \"impression\", \"period\", \"element\", \"j.\", \"profile\", \"world\", \"pragmatic\", \"light\", \"explanation\", \"content\", \"similarity\", \"weber\", \"managerial\", \"speech\", \"attempt\", \"style\", \"type\", \"give\", \"point\", \"potential\", \"identify\", \"associate\", \"state\", \"addition\", \"feedback\", \"prevailing\", \"10_repeat\", \"avatar\", \"proscribe\", \"incongruity\", \"competent\", \"atypical\", \"elfering\", \"dissatisfaction\", \"formula\", \"first_order\", \"core_business\", \"neuroticism\", \"discriminate\", \"absent\", \"individual_focuse\", \"two_stage\", \"expose\", \"negotiate\", \"countervail\", \"introspection\", \"transporter\", \"discretionary\", \"durkin\", \"clp\", \"inhibition\", \"self_regulation\", \"density\", \"manipulation\", \"group\", \"effectiveness\", \"task\", \"condition\", \"identity\", \"individual\", \"characteristic\", \"information\", \"experiment\", \"function\", \"extent\", \"relative\", \"emergence\", \"training\", \"emergent\", \"intervention\", \"threat\", \"response\", \"independent\", \"extraversion\", \"complete\", \"dominance\", \"score\", \"selection\", \"ideal\", \"norm\", \"efficacy\", \"decision_making\", \"self_efficacy\", \"experimental\", \"receive\", \"interact\", \"control\", \"serve\", \"show\", \"relation\", \"degree\", \"interaction\", \"person\", \"great\", \"compare\", \"shape\", \"ability\", \"attention\", \"perceive\", \"lead\", \"focus\"], \"Total\": [701.0, 565.0, 480.0, 420.0, 367.0, 325.0, 383.0, 303.0, 298.0, 269.0, 263.0, 258.0, 410.0, 219.0, 231.0, 218.0, 272.0, 208.0, 200.0, 199.0, 195.0, 190.0, 238.0, 179.0, 239.0, 190.0, 176.0, 164.0, 234.0, 159.0, 1.0817193846029352, 24.879545845867508, 3.2451581538088052, 20.552668307455768, 1.0817193846029352, 1.0817193846029352, 1.0817193846029352, 1.0817193846029352, 1.0817193846029352, 2.1634387692058703, 4.326877538411741, 33.53330092269099, 4.326877538411741, 16.22579076904403, 1.0817193846029352, 6.4903163076176105, 3.2451581538088052, 1.0817193846029352, 1.0817193846029352, 3.2451581538088052, 1.0817193846029352, 24.879545845867508, 1.0817193846029352, 1.0817193846029352, 1.0817193846029352, 1.0817193846029352, 2.1634387692058703, 1.0817193846029352, 4.326877538411741, 1.0817193846029352, 269.34812676613086, 195.79120861313126, 156.8493107674256, 112.49881599870525, 102.76334153727883, 85.45583138363189, 155.7310093584685, 75.72035692220547, 70.31175999919078, 67.06660184538198, 60.57628553776436, 55.16768861474969, 51.922530460940884, 50.84081107633796, 40.0236172303086, 38.94189784570567, 37.860178461102734, 36.77845907649979, 36.77845907649979, 36.77845907649979, 35.69673969189686, 33.53330092269099, 33.53330092269099, 33.53330092269099, 32.45158153808806, 30.28814276888218, 30.28814276888218, 27.042984615073376, 27.042984615073376, 27.042984615073376, 51.89424219740629, 40.02974764952367, 67.83752307795395, 37.86576171947358, 46.471405555106735, 62.79555689067874, 190.79577280955954, 44.37501644558061, 59.52758208177751, 88.75841224012689, 83.38757910741833, 410.79890586202566, 81.84515171479009, 94.79872991930233, 184.39890104205494, 3.2026301709893312, 13.878064074287101, 3.2026301709893312, 6.4052603419786625, 3.2026301709893312, 6.4052603419786625, 9.607890512967993, 13.878064074287101, 11.742977293627547, 12.810520683957325, 3.2026301709893312, 6.4052603419786625, 3.2026301709893312, 3.2026301709893312, 3.2026301709893312, 6.4052603419786625, 6.4052603419786625, 11.742977293627547, 3.2026301709893312, 3.2026301709893312, 3.2026301709893312, 3.2026301709893312, 13.878064074287101, 9.607890512967993, 19.215781025935986, 9.607890512967993, 3.2026301709893312, 3.2026301709893312, 3.2026301709893312, 3.2026301709893312, 208.17096111430652, 179.34728957540256, 164.40168211078566, 109.95696920396702, 68.32277698110573, 64.05260341978662, 58.714886468137735, 49.106995955169744, 45.904365784180406, 43.76927900352086, 40.56664883253153, 40.56664883253153, 39.49910544220175, 38.43156205187197, 38.43156205187197, 101.3686384451958, 36.296475271212415, 36.296475271212415, 33.09384510022309, 33.09384510022309, 33.09384510022309, 28.823671538903977, 23.485954587255094, 23.485954587255094, 22.41841119692532, 22.41841119692532, 22.41841119692532, 22.41841119692532, 22.41841119692532, 22.41841119692532, 81.11918539580162, 72.48128687406967, 51.22797046656786, 178.2784817239219, 54.397177749856425, 46.81922233858439, 272.0658198535639, 238.7429444994521, 112.66666671317412, 136.99028588150702, 83.95564658035484, 410.79890586202566, 104.96980268005555, 73.88067470279269, 56.77739221391826, 66.95739315801353, 55.032419935818076, 187.8695541234036, 85.93408176866991, 153.1445933987065, 1.0117115561521894, 1.0117115561521894, 5.058557780760947, 4.046846224608758, 5.058557780760947, 2.023423112304379, 1.0117115561521894, 2.023423112304379, 1.0117115561521894, 4.046846224608758, 5.058557780760947, 1.0117115561521894, 14.16396178613065, 1.0117115561521894, 3.0351346684565685, 7.081980893065325, 9.105404005369705, 1.0117115561521894, 1.0117115561521894, 1.0117115561521894, 1.0117115561521894, 9.105404005369705, 8.093692449217516, 2.023423112304379, 1.0117115561521894, 3.0351346684565685, 1.0117115561521894, 3.0351346684565685, 2.023423112304379, 5.058557780760947, 298.45490906489584, 176.03781077048097, 97.1243093906102, 95.10088627830581, 78.91350137987078, 77.90178982371859, 75.8783667114142, 142.6308178336734, 67.78467426219669, 66.7729627060445, 59.69098181297918, 59.69098181297918, 59.69098181297918, 58.67927025682698, 56.6558471445226, 54.63242403221823, 53.62071247606604, 52.60900091991385, 47.550443139152904, 46.53873158300071, 42.491885358391954, 112.37612098055884, 110.3182791855048, 39.45675068993539, 38.4450391337832, 38.4450391337832, 36.42161602147882, 35.40990446532663, 35.40990446532663, 35.40990446532663, 420.15410192682475, 50.661716055275285, 44.52315666874089, 138.1629518713781, 48.52113152773446, 126.53694165069132, 155.5855601426157, 110.71088179596686, 68.20186991135816, 142.8986630765378, 410.79890586202566, 153.1445933987065, 122.05201578059177, 1.019559754196744, 1.019559754196744, 11.215157296164184, 1.019559754196744, 1.019559754196744, 1.019559754196744, 3.058679262590232, 4.078239016786976, 1.019559754196744, 5.09779877098372, 4.078239016786976, 20.39119508393488, 7.136918279377208, 15.29339631295116, 12.234717050360928, 7.136918279377208, 1.019559754196744, 3.058679262590232, 7.136918279377208, 24.469434100721855, 19.371635329738137, 6.117358525180464, 1.019559754196744, 49.95842795564045, 3.058679262590232, 8.156478033573952, 2.039119508393488, 1.019559754196744, 1.019559754196744, 2.039119508393488, 303.82880675062967, 100.93641566547767, 85.6430193525265, 83.60389984413301, 76.4669815647558, 56.07578648082092, 56.07578648082092, 49.95842795564045, 49.95842795564045, 48.93886820144371, 46.89974869305023, 45.88018893885348, 42.82150967626325, 42.82150967626325, 38.74327065947627, 37.72371090527953, 37.72371090527953, 36.70415115108278, 36.70415115108278, 34.66503164268929, 34.66503164268929, 34.66503164268929, 32.62591213429581, 30.58679262590232, 30.58679262590232, 30.58679262590232, 30.58679262590232, 30.58679262590232, 29.567232871705578, 190.0732316934377, 65.29980790472464, 64.25648057204681, 60.221768386384944, 49.0010278318499, 40.80796777392178, 122.73362373705743, 110.43643551077653, 234.8135429513485, 70.14578509964016, 85.43738558143318, 94.19108693406483, 78.46217261736706, 79.16336376326603, 89.08240695468821, 67.50484629298577, 0.9911999723668746, 7.929599778934997, 1.9823999447337493, 1.9823999447337493, 2.973599917100624, 7.929599778934997, 21.80639939207124, 8.920799751301871, 7.929599778934997, 0.9911999723668746, 11.894399668402496, 1.9823999447337493, 10.90319969603562, 3.9647998894674985, 4.955999861834373, 0.9911999723668746, 39.647998894674984, 2.973599917100624, 3.9647998894674985, 7.929599778934997, 0.9911999723668746, 0.9911999723668746, 30.72719914337311, 16.850399530236867, 0.9911999723668746, 11.894399668402496, 0.9911999723668746, 68.39279809331435, 0.9911999723668746, 0.9911999723668746, 367.7877655875923, 159.5831955510668, 153.63599571686558, 129.84719638006058, 105.06719707088871, 104.07599709852182, 231.0318907311935, 93.17279740248621, 91.19039745775247, 84.25199765118434, 78.3047978169831, 72.35759798278184, 70.3751980380481, 66.4103981485806, 64.42799820384685, 59.47199834201248, 57.489598397278726, 57.489598397278726, 57.489598397278726, 53.524798507811234, 51.54239856307748, 49.55999861834373, 45.595198728876234, 42.62159881177561, 40.639198867041856, 105.12942821959017, 35.683199005207484, 32.709599088106856, 88.2790286893533, 65.54366047361665, 383.30215720245195, 137.54071961697517, 139.73352124428808, 209.1894760603712, 118.8142832306413, 84.86400945603842, 125.82141551911458, 112.26931449469343, 238.7429444994521, 272.0658198535639, 40.707256662098544, 81.41451332419709, 81.41451332419709, 40.707256662098544, 1.0437758118486808, 8.350206494789447, 7.306430682940766, 6.262654871092085, 1.0437758118486808, 1.0437758118486808, 1.0437758118486808, 1.0437758118486808, 2.0875516236973617, 7.306430682940766, 7.306430682940766, 10.437758118486808, 6.262654871092085, 6.262654871092085, 4.175103247394723, 10.437758118486808, 3.1313274355460425, 3.1313274355460425, 5.218879059243404, 1.0437758118486808, 1.0437758118486808, 3.1313274355460425, 1.0437758118486808, 1.0437758118486808, 1.0437758118486808, 5.218879059243404, 158.65392340099947, 110.64023605596014, 96.02737469007863, 86.63339238344051, 84.54584075974314, 82.45828913604578, 79.32696170049974, 73.06430682940766, 68.88920358201293, 68.88920358201293, 66.80165195831557, 64.71410033461821, 58.45144546352613, 127.28807320605725, 49.05746315688799, 42.79480828579591, 42.79480828579591, 41.751032473947234, 39.66348085024987, 39.66348085024987, 39.66348085024987, 39.66348085024987, 38.619705038401186, 36.53215341470383, 36.53215341470383, 33.40082597915779, 33.40082597915779, 145.22966748526147, 44.850295653796785, 138.39636420453434, 99.06426247833332, 72.03142340475965, 108.08062031505357, 151.88819003435944, 76.66225347426554, 108.81173583089198, 165.93927927895405, 80.25251553185551, 187.8695541234036, 78.84301192614839, 129.20545957547023, 90.01211706082069, 1.0451373602487657, 1.0451373602487657, 7.315961521741361, 1.0451373602487657, 4.180549440995063, 4.180549440995063, 2.0902747204975314, 1.0451373602487657, 1.0451373602487657, 1.0451373602487657, 1.0451373602487657, 1.0451373602487657, 1.0451373602487657, 1.0451373602487657, 1.0451373602487657, 1.0451373602487657, 1.0451373602487657, 2.0902747204975314, 1.0451373602487657, 1.0451373602487657, 1.0451373602487657, 1.0451373602487657, 8.361098881990126, 1.0451373602487657, 1.0451373602487657, 1.0451373602487657, 4.180549440995063, 1.0451373602487657, 1.0451373602487657, 2.0902747204975314, 701.2871687269219, 565.4193118945823, 218.43370829199202, 200.66637316776306, 126.46162059010067, 122.2810711491056, 116.010246987613, 109.7394228261204, 98.242911863384, 61.66310425467719, 57.48255481368212, 54.34714273293582, 52.25686801243829, 51.21173065218953, 49.121455931692, 48.07631857144323, 45.9860438509457, 44.94090649069693, 43.895769130448166, 41.80549440995063, 39.7152196894531, 35.534670248458035, 35.534670248458035, 29.263846086965444, 27.17357136646791, 27.17357136646791, 26.128434006219145, 24.038159285721616, 22.99302192547285, 22.99302192547285, 22.99302192547285, 42.817205966102826, 22.99302192547285, 22.99302192547285, 184.39890104205494, 43.92894417372645, 70.53635147762569, 125.83117127083042, 67.67688730118866, 181.7212183838921, 97.96823976875906, 90.39679108197083, 125.82141551911458, 104.31834382916058, 1.0873026429737858, 1.0873026429737858, 1.0873026429737858, 2.1746052859475715, 3.2619079289213575, 5.4365132148689295, 1.0873026429737858, 3.2619079289213575, 8.698421143790286, 1.0873026429737858, 4.349210571895143, 7.611118500816501, 10.873026429737859, 5.4365132148689295, 2.1746052859475715, 3.2619079289213575, 3.2619079289213575, 1.0873026429737858, 2.1746052859475715, 1.0873026429737858, 2.1746052859475715, 2.1746052859475715, 1.0873026429737858, 1.0873026429737858, 8.698421143790286, 3.2619079289213575, 1.0873026429737858, 1.0873026429737858, 15.222237001633003, 1.0873026429737858, 102.20644843953588, 76.11118500816501, 75.02388236519121, 144.54350862673647, 67.41276386437472, 63.063553292479575, 56.539737434636855, 55.45243479166307, 52.19052686274172, 52.19052686274172, 51.10322421976794, 51.10322421976794, 48.92861893382036, 48.92861893382036, 48.92861893382036, 48.92861893382036, 47.84131629084658, 47.84131629084658, 46.75401364787279, 43.492105718951436, 42.40480307597765, 39.14289514705629, 39.14289514705629, 39.14289514705629, 38.055592504082504, 32.61907928921357, 32.61907928921357, 31.531776646239788, 31.531776646239788, 29.357171360292217, 155.48591942778404, 65.14205590782024, 64.0558475865349, 55.32185429828776, 40.21043853738606, 239.31773385969802, 115.55669081098716, 130.04018071044942, 181.7212183838921, 234.8135429513485, 114.78725993970845, 121.51417839582741, 190.79577280955954, 93.59854709463886, 85.9801849848134, 70.93496464489287, 62.15646025062041, 1.087849803818003, 1.087849803818003, 5.439249019090014, 4.351399215272012, 2.175699607636006, 3.263549411454009, 4.351399215272012, 2.175699607636006, 2.175699607636006, 2.175699607636006, 1.087849803818003, 2.175699607636006, 2.175699607636006, 1.087849803818003, 1.087849803818003, 1.087849803818003, 1.087849803818003, 1.087849803818003, 1.087849803818003, 30.45979450690408, 2.175699607636006, 1.087849803818003, 2.175699607636006, 3.263549411454009, 1.087849803818003, 5.439249019090014, 2.175699607636006, 1.087849803818003, 1.087849803818003, 1.087849803818003, 325.26709134158284, 258.90825330868466, 219.7456603712366, 159.91392116124644, 190.35340925466227, 80.50088548253221, 58.74388940617215, 58.74388940617215, 53.30464038708214, 52.21679058326414, 51.12894077944613, 46.77754156417412, 39.162592937448096, 35.899043525994095, 35.899043525994095, 31.54764431072208, 31.54764431072208, 31.54764431072208, 29.371944703086076, 29.371944703086076, 29.371944703086076, 28.284094899268077, 28.284094899268077, 27.196245095450074, 26.10839529163207, 26.10839529163207, 88.10970369004316, 25.02054548781407, 25.02054548781407, 63.052576177874926, 42.42001192968704, 47.70110513638767, 145.89991607306106, 143.10044407851126, 71.31526571451724, 46.01615908751599, 142.8986630765378, 165.93927927895405, 155.5855601426157, 76.12759983349153, 77.65809457396134, 66.36616062730519, 2.106862242136673, 1.0534311210683365, 1.0534311210683365, 1.0534311210683365, 2.106862242136673, 4.213724484273346, 1.0534311210683365, 1.0534311210683365, 1.0534311210683365, 1.0534311210683365, 1.0534311210683365, 2.106862242136673, 10.534311210683365, 3.1602933632050094, 3.1602933632050094, 1.0534311210683365, 4.213724484273346, 7.374017847478355, 5.267155605341682, 1.0534311210683365, 1.0534311210683365, 1.0534311210683365, 3.1602933632050094, 1.0534311210683365, 1.0534311210683365, 3.1602933632050094, 8.427448968546692, 3.1602933632050094, 7.374017847478355, 480.3645912071615, 263.35778026708414, 199.0984818819156, 150.64065031277212, 143.26663246529375, 134.83918349674707, 94.80880089615029, 77.9539029590569, 71.63331623264688, 67.41959174837353, 64.25929838516853, 55.831849416621836, 126.44615321095006, 45.29753820593847, 45.29753820593847, 36.87008923739178, 35.81665811632344, 101.14349989182175, 34.76322699525511, 33.70979587418677, 32.65636475311843, 32.65636475311843, 31.602933632050096, 31.602933632050096, 30.54950251098176, 30.54950251098176, 29.49607138991342, 29.49607138991342, 28.44264026884509, 67.47616827544273, 46.36508159626825, 42.17111636463891, 82.09298359595411, 52.80704214103862, 143.76411994469166, 90.65280915372189, 42.20608220823279, 118.37942909897401, 41.01607098792194, 78.16558699797851, 84.9972820232099, 43.06551726905336, 122.05201578059177, 91.75635899417304, 209.1894760603712, 151.88819003435944, 125.83117127083042], \"loglift\": [30.0, 29.0, 28.0, 27.0, 26.0, 25.0, 24.0, 23.0, 22.0, 21.0, 20.0, 19.0, 18.0, 17.0, 16.0, 15.0, 14.0, 13.0, 12.0, 11.0, 10.0, 9.0, 8.0, 7.0, 6.0, 5.0, 4.0, 3.0, 2.0, 1.0, 2.3159, 2.3159, 2.3159, 2.3159, 2.3159, 2.3159, 2.3159, 2.3159, 2.3159, 2.3159, 2.3159, 2.3159, 2.3159, 2.3159, 2.3159, 2.3159, 2.3159, 2.3159, 2.3159, 2.3159, 2.3159, 2.3159, 2.3159, 2.3159, 2.3159, 2.3159, 2.3159, 2.3159, 2.3159, 2.3159, 2.3159, 2.3159, 2.3159, 2.3159, 2.3159, 2.3159, 2.3091, 2.3159, 2.3159, 2.3159, 2.3159, 2.3159, 2.3159, 2.3159, 2.3159, 2.3159, 2.3159, 2.3159, 2.3159, 2.3159, 2.3159, 2.3159, 2.3159, 2.3159, 2.3159, 2.3159, 2.3159, 2.3159, 2.3159, 2.3159, 2.2954, 2.2883, 2.2377, 2.2867, 2.2445, 2.1257, 1.7682, 2.2127, 2.0922, 1.9158, 1.9222, 1.147, 1.8814, 1.7745, 0.8909, 2.3334, 2.3334, 2.3334, 2.3334, 2.3334, 2.3334, 2.3334, 2.3334, 2.3334, 2.3334, 2.3334, 2.3334, 2.3334, 2.3334, 2.3334, 2.3334, 2.3334, 2.3334, 2.3334, 2.3334, 2.3334, 2.3334, 2.3334, 2.3334, 2.3334, 2.3334, 2.3334, 2.3334, 2.3334, 2.3334, 2.3334, 2.3334, 2.3334, 2.3334, 2.3334, 2.3334, 2.3334, 2.3334, 2.3334, 2.3334, 2.3334, 2.3334, 2.3334, 2.3334, 2.3334, 2.3233, 2.3334, 2.3334, 2.3334, 2.3334, 2.3334, 2.3334, 2.3334, 2.3334, 2.3334, 2.3334, 2.3334, 2.3334, 2.3334, 2.3334, 2.3203, 2.3051, 2.3126, 2.2524, 2.2943, 2.2902, 2.096, 2.0414, 2.1052, 2.0432, 2.1116, 1.5681, 1.9498, 2.0282, 2.1208, 2.0234, 2.1285, 1.2902, 1.8164, 1.3564, 2.255, 2.255, 2.255, 2.255, 2.255, 2.255, 2.255, 2.255, 2.255, 2.255, 2.255, 2.255, 2.255, 2.255, 2.255, 2.255, 2.255, 2.255, 2.255, 2.255, 2.255, 2.255, 2.255, 2.255, 2.255, 2.255, 2.255, 2.255, 2.255, 2.255, 2.255, 2.255, 2.255, 2.255, 2.255, 2.255, 2.255, 2.2481, 2.255, 2.255, 2.255, 2.255, 2.255, 2.255, 2.255, 2.255, 2.255, 2.255, 2.255, 2.255, 2.255, 2.2453, 2.2454, 2.255, 2.255, 2.255, 2.255, 2.255, 2.255, 2.255, 2.1689, 2.2333, 2.2319, 2.0567, 2.2133, 2.0111, 1.9557, 2.0024, 2.0873, 1.674, 0.7594, 1.4097, 1.4512, 2.2888, 2.2888, 2.2888, 2.2888, 2.2888, 2.2888, 2.2888, 2.2888, 2.2888, 2.2888, 2.2888, 2.2888, 2.2888, 2.2888, 2.2888, 2.2888, 2.2888, 2.2888, 2.2888, 2.2888, 2.2888, 2.2888, 2.2888, 2.2888, 2.2888, 2.2888, 2.2888, 2.2888, 2.2888, 2.2888, 2.2888, 2.2888, 2.2888, 2.2888, 2.2888, 2.2888, 2.2888, 2.2888, 2.2888, 2.2888, 2.2888, 2.2888, 2.2888, 2.2888, 2.2888, 2.2888, 2.2888, 2.2888, 2.2888, 2.2888, 2.2888, 2.2888, 2.2888, 2.2888, 2.2888, 2.2888, 2.2888, 2.2888, 2.2888, 2.2482, 2.2723, 2.2724, 2.2706, 2.2665, 2.2629, 2.0729, 1.9732, 1.5768, 1.9894, 1.9035, 1.8572, 1.8968, 1.8685, 1.7505, 1.7596, 2.2616, 2.2616, 2.2616, 2.2616, 2.2616, 2.2616, 2.2616, 2.2616, 2.2616, 2.2616, 2.2616, 2.2616, 2.2616, 2.2616, 2.2616, 2.2616, 2.2616, 2.2616, 2.2616, 2.2616, 2.2616, 2.2616, 2.2616, 2.2616, 2.2616, 2.2616, 2.2616, 2.2616, 2.2616, 2.2616, 2.2588, 2.2616, 2.2616, 2.2616, 2.2616, 2.2616, 2.2526, 2.2616, 2.2616, 2.2616, 2.2616, 2.2616, 2.2616, 2.2616, 2.2616, 2.2616, 2.2616, 2.2616, 2.2616, 2.2616, 2.2616, 2.2616, 2.2616, 2.2616, 2.2616, 2.2515, 2.2616, 2.2616, 2.2496, 2.2289, 2.1121, 2.1491, 2.0404, 1.8724, 1.819, 1.9549, 1.6664, 1.7063, 0.8883, 0.7072, 2.3024, 2.3024, 2.3024, 2.3024, 2.3024, 2.3024, 2.3024, 2.3024, 2.3024, 2.3024, 2.3024, 2.3024, 2.3024, 2.3024, 2.3024, 2.3024, 2.3024, 2.3024, 2.3024, 2.3024, 2.3024, 2.3024, 2.3024, 2.3024, 2.3024, 2.3024, 2.3024, 2.3024, 2.3024, 2.3024, 2.3024, 2.3024, 2.3024, 2.3024, 2.3024, 2.3024, 2.3024, 2.3024, 2.3024, 2.3024, 2.3024, 2.3024, 2.3024, 2.2946, 2.3024, 2.3024, 2.3024, 2.3024, 2.3024, 2.3024, 2.3024, 2.3024, 2.3024, 2.3024, 2.3024, 2.3024, 2.3024, 2.1872, 2.2796, 2.0786, 2.1189, 2.179, 2.0812, 1.8108, 2.0312, 1.8603, 1.6404, 1.9674, 1.504, 1.9668, 1.5947, 1.8156, 2.2916, 2.2916, 2.2916, 2.2916, 2.2916, 2.2916, 2.2916, 2.2916, 2.2916, 2.2916, 2.2916, 2.2916, 2.2916, 2.2916, 2.2916, 2.2916, 2.2916, 2.2916, 2.2916, 2.2916, 2.2916, 2.2916, 2.2916, 2.2916, 2.2916, 2.2916, 2.2916, 2.2916, 2.2916, 2.2916, 2.2916, 2.2916, 2.2916, 2.2916, 2.2916, 2.2916, 2.2916, 2.2916, 2.2916, 2.2916, 2.2916, 2.2916, 2.2916, 2.2916, 2.2916, 2.2916, 2.2916, 2.2916, 2.2916, 2.2916, 2.2916, 2.2916, 2.2916, 2.2916, 2.2916, 2.2916, 2.2916, 2.2916, 2.2916, 2.2916, 2.2916, 2.2677, 2.2916, 2.2916, 2.0165, 2.1908, 2.0499, 1.7493, 1.9496, 1.4373, 1.7214, 1.7027, 1.4899, 1.495, 2.3474, 2.3474, 2.3474, 2.3474, 2.3474, 2.3474, 2.3474, 2.3474, 2.3474, 2.3474, 2.3474, 2.3474, 2.3474, 2.3474, 2.3474, 2.3474, 2.3474, 2.3474, 2.3474, 2.3474, 2.3474, 2.3474, 2.3474, 2.3474, 2.3474, 2.3474, 2.3474, 2.3474, 2.3474, 2.3474, 2.3474, 2.3474, 2.3474, 2.3403, 2.3474, 2.3474, 2.3474, 2.3474, 2.3474, 2.3474, 2.3474, 2.3474, 2.3474, 2.3474, 2.3474, 2.3474, 2.3474, 2.3474, 2.3474, 2.3474, 2.3474, 2.3474, 2.3474, 2.3474, 2.3474, 2.3474, 2.3474, 2.3474, 2.3474, 2.3474, 2.3262, 2.332, 2.2967, 2.2891, 2.3205, 2.0713, 2.1002, 2.0176, 1.7929, 1.6728, 1.9075, 1.8505, 1.4839, 1.9174, 1.9472, 2.0195, 2.1301, 2.335, 2.335, 2.335, 2.335, 2.335, 2.335, 2.335, 2.335, 2.335, 2.335, 2.335, 2.335, 2.335, 2.335, 2.335, 2.335, 2.335, 2.335, 2.335, 2.335, 2.335, 2.335, 2.335, 2.335, 2.335, 2.335, 2.335, 2.335, 2.335, 2.335, 2.335, 2.335, 2.335, 2.335, 2.3293, 2.335, 2.335, 2.335, 2.335, 2.335, 2.335, 2.335, 2.335, 2.335, 2.335, 2.335, 2.335, 2.335, 2.335, 2.335, 2.335, 2.335, 2.335, 2.335, 2.335, 2.335, 2.3226, 2.335, 2.335, 2.3182, 2.3091, 2.2678, 2.0806, 1.7183, 1.9362, 2.0867, 1.4083, 0.9711, 0.9829, 1.4879, 1.4341, 2.299, 2.299, 2.299, 2.299, 2.299, 2.299, 2.299, 2.299, 2.299, 2.299, 2.299, 2.299, 2.299, 2.299, 2.299, 2.299, 2.299, 2.299, 2.299, 2.299, 2.299, 2.299, 2.299, 2.299, 2.299, 2.299, 2.299, 2.299, 2.299, 2.299, 2.299, 2.299, 2.299, 2.299, 2.299, 2.299, 2.299, 2.299, 2.299, 2.299, 2.299, 2.299, 2.2903, 2.299, 2.299, 2.299, 2.299, 2.2884, 2.299, 2.299, 2.299, 2.299, 2.299, 2.299, 2.299, 2.299, 2.299, 2.299, 2.299, 2.2664, 2.2757, 2.2728, 2.1773, 2.213, 2.0368, 2.1067, 2.246, 2.0079, 2.248, 2.0697, 1.9859, 2.2259, 1.7055, 1.8022, 1.1509, 1.3532, 1.4281], \"logprob\": [30.0, 29.0, 28.0, 27.0, 26.0, 25.0, 24.0, 23.0, 22.0, 21.0, 20.0, 19.0, 18.0, 17.0, 16.0, 15.0, 14.0, 13.0, 12.0, 11.0, 10.0, 9.0, 8.0, 7.0, 6.0, 5.0, 4.0, 3.0, 2.0, 1.0, -8.6952, -5.5597, -7.5966, -5.7507, -8.6952, -8.6952, -8.6952, -8.6952, -8.6952, -8.002, -7.3089, -5.2612, -7.3089, -5.9871, -8.6952, -6.9034, -7.5966, -8.6952, -8.6952, -7.5966, -8.6952, -5.5597, -8.6952, -8.6952, -8.6952, -8.6952, -8.002, -8.6952, -7.3089, -8.6952, -3.1777, -3.4967, -3.7184, -4.0508, -4.1413, -4.3257, -3.7323, -4.4467, -4.5208, -4.568, -4.6698, -4.7633, -4.824, -4.845, -5.0843, -5.1117, -5.1398, -5.1688, -5.1688, -5.1688, -5.1987, -5.2612, -5.2612, -5.2612, -5.294, -5.363, -5.363, -5.4763, -5.4763, -5.4763, -4.845, -5.1117, -4.6347, -5.1688, -5.0063, -4.824, -4.0702, -5.0843, -4.911, -4.6878, -4.7439, -3.9245, -4.8034, -4.7633, -4.9816, -7.5922, -6.1259, -7.5922, -6.8991, -7.5922, -6.8991, -6.4936, -6.1259, -6.2929, -6.2059, -7.5922, -6.8991, -7.5922, -7.5922, -7.5922, -6.8991, -6.8991, -6.2929, -7.5922, -7.5922, -7.5922, -7.5922, -6.1259, -6.4936, -5.8004, -6.4936, -7.5922, -7.5922, -7.5922, -7.5922, -3.4178, -3.5668, -3.6539, -4.0561, -4.5319, -4.5965, -4.6835, -4.8622, -4.9296, -4.9772, -5.0532, -5.0532, -5.0799, -5.1073, -5.1073, -4.1475, -5.1644, -5.1644, -5.2568, -5.2568, -5.2568, -5.395, -5.5998, -5.5998, -5.6463, -5.6463, -5.6463, -5.6463, -5.6463, -5.6463, -4.3733, -4.5012, -4.8407, -3.6539, -4.799, -4.9531, -3.3875, -3.5728, -4.26, -4.1265, -4.5477, -3.5034, -4.4861, -4.759, -4.9296, -4.8622, -4.9531, -4.5637, -4.8196, -4.7018, -8.8229, -8.8229, -7.2135, -7.4366, -7.2135, -8.1298, -8.8229, -8.1298, -8.8229, -7.4366, -7.2135, -8.8229, -6.1839, -8.8229, -7.7243, -6.877, -6.6257, -8.8229, -8.8229, -8.8229, -8.8229, -6.6257, -6.7435, -8.1298, -8.8229, -7.7243, -8.8229, -7.7243, -8.1298, -7.2135, -3.1359, -3.6639, -4.2586, -4.2796, -4.4662, -4.4791, -4.5054, -3.8813, -4.6182, -4.6333, -4.7454, -4.7454, -4.7454, -4.7625, -4.7976, -4.8339, -4.8526, -4.8717, -4.9728, -4.9943, -5.0852, -4.1224, -4.1408, -5.1593, -5.1853, -5.1853, -5.2394, -5.2676, -5.2676, -5.2676, -2.8801, -4.9311, -5.0617, -4.1044, -4.9943, -4.2379, -4.0867, -4.3803, -4.7799, -4.4535, -4.3121, -4.6485, -4.8339, -8.7814, -8.7814, -6.3835, -8.7814, -8.7814, -8.7814, -7.6828, -7.3951, -8.7814, -7.172, -7.3951, -5.7857, -6.8355, -6.0734, -6.2965, -6.8355, -8.7814, -7.6828, -6.8355, -5.6033, -5.837, -6.9896, -8.7814, -4.8896, -7.6828, -6.702, -8.0883, -8.7814, -8.7814, -8.0883, -3.0843, -4.1863, -4.3506, -4.3747, -4.4639, -4.7741, -4.7741, -4.8896, -4.8896, -4.9102, -4.9528, -4.9747, -5.0437, -5.0437, -5.1438, -5.1705, -5.1705, -5.1979, -5.1979, -5.255, -5.255, -5.255, -5.3157, -5.3802, -5.3802, -5.3802, -5.3802, -5.3802, -5.4141, -3.594, -4.6383, -4.6543, -4.721, -4.9313, -5.1178, -4.2067, -4.412, -4.054, -4.8496, -4.7384, -4.6871, -4.8302, -4.8496, -4.8496, -5.1178, -8.8368, -6.7574, -8.1437, -8.1437, -7.7382, -6.7574, -5.7458, -6.6396, -6.7574, -8.8368, -6.3519, -8.1437, -6.4389, -7.4505, -7.2274, -8.8368, -5.1479, -7.7382, -7.4505, -6.7574, -8.8368, -8.8368, -5.4028, -6.0036, -8.8368, -6.3519, -8.8368, -4.6027, -8.8368, -8.8368, -2.9233, -3.7554, -3.7934, -3.9616, -4.1734, -4.1828, -3.3944, -4.2935, -4.315, -4.3942, -4.4674, -4.5464, -4.5741, -4.6321, -4.6624, -4.7425, -4.7764, -4.7764, -4.7764, -4.8478, -4.8856, -4.9248, -5.0082, -5.0756, -5.1232, -4.1828, -5.2533, -5.3403, -4.3595, -4.6779, -3.0287, -4.0165, -4.1094, -3.874, -4.493, -4.6937, -4.5883, -4.6624, -4.7259, -4.7764, -5.0808, -4.3876, -4.3876, -5.0808, -8.7443, -6.6649, -6.7984, -6.9526, -8.7443, -8.7443, -8.7443, -8.7443, -8.0512, -6.7984, -6.7984, -6.4417, -6.9526, -6.9526, -7.358, -6.4417, -7.6457, -7.6457, -7.1349, -8.7443, -8.7443, -7.6457, -8.7443, -8.7443, -8.7443, -7.1349, -3.7204, -4.0809, -4.2225, -4.3255, -4.3499, -4.3749, -4.4136, -4.4958, -4.5547, -4.5547, -4.5854, -4.6172, -4.719, -3.9485, -4.8942, -5.0308, -5.0308, -5.0554, -5.1067, -5.1067, -5.1067, -5.1067, -5.1334, -5.189, -5.189, -5.2786, -5.2786, -3.924, -5.0067, -4.0809, -4.3749, -4.6335, -4.3255, -4.2557, -4.719, -4.5396, -4.3376, -4.737, -4.3499, -4.7553, -4.6335, -4.774, -8.7538, -8.7538, -6.8079, -8.7538, -7.3676, -7.3676, -8.0607, -8.7538, -8.7538, -8.7538, -8.7538, -8.7538, -8.7538, -8.7538, -8.7538, -8.7538, -8.7538, -8.0607, -8.7538, -8.7538, -8.7538, -8.7538, -6.6744, -8.7538, -8.7538, -8.7538, -7.3676, -8.7538, -8.7538, -8.0607, -2.2451, -2.4604, -3.4115, -3.4963, -3.9581, -3.9917, -4.0443, -4.0999, -4.2106, -4.6763, -4.7465, -4.8026, -4.8418, -4.862, -4.9037, -4.9252, -4.9697, -4.9926, -5.0162, -5.065, -5.1163, -5.2275, -5.2275, -5.4216, -5.4957, -5.4957, -5.535, -5.6184, -5.6628, -5.6628, -5.6628, -5.065, -5.6628, -5.6628, -3.856, -5.1163, -4.7836, -4.5053, -4.9252, -4.4498, -4.7836, -4.8826, -4.7649, -4.9472, -8.6585, -8.6585, -8.6585, -7.9654, -7.5599, -7.0491, -8.6585, -7.5599, -6.5791, -8.6585, -7.2722, -6.7126, -6.3559, -7.0491, -7.9654, -7.5599, -7.5599, -8.6585, -7.9654, -8.6585, -7.9654, -7.9654, -8.6585, -8.6585, -6.5791, -7.5599, -8.6585, -8.6585, -6.0195, -8.6585, -4.1152, -4.41, -4.4244, -3.7757, -4.5314, -4.5981, -4.7073, -4.7267, -4.7873, -4.7873, -4.8084, -4.8084, -4.8519, -4.8519, -4.8519, -4.8519, -4.8743, -4.8743, -4.8973, -4.9696, -4.995, -5.075, -5.075, -5.075, -5.1032, -5.2573, -5.2573, -5.2912, -5.2912, -5.3627, -3.7169, -4.581, -4.6332, -4.7873, -5.075, -3.5405, -4.2397, -4.2042, -4.0942, -3.958, -4.439, -4.439, -4.3545, -4.6332, -4.6882, -4.8084, -4.8299, -8.6704, -8.6704, -7.061, -7.2841, -7.9773, -7.5718, -7.2841, -7.9773, -7.9773, -7.9773, -8.6704, -7.9773, -7.9773, -8.6704, -8.6704, -8.6704, -8.6704, -8.6704, -8.6704, -5.3382, -7.9773, -8.6704, -7.9773, -7.5718, -8.6704, -7.061, -7.9773, -8.6704, -8.6704, -8.6704, -2.97, -3.1982, -3.3622, -3.68, -3.5114, -4.3664, -4.6814, -4.6814, -4.7786, -4.7992, -4.8203, -4.9092, -5.0869, -5.1739, -5.1739, -5.3031, -5.3031, -5.3031, -5.3746, -5.3746, -5.3746, -5.4123, -5.4123, -5.4516, -5.4924, -5.4924, -4.2884, -5.5349, -5.5349, -4.6274, -5.0328, -4.9569, -4.026, -4.4077, -4.8862, -5.1739, -4.7192, -5.0069, -5.0595, -5.2692, -5.3031, -4.5954, -8.0454, -8.7386, -8.7386, -8.7386, -8.0454, -7.3523, -8.7386, -8.7386, -8.7386, -8.7386, -8.7386, -8.0454, -6.436, -7.64, -7.64, -8.7386, -7.3523, -6.7927, -7.1291, -8.7386, -8.7386, -8.7386, -7.64, -8.7386, -8.7386, -7.64, -6.6591, -7.64, -6.7927, -2.6161, -3.2171, -3.4968, -3.7757, -3.8259, -3.8865, -4.2388, -4.4345, -4.5191, -4.5797, -4.6277, -4.7683, -3.9595, -4.9774, -4.9774, -5.1832, -5.2122, -4.1847, -5.2421, -5.2728, -5.3046, -5.3046, -5.3374, -5.3374, -5.3713, -5.3713, -5.4064, -5.4064, -5.4427, -4.6114, -4.9774, -5.075, -4.5045, -4.9099, -4.0846, -4.4759, -5.101, -4.3078, -5.1277, -4.661, -4.661, -5.101, -4.5797, -4.7683, -4.5954, -4.7132, -4.8266]}, \"token.table\": {\"Topic\": [10, 4, 6, 9, 9, 3, 3, 10, 10, 5, 3, 8, 2, 8, 1, 9, 3, 2, 5, 6, 8, 6, 8, 6, 7, 9, 10, 3, 2, 4, 2, 1, 2, 2, 2, 2, 5, 5, 3, 1, 1, 3, 3, 2, 3, 4, 2, 2, 4, 4, 1, 3, 4, 3, 9, 3, 4, 3, 6, 9, 2, 4, 10, 5, 9, 2, 10, 5, 8, 1, 1, 10, 2, 8, 8, 8, 4, 7, 8, 6, 6, 7, 1, 1, 2, 8, 8, 4, 2, 8, 1, 8, 6, 7, 3, 6, 7, 2, 1, 1, 6, 7, 7, 3, 9, 2, 8, 10, 6, 9, 9, 1, 4, 4, 5, 5, 9, 10, 3, 6, 6, 2, 6, 4, 2, 4, 6, 5, 2, 8, 7, 7, 9, 10, 10, 8, 10, 6, 6, 7, 2, 3, 4, 8, 10, 5, 1, 4, 5, 10, 7, 5, 7, 5, 2, 2, 1, 5, 8, 8, 7, 1, 9, 1, 1, 1, 8, 1, 8, 2, 3, 7, 10, 7, 10, 4, 10, 10, 1, 5, 6, 5, 6, 5, 9, 9, 6, 1, 1, 1, 4, 7, 10, 2, 9, 10, 9, 10, 2, 8, 3, 6, 4, 4, 8, 4, 3, 5, 6, 9, 1, 5, 2, 2, 4, 5, 1, 4, 10, 10, 7, 4, 2, 3, 6, 10, 1, 10, 2, 8, 8, 6, 8, 10, 1, 2, 5, 6, 10, 5, 6, 9, 10, 3, 9, 6, 3, 6, 6, 10, 10, 10, 6, 1, 9, 10, 1, 4, 9, 9, 10, 10, 2, 9, 9, 8, 2, 5, 8, 9, 9, 5, 6, 3, 5, 7, 6, 6, 1, 7, 3, 6, 8, 4, 8, 7, 2, 2, 10, 9, 2, 3, 7, 10, 4, 5, 10, 1, 1, 7, 3, 10, 3, 1, 3, 10, 10, 1, 10, 9, 2, 1, 2, 5, 6, 10, 2, 2, 6, 4, 10, 7, 10, 8, 3, 8, 6, 2, 3, 1, 10, 1, 7, 2, 1, 4, 8, 7, 7, 10, 5, 6, 7, 10, 4, 6, 2, 10, 8, 1, 1, 3, 10, 1, 3, 4, 9, 3, 6, 5, 4, 9, 5, 6, 10, 6, 8, 2, 10, 10, 7, 5, 6, 2, 9, 9, 3, 10, 2, 4, 10, 6, 4, 7, 4, 9, 9, 5, 8, 10, 5, 2, 6, 10, 5, 7, 5, 10, 6, 9, 10, 10, 9, 2, 4, 8, 4, 7, 8, 8, 2, 4, 8, 9, 7, 2, 4, 7, 8, 10, 8, 9, 10, 5, 10, 10, 5, 2, 7, 10, 2, 10, 10, 6, 1, 6, 5, 6, 8, 7, 6, 8, 2, 5, 7, 8, 10, 2, 10, 9, 4, 4, 7, 9, 2, 8, 10, 1, 2, 3, 4, 10, 3, 2, 3, 5, 6, 1, 9, 5, 5, 4, 5, 1, 4, 6, 8, 2, 7, 9, 2, 2, 4, 8, 2, 5, 7, 8, 9, 6, 10, 5, 8, 7, 7, 3, 7, 3, 4, 8, 6, 8, 2, 9, 8, 2, 7, 3, 4, 5, 7, 8, 4, 5, 4, 7, 7, 1, 1, 1, 7, 9, 7, 9, 10, 8, 8, 4, 2, 5, 8, 5, 7, 7, 7, 8, 3, 4, 6, 4, 4, 3, 2, 5, 10, 6, 5, 3, 2, 8, 7, 3, 7, 8, 1, 4, 8, 9, 3, 4, 7, 8, 7, 1, 6, 7, 2, 5, 5, 10, 2, 10, 1, 8, 10, 2, 1, 6, 7, 7, 5, 8, 3, 5, 4, 9, 9, 3, 4, 3, 6, 8, 3, 6, 4, 4, 4, 4, 1, 1, 9, 3, 5, 5, 4, 2, 1, 8, 1, 3, 6, 9, 1, 5, 10, 2, 5, 3, 7, 7, 9, 4, 10, 5, 8, 3, 10, 1, 4, 5, 1, 4, 3, 4, 5, 3, 9, 4, 4, 5, 9, 1, 2, 5, 3, 5, 7, 2, 3, 9, 1, 7, 3, 2, 7, 8, 1, 8, 4, 9, 9, 4, 1, 3, 8, 10, 3, 1, 9, 9, 10, 7, 5, 7, 6, 9, 7, 7, 1, 1, 8, 6, 10, 3, 5, 8, 6, 5, 1, 4, 4, 3, 4, 5, 7, 4, 3, 3, 8, 6, 3, 3, 3, 5, 2, 10, 1, 2, 10, 2, 9, 2, 2, 2, 5, 10, 5, 3, 10, 8, 2, 3, 8, 2, 6, 9, 9, 2, 10, 3, 2, 8, 10, 5, 4, 7, 1, 2, 3, 7, 3, 1, 4, 3, 5, 1, 4, 8, 10, 8, 5, 4, 10, 3, 10, 1, 10, 2, 1, 1, 9, 5, 8, 10, 3, 6, 2, 3, 10, 7, 8, 6, 2, 4, 7, 8, 9, 10, 3, 9, 3, 9, 6, 2, 6, 10, 9, 7, 6, 7, 7, 2, 1, 1, 1, 8, 9, 6, 6, 4, 5, 8, 2, 1, 9, 2, 5, 4, 4, 7, 2, 7, 8, 9, 1, 1, 1, 7, 6, 8, 5, 8, 6, 8, 5, 7, 9, 3, 7, 7, 10, 9, 6, 5, 8, 7, 7, 5, 6, 7, 6, 4, 9, 9, 1, 9, 10, 7, 4, 7, 6, 9, 8, 4, 4, 10, 2, 2, 9, 2, 7, 8, 4, 1, 9, 10, 10, 3, 5, 3, 2, 3, 5, 9, 8, 10, 5, 8, 8, 5, 5, 1, 10, 2, 9, 10, 9, 2, 6, 4, 8, 9, 3, 5, 7, 8, 9, 5, 3, 2, 3, 6, 2, 4, 7, 7, 5, 6, 5, 9, 2, 8, 2, 1, 5, 6, 1, 5, 9, 9, 2, 4, 3], \"Freq\": [0.949278960911892, 0.9808154901012603, 0.9580601395896046, 0.9192445468945453, 0.9192445468945453, 1.0051769660614567, 0.4506275430868048, 0.5489462797602895, 0.949278960911892, 0.9914837046887094, 0.19306118706913047, 0.8044216127880437, 1.0218873544541323, 0.9854005031186177, 0.9742754398918644, 0.02498142153568883, 0.9884240166270991, 0.9611436874062484, 0.04271749721805549, 0.2819484030213011, 0.7189684277043178, 0.9922765731463762, 0.9878335907806391, 1.0084843574627418, 0.38630873142822336, 0.4120626468567716, 0.2060313234283858, 0.9884240166270991, 0.25660843305740316, 0.7413132510547202, 1.040811194351431, 1.0048414932844323, 0.9367300749162879, 0.9991787465773737, 0.9367300749162879, 0.2592382818230681, 0.7305806124104646, 1.0088781556481603, 0.988424016627099, 1.013917480965711, 0.9904866148089404, 0.9884240166270991, 1.0094543148532076, 0.9813362689599205, 0.9987201001336313, 0.9808154901012603, 0.9918318440290108, 0.9367300749162879, 1.0066264240512934, 1.0021375659730267, 1.013917480965711, 0.9882497848786137, 0.022460222383604858, 0.739143143454872, 0.2570932672886511, 1.0054658100172216, 1.0114659741669247, 0.02096387488593369, 0.04192774977186738, 0.9433743698670161, 0.05449213607437849, 0.33785124366114666, 0.6103119240330391, 0.9938202727280386, 1.0043597827181143, 0.9978211667586545, 0.949278960911892, 1.0011767956813804, 0.9963493975977137, 0.9994099176450569, 1.013917480965711, 0.949278960911892, 0.9813362689599205, 0.9197071362440433, 1.0014588816879584, 0.9197071362440433, 1.0080603648262954, 0.5531169790602471, 0.44249358324819776, 0.9580601395896046, 1.0084843574627418, 0.9568120306808073, 1.0031311247852246, 1.0014920216401508, 0.9887706346338595, 0.9197071362440433, 0.9197071362440433, 0.9808154901012603, 0.8101816269878573, 0.1937390847144876, 0.8280840647775, 0.17517162908754808, 1.0084843574627418, 1.0003034866208438, 1.0034001380911461, 1.0029692086328672, 0.9568120306808073, 0.9367300749162879, 0.9860844520764561, 0.9244541738216777, 1.0084843574627418, 1.00166259461897, 0.9568120306808073, 0.9884240166270991, 1.0003543598558287, 1.040811194351431, 1.0014588816879584, 1.0020166809625526, 0.9580601395896046, 1.0005382823341988, 0.9991788553201579, 0.9904866148089404, 0.9808154901012603, 0.9808154901012603, 1.0088781556481603, 0.9981454093114779, 0.9192445468945453, 0.949278960911892, 0.9884240166270992, 0.9580601395896046, 1.004794780545195, 0.2023174536479812, 0.802044191247354, 0.9808154901012603, 0.9864984035872619, 0.00986498403587262, 0.9580601395896046, 0.9992697922610352, 0.02486916423630247, 0.9698974052157963, 1.0054634898679669, 1.0071705586113762, 0.270596887953658, 0.7294350892663825, 0.949278960911892, 1.0116778498684476, 1.0105227648416915, 1.00537175142119, 1.0044178882794241, 1.0003034866208438, 0.35921795440795407, 0.056127805376242824, 0.5837291759129254, 0.9197071362440433, 1.0023854762076623, 1.0088781556481603, 0.9244541738216776, 0.6788597240574303, 0.2106806040178232, 0.1053403020089116, 0.9568120306808073, 0.9950579069406514, 0.9568120306808073, 1.0088781556481603, 0.9367300749162879, 1.0087862345252332, 0.6475643198108028, 0.3421094519755184, 0.012218194713411372, 0.9938770665863048, 1.0003034866208438, 0.011349487719512158, 0.9874054315975578, 0.9244541738216776, 0.9987075211165914, 0.9969603835331818, 0.9979800840094937, 0.9244541738216776, 0.998992234196116, 0.3980881976858448, 0.020414779368504863, 0.5614064326338837, 0.010207389684252431, 0.10963178100940113, 0.8892355570762536, 0.9808154901012603, 0.949278960911892, 0.949278960911892, 1.00602365974712, 1.0088781556481605, 1.0016083277527685, 0.38883653826685016, 0.6110288458479074, 0.9970090008758291, 1.0062001121413267, 1.0047556675358984, 0.9958783029944575, 1.0036931030063927, 0.9946658832258556, 0.998410507727412, 1.004168239865576, 0.9999116717024652, 0.9831817809444596, 0.9887706346338595, 0.047386535194917395, 0.9477307038983478, 0.9192445468945453, 0.949278960911892, 0.9887706346338595, 0.9197071362440432, 0.022296397056534127, 0.9810414704875016, 0.9986484990121923, 0.489750286778932, 0.5110437775084509, 1.0005634529892053, 1.0051769660614567, 1.0088781556481603, 0.9580601395896046, 0.9958482591357576, 1.0009607261379543, 1.0088781556481605, 0.9367300749162879, 0.3397349053037309, 0.647619663235237, 0.01061671579074159, 0.9244541738216776, 0.9808154901012603, 0.949278960911892, 0.949278960911892, 0.9568120306808073, 0.9808154901012603, 0.9657665173856432, 0.027593329068161237, 0.9580601395896046, 0.949278960911892, 0.9827679881323907, 0.019269960551615506, 1.00611748787305, 1.0148492537865306, 0.9963493975977137, 0.054228117225146075, 0.939954031902532, 1.0105227648416915, 0.06965649926536585, 0.14705260956021682, 0.29410521912043364, 0.4953351058870461, 0.949278960911892, 0.9942567331025348, 0.804954669453193, 0.11102823026940593, 0.08327117270205445, 0.9869385384704832, 0.019738770769409664, 0.9580601395896046, 0.988424016627099, 0.9580601395896046, 0.8882482638273028, 0.11017032729640966, 0.9986414668793103, 0.9831817809444596, 0.9949086064968973, 0.9244541738216776, 0.9873367355534005, 0.949278960911892, 0.5801765492725366, 0.26371661330569846, 0.14768130345119113, 0.007908504723996629, 0.9885630904995786, 0.9934314707217474, 0.9980635917262829, 0.9192445468945453, 0.9192445468945453, 0.9197071362440433, 0.9975567031576054, 0.01561137722280657, 0.9522940105912007, 0.03122275444561314, 0.9192445468945453, 0.9978580973558658, 0.0027189593933402336, 0.9686501225375383, 0.041219154150533545, 0.9975274362416926, 1.0128064332804392, 0.9580601395896046, 0.21265630679463254, 0.7797397915803193, 0.9884240166270991, 0.9991198598577306, 0.9197071362440433, 0.006918332130586099, 0.9962398268043984, 0.9568120306808073, 0.9991787465773737, 0.9862031973035623, 0.012327539966294529, 0.9192445468945453, 0.1054464593304358, 0.18213479338893457, 0.45054396259368024, 0.25882312744743335, 1.0135093397713024, 0.9855115228572111, 0.011327718653531162, 0.9244541738216776, 0.6647257258318399, 0.3267295940529382, 0.8504165659296804, 0.16128590043493937, 1.0060744454954402, 0.17370792730559667, 0.8178748243971843, 0.007237830304399861, 1.0051188997890623, 0.029640094438022197, 0.9633030692357214, 0.9958482591357573, 0.9813362689599205, 0.15436242522272195, 0.3513075884379189, 0.04258273799247502, 0.45244159117004706, 0.949278960911892, 1.0052712999101627, 0.9559319463064837, 0.03676661331948014, 0.9808154901012603, 0.9959648114485423, 0.9936124933992998, 1.0086088959688853, 0.9918410292827918, 0.9884240166270991, 1.0033168759025926, 0.9580601395896046, 0.9367300749162879, 0.9884240166270991, 0.9244541738216776, 0.9944827209553155, 1.0023029463540296, 0.9568120306808073, 1.040811194351431, 0.03789631791002901, 0.6568695104405028, 0.3031705432802321, 1.0130950913090901, 0.9977014337013546, 0.949278960911892, 1.0088781556481605, 0.9580601395896046, 0.5801424183112767, 0.4211992900068173, 1.0012491461450366, 0.9580601395896046, 0.9971642732979837, 0.949278960911892, 1.0116778498684478, 0.9244541738216776, 0.9244541738216776, 0.9884240166270991, 0.993776412204637, 0.9955660333464221, 0.2931348856749489, 0.675484736555317, 0.02548999005869121, 0.9884240166270991, 1.007191428799328, 1.0088781556481603, 0.3225115936897929, 0.6730676737873938, 0.040377830510521934, 0.8277455254656996, 0.13122794915919628, 0.9580601395896046, 1.0014588816879584, 0.204693658865682, 0.7931879281045177, 0.999241011486202, 0.9984125537538857, 1.0088781556481603, 0.9879995189517797, 0.9367300749162879, 0.9192445468945453, 0.9192445468945452, 0.7823802180496207, 0.213376423104442, 0.39997128328852277, 0.59255004931633, 0.014813751232908252, 0.9580601395896046, 1.0135093397713024, 0.9568120306808073, 0.9986484990121923, 0.9192445468945453, 0.9192445468945453, 0.8015256396795214, 0.07872126818281014, 0.12166014173707021, 0.9961075460829938, 0.7980404264515263, 0.20248786939814847, 1.0147464754575397, 1.0088781556481603, 0.9568120306808073, 0.9611913577112381, 0.030514011355912318, 0.518261862855441, 0.25310463069684325, 0.22899942777333437, 0.9981389074294159, 0.9849048716727271, 0.9367300749162879, 1.0096630045160033, 1.0148492537865306, 0.9808154901012605, 0.4237259725902505, 0.5723052097322865, 0.9963493975977136, 0.7309083223350531, 0.027070678605001966, 0.2301007681425167, 1.0143388103663948, 1.0023745083322742, 0.9813362689599205, 0.8066249246587556, 0.016295453023409203, 0.17924998325750124, 0.949278960911892, 0.9775804816242343, 0.019294351611004623, 1.0068110191489763, 1.0088781556481603, 1.001192654086761, 0.949278960911892, 1.0088781556481603, 0.7445783424981485, 0.23359320548961518, 0.014599575343100949, 0.9971642732979837, 1.0005913371773996, 0.949278960911892, 1.0016083277527685, 0.9860844520764561, 0.9580601395896046, 0.19025148372122538, 0.7102722058925748, 0.10146745798465354, 1.0130950913090901, 0.9879995189517797, 0.9985391764935327, 0.9952757045985559, 1.0088781556481605, 0.9568120306808073, 0.023712912680644953, 0.9722294199064431, 0.2534224081695627, 0.7433723972973839, 0.9192445468945453, 1.0047378191281204, 0.9808154901012603, 0.9568120306808073, 1.0143388103663948, 0.9367300749162879, 0.9886851714623465, 1.0035234729640001, 0.9253001816140407, 0.0645558266242354, 0.9884240166270992, 0.9808154901012603, 0.949278960911892, 0.9884240166270991, 0.3787270494688576, 0.43096526318870004, 0.1958933014494091, 0.9944421702069314, 0.9244541738216776, 0.9873367355534005, 1.0026118317000352, 1.0088781556481605, 1.0096630045160033, 0.992063519720691, 0.9244541738216776, 0.34003685096525765, 0.6433129612856225, 0.018380370322446358, 0.685911549433446, 0.3143761268236628, 0.9192445468945453, 1.0218873544541323, 0.8176998222589802, 0.1817110716131067, 0.9197071362440433, 0.07388046642494123, 0.14776093284988245, 0.7092524776794358, 0.014776093284988245, 0.044328279854964736, 0.6122925026558153, 0.3884436307171301, 0.9914837046887094, 0.9197071362440433, 0.9568120306808073, 0.9950845119080396, 0.023355097032526407, 0.980914075366109, 0.20474872133264746, 0.037606907999874026, 0.7604952506641192, 0.9580601395896046, 1.0033168759025926, 0.9367300749162879, 0.9958482591357573, 1.0081405147290476, 0.7988165677175953, 0.20414201175005214, 0.9884240166270991, 0.0043284067703168476, 0.991205150402558, 0.0043284067703168476, 1.0346705282745488, 0.9808154901012603, 1.0088781556481603, 0.9802007348565367, 0.024505018371413417, 0.9958655829534931, 0.9955660333464221, 1.006994725055756, 0.23861313571475753, 0.7592236136378648, 1.0011574273108907, 0.01585978021229367, 0.9833063731622076, 0.949278960911892, 1.0510938699931922, 0.9963493975977137, 0.9808154901012603, 0.593478151512567, 0.4072889275086244, 0.9197071362440433, 0.8942806198959238, 0.10905861218242974, 0.9568120306808073, 0.9980144626240001, 0.9197071362440433, 0.9884240166270991, 0.9804458544747405, 0.015562632610710166, 1.0026113898812883, 1.0080603648262954, 0.988424016627099, 1.0147909144926452, 0.9892567833886525, 0.00951208445566012, 0.9580601395896046, 1.0088781556481603, 0.9884240166270991, 0.9918318440290108, 0.9979800840094937, 1.0003034866208438, 1.0012606921677107, 0.9568120306808073, 0.9197071362440433, 0.02040773518938343, 0.9795712890904046, 0.9197071362440433, 0.9192445468945453, 1.0074321707930047, 0.9938930299692772, 0.9568120306808073, 0.9197071362440433, 1.0003034866208438, 1.0217651394871174, 0.8885011148588665, 0.11106263935735831, 0.919909113058113, 0.07852882672447305, 0.9933569532535732, 0.949278960911892, 1.0003913421436086, 1.0442068570030814, 0.9244541738216776, 0.9197071362440433, 1.0147464754575397, 1.0020833359569592, 0.6715628466424458, 0.32378922963117923, 0.9936124933992998, 0.9568120306808073, 1.0088781556481603, 0.9963493975977136, 0.988424016627099, 1.0088781556481603, 0.9808154901012603, 0.9192445468945453, 0.9192445468945453, 0.988424016627099, 0.9808154901012605, 0.9884240166270991, 0.9988286561678857, 0.9197071362440433, 1.0031766138901903, 0.9580601395896046, 0.9808154901012603, 0.9808154901012603, 0.9808154901012603, 0.9808154901012603, 0.9244541738216776, 0.9244541738216776, 0.9192445468945453, 0.9884240166270991, 1.0088781556481603, 1.0088781556481605, 1.0135093397713024, 0.9971642732979837, 1.008495462350921, 1.0116778498684478, 0.9244541738216776, 1.0067281650831565, 0.7102581099451564, 0.28659537769716836, 0.004780355201575266, 0.6788104386236877, 0.31550344330396757, 0.7902499480299331, 0.20950812575677297, 0.9884240166270991, 1.0046526322148477, 0.9995905119333023, 0.9873367355534005, 0.048761374549720835, 0.9508468037195562, 1.0088781556481603, 0.999681669830482, 0.9880502198254193, 0.009064680915829534, 0.04208904078036045, 0.9627868078507453, 1.0088781556481603, 0.9286895679785505, 0.07370552126813892, 0.9884240166270991, 0.9808154901012603, 1.0088781556481603, 0.21731496496657765, 0.7823338738796795, 0.9808154901012603, 1.0006299444467401, 1.0088781556481605, 0.9192445468945453, 1.0036931030063927, 0.7455717712336772, 0.2513163273821384, 0.35349285336738473, 0.6396537346647914, 0.9568120306808073, 0.04198779660231214, 0.5598372880308284, 0.3988840677219653, 0.9953059486259038, 0.006421328700812283, 0.9884240166270991, 0.06978352048276908, 0.2558729084368199, 0.6745740313334343, 0.576532689273966, 0.4192965012901571, 1.0146367138978554, 0.9927841106461088, 0.9192445468945453, 0.9808154901012603, 0.15355310809762968, 0.7767980762585972, 0.009032535770448805, 0.054195214622692826, 0.9884240166270991, 0.998410507727412, 0.9942849180696103, 1.0028122329758675, 0.949278960911892, 0.9916051954328365, 1.0088781556481605, 0.9568120306808073, 1.0032516556079825, 0.9899556658864332, 0.9568120306808073, 0.9984125537538857, 1.0048414932844323, 1.00602365974712, 0.9979800840094937, 1.0042317125818747, 0.949278960911892, 0.9884240166270991, 1.0088781556481603, 0.9985391764935327, 0.9580601395896046, 0.9979120887389412, 0.9990069297750387, 1.0008321327563883, 0.9808154901012603, 0.9884240166270991, 1.004168239865576, 0.5483963100821866, 0.44507526615365867, 1.0135093397713024, 0.9884240166270991, 0.9884240166270991, 0.9197071362440433, 0.9580601395896046, 1.0016030035154606, 0.988424016627099, 0.999785212220514, 1.0088781556481603, 0.9760292969761656, 0.01952058593952331, 0.9244541738216776, 0.021567955141493515, 0.9705579813672081, 0.9367300749162879, 1.0043597827181143, 1.0106824492517843, 0.9813362689599205, 0.9367300749162879, 0.1764975641611774, 0.8273323320055191, 0.9946686041601581, 0.9884240166270991, 1.0030117322842633, 0.9904538390320466, 0.9793087146852101, 0.9989391657401533, 1.0014588816879584, 1.0087862345252332, 1.0059631465690848, 0.9192445468945453, 0.9192445468945453, 0.009886942819553922, 0.9886942819553923, 0.988424016627099, 0.017307522272953835, 0.7788385022829225, 0.1990365061389691, 1.0088781556481603, 1.0073240168607538, 0.9568120306808072, 0.31158797692365603, 0.464947684315768, 0.22395385841387777, 0.9568120306808073, 0.9884240166270991, 0.9244541738216777, 0.9808154901012603, 0.9884240166270991, 0.9993604371986494, 1.013917480965711, 0.9797121801780041, 0.016605291189457697, 1.0125642249726847, 0.9197071362440433, 1.0088781556481603, 0.9808154901012603, 1.0125642249726847, 0.9884240166270991, 0.9844374409456657, 0.9244541738216776, 0.949278960911892, 1.0087862345252332, 0.9244541738216776, 0.998410507727412, 0.9192445468945453, 1.0088781556481605, 0.07574747302294797, 0.9089696762753757, 0.23479612435398017, 0.7565652895850472, 1.0048558985465634, 0.06966130190094763, 0.9288173586793018, 1.0023745083322744, 0.9197071362440433, 0.9580601395896046, 0.13911676994019312, 0.013911676994019313, 0.006955838497009656, 0.06260254647308691, 0.006955838497009656, 0.7720980731680719, 0.9877543292244719, 0.008898687650670919, 1.0051769660614567, 0.9991788553201578, 0.9580601395896046, 0.7318086575497993, 0.08960922337344482, 0.17921844674688964, 1.0028122329758675, 0.9963497178990224, 0.9580601395896046, 0.9909838889194075, 0.9568120306808073, 0.9367300749162879, 0.9244541738216776, 0.9244541738216777, 0.977136027900679, 0.026409081835153485, 0.9192445468945453, 1.0098471741620159, 1.007191428799328, 1.0008321327563883, 0.3525695753229291, 0.6517195180211719, 0.9367300749162879, 0.023573779320419385, 0.9665249521371948, 0.9367300749162879, 1.0088781556481603, 1.0008321327563883, 1.0135093397713024, 0.9568120306808073, 0.9367300749162879, 0.9568120306808073, 0.5648411363822166, 0.4334827325723988, 1.00602365974712, 1.0014920216401508, 0.9244541738216777, 0.9975274362416926, 0.9997149282674135, 1.0052612884527916, 0.5700578139989004, 0.4275433604991753, 0.2845274421940791, 0.7228535017903631, 0.21932843322525034, 0.006854013538289073, 0.7745035298266653, 0.9984757862877138, 0.9568120306808073, 0.9105613793450488, 0.09105613793450487, 0.9192445468945453, 1.0128064332804392, 0.01535106600588501, 0.9824682243766406, 0.9950845119080396, 1.0013149158287518, 1.002369264321398, 0.9580601395896046, 0.9568120306808073, 0.9949086064968973, 1.0096630045160033, 0.9192445468945453, 0.9974781253536555, 0.9014081166382006, 0.09014081166382006, 0.9995053609601403, 0.999258405424503, 1.004168239865576, 0.9568120306808073, 1.004794780545195, 1.0143388103663948, 0.9197071362440433, 0.9808154901012603, 1.0073240168607538, 1.0051188997890623, 0.9813362689599205, 0.005253386340258087, 0.9928900183087783, 0.9367300749162879, 0.9936124933992998, 1.0346705282745488, 0.9808154901012603, 0.8063488944344959, 0.1847882883079053, 0.016798935300718663, 0.9934314707217474, 0.9955772683403595, 0.007011107523523658, 1.0010961194043695, 0.9367300749162879, 0.916330456454886, 0.083302768768626, 0.9192445468945452, 0.9197071362440433, 0.949278960911892, 0.39501563219760233, 0.6089824329713036, 0.9197071362440432, 0.9914837046887094, 1.0088781556481603, 0.9244541738216776, 0.949278960911892, 0.29350013740668013, 0.5380835852455802, 0.16771436423238864, 0.9958482591357573, 1.0106824492517843, 1.0021813302285996, 0.3484707276836283, 0.6446708462147124, 0.008711768192090708, 1.0099114952494275, 1.0088781556481605, 0.9568120306808073, 0.9197071362440433, 0.9192445468945453, 1.0088781556481603, 1.0070735263747803, 0.9873641330198709, 0.9884240166270991, 0.9580601395896046, 0.2716494774686255, 0.7334535891652888, 1.0003034866208438, 0.9568120306808073, 0.007856195594862796, 0.9898806449527122, 1.0088781556481603, 0.9991788553201578, 0.9793087146852101, 0.9197071362440433, 0.9367300749162879, 1.0010663981715404, 0.8609395846047929, 0.138272115103194, 0.9244541738216776, 1.0088781556481603, 0.9899556658864332, 0.9192445468945453, 0.015313980731138519, 0.9800947667928652, 0.9884240166270991], \"Term\": [\"10_repeat\", \"1992_1993\", \"25th\", \"3_way\", \"46_item\", \"=\", \"ability\", \"ability\", \"absent\", \"abusive_supervision\", \"account\", \"account\", \"accountability\", \"accuracy\", \"achieve\", \"achieve\", \"achille\", \"act\", \"act\", \"action\", \"action\", \"activity\", \"actual\", \"adaptive\", \"addition\", \"addition\", \"addition\", \"adolescence\", \"advance\", \"advance\", \"advanced\", \"advancement\", \"aet\", \"affect\", \"affect_lmx\", \"affective\", \"affective\", \"affiliative\", \"age\", \"agency\", \"aggregate\", \"aggregation\", \"agreement\", \"aim\", \"analysis\", \"andmechanism\", \"anger\", \"applicant\", \"application\", \"apply\", \"argument\", \"assessment\", \"assessment\", \"associate\", \"associate\", \"association\", \"assumption\", \"attempt\", \"attempt\", \"attempt\", \"attention\", \"attention\", \"attention\", \"attitude\", \"attribute\", \"attribution\", \"atypical\", \"authentic\", \"authenticity\", \"author\", \"authority\", \"avatar\", \"avenue\", \"award\", \"basis\", \"bedtime\", \"begin\", \"behavioral\", \"behavioral\", \"beijing\", \"benefit\", \"between_team\", \"bias\", \"board\", \"boundary\", \"brazil\", \"breaking\", \"broad_based\", \"build\", \"build\", \"business\", \"business\", \"capacity\", \"capital\", \"career\", \"case\", \"catalog\", \"categorization\", \"category\", \"ceiling\", \"central\", \"ceo\", \"ceo_top\", \"cfc\", \"change\", \"channel\", \"character\", \"characteristic\", \"charge\", \"charisma\", \"charismatic\", \"choose\", \"citation\", \"cite\", \"citizenship\", \"climate\", \"clinical\", \"clp\", \"coefficient\", \"cogliser\", \"cognition\", \"cognitive\", \"cognitive\", \"collection\", \"collective\", \"collective\", \"commit\", \"commitment\", \"common\", \"common\", \"communication\", \"community\", \"compare\", \"compare\", \"competent\", \"competition\", \"complete\", \"complex\", \"complexity\", \"comprise\", \"concern\", \"concern\", \"concern\", \"concise\", \"condition\", \"conditional\", \"conducive\", \"conduct\", \"conduct\", \"conduct\", \"confederation\", \"conflict\", \"conforming\", \"congruent\", \"connectedness\", \"connection\", \"consequence\", \"consequence\", \"consequence\", \"consideration\", \"consist\", \"content\", \"content\", \"contestable\", \"context\", \"contextual\", \"contingent\", \"continuance\", \"contrast\", \"contribute\", \"contribute\", \"contribute\", \"contribute\", \"control\", \"control\", \"cor\", \"core_business\", \"countervail\", \"country\", \"coworker\", \"create\", \"creative\", \"creative\", \"creativity\", \"crisis\", \"criterion\", \"critical\", \"cultural\", \"culture\", \"deal\", \"decade\", \"decision\", \"decision_making\", \"decrease\", \"degree\", \"degree\", \"dense\", \"density\", \"depend\", \"deploy\", \"derive\", \"derive\", \"design\", \"develop\", \"develop\", \"development\", \"developmental\", \"devise\", \"devote\", \"differ\", \"difference\", \"differentiation\", \"diminished\", \"direction\", \"direction\", \"direction\", \"disciplinary\", \"disciplining\", \"discretionary\", \"discriminate\", \"disengagement\", \"disparate\", \"display\", \"display\", \"dispute\", \"dissatisfaction\", \"distance\", \"distance\", \"distribute\", \"diverse\", \"diversity\", \"domain\", \"domain\", \"dominance\", \"draw\", \"draw\", \"draw\", \"draw\", \"durkin\", \"dyad\", \"dynamic\", \"dynamic\", \"dynamic\", \"early\", \"early\", \"edition\", \"editorial\", \"educational\", \"effective\", \"effective\", \"effectiveness\", \"efficacy\", \"effort\", \"egalitarian\", \"element\", \"elfering\", \"emerge\", \"emerge\", \"emerge\", \"emergence\", \"emergence\", \"emergent\", \"emotion\", \"emotion_laden\", \"emotion_regulation\", \"emotion_sensitive\", \"emotional\", \"emphasize\", \"emphasize\", \"emphasize\", \"empirical_descriptive\", \"employee\", \"employee\", \"empower\", \"empower\", \"empowerment\", \"enable\", \"encounter\", \"enhance\", \"enhance\", \"entitlement\", \"environment\", \"espouse\", \"ethical\", \"ethical\", \"evade\", \"evaluation\", \"event\", \"event\", \"event_level\", \"evidence\", \"evidence\", \"evidence\", \"evidence\", \"evolutionary\", \"exchange\", \"exchange\", \"execute\", \"executive\", \"executive\", \"expect\", \"expect\", \"expectation\", \"experience\", \"experience\", \"experience\", \"experiment\", \"experimental\", \"experimental\", \"explanation\", \"explicit\", \"explore\", \"explore\", \"explore\", \"explore\", \"expose\", \"expression\", \"extend\", \"extend\", \"extension\", \"extent\", \"external\", \"extraversion\", \"face\", \"facet\", \"facial\", \"facilitation\", \"fall\", \"family\", \"feed\", \"feedback\", \"female\", \"fifty_one\", \"fill\", \"finally\", \"finally\", \"finally\", \"financial\", \"firm\", \"first_order\", \"fit\", \"flaneur\", \"focus\", \"focus\", \"follow\", \"forecast\", \"formal\", \"formula\", \"foster\", \"from247\", \"fulfillemployee\", \"full_range_transformational\", \"function\", \"gender\", \"general\", \"general\", \"general\", \"generally\", \"generate\", \"genesis\", \"give\", \"give\", \"goal\", \"goal\", \"goal\", \"goalwas\", \"good\", \"great\", \"great\", \"group\", \"growth\", \"guanxi\", \"guide\", \"hamper\", \"hangover\", \"height\", \"high\", \"high\", \"highlight\", \"highlight\", \"highlight\", \"historic\", \"history\", \"honest\", \"human\", \"humane\", \"hybrid\", \"hypothesis\", \"hypothesis\", \"hypothesis\", \"hypothesize\", \"idea\", \"idea\", \"ideal\", \"idealized\", \"ideation\", \"identification\", \"identification\", \"identify\", \"identify\", \"identify\", \"identity\", \"ideological\", \"ii\", \"illustrate\", \"ilt\", \"image\", \"impact\", \"impact\", \"implicit\", \"importance\", \"importance\", \"importance\", \"impression\", \"improve\", \"incident\", \"include\", \"include\", \"include\", \"incongruity\", \"increase\", \"increase\", \"independent\", \"indirect\", \"individual\", \"individual_focuse\", \"individual_within_group\", \"influence\", \"influence\", \"influence\", \"informal\", \"information\", \"inhibition\", \"innovation\", \"institution\", \"institutionalize\", \"integrate\", \"integrate\", \"integrate\", \"integration\", \"integrative\", \"integrity\", \"intelligence\", \"intention\", \"inter_organizational\", \"interact\", \"interact\", \"interaction\", \"interaction\", \"interdisciplinary\", \"interest\", \"interesting\", \"internalize\", \"international\", \"interorganizational\", \"interpersonal\", \"intervention\", \"interview\", \"interview\", \"intrinsic\", \"introductory\", \"introspection\", \"inventory\", \"investigate\", \"investigate\", \"investigate\", \"involve\", \"issue.we\", \"j.\", \"job\", \"joint\", \"journal\", \"justice\", \"karasek\", \"key\", \"key\", \"key\", \"knowledge\", \"knowledge\", \"kong\", \"labor\", \"lack\", \"lack\", \"landy\", \"large\", \"large\", \"large\", \"large\", \"large\", \"lead\", \"lead\", \"leader_member_exchange_lmx\", \"leadership_follower\", \"leadership_team\", \"learn\", \"learning\", \"learning\", \"level\", \"level\", \"level\", \"level(s\", \"life\", \"life_cycle\", \"light\", \"limitation\", \"link\", \"link\", \"liquid\", \"lmx\", \"lmx\", \"lmx\", \"logic\", \"mahoney\", \"mainland\", \"major\", \"major\", \"make\", \"male\", \"man\", \"management\", \"management\", \"manager\", \"managerial\", \"managerial\", \"manipulation\", \"market\", \"meaning\", \"meaningful\", \"mechanism\", \"mechanism\", \"mechanisms_one\", \"mediate\", \"mediate\", \"mediatory\", \"member\", \"mending\", \"mentorship\", \"method\", \"method\", \"methodological\", \"methodology\", \"military\", \"mind\", \"moderate\", \"moderate\", \"modernity\", \"money\", \"monte\", \"mood\", \"moral\", \"motif\", \"motivation\", \"mts\", \"multi_dimensionality\", \"multi_level\", \"multi_level\", \"multidisciplinary\", \"multifoci\", \"multilevel\", \"multiple\", \"multiteam_interaction\", \"na\", \"narcissism\", \"national\", \"nature\", \"nature\", \"negative\", \"negative\", \"negatively\", \"negotiate\", \"network\", \"neuroticism\", \"nominal\", \"non_video\", \"norm\", \"notion\", \"number\", \"number\", \"objective\", \"oc\", \"ocb\", \"occur\", \"officer\", \"oid\", \"omit\", \"open_response\", \"operant_base\", \"operative\", \"opposite\", \"optimally\", \"order\", \"organisational\", \"orientation\", \"originality\", \"outlet\", \"overview\", \"overwhelm\", \"overwhelmed\", \"pairing\", \"paleogenetic\", \"paradoxical\", \"parent\", \"partial\", \"partially\", \"past\", \"path\", \"pattern\", \"pay\", \"payment\", \"peer\", \"people\", \"people\", \"perceive\", \"perceive\", \"perceive\", \"perception\", \"perception\", \"perceptual\", \"perform\", \"performance\", \"period\", \"person\", \"person\", \"person_supervisor\", \"personal\", \"personality\", \"personality\", \"perspective\", \"perspective\", \"petrochemical\", \"phenomenon\", \"phenomenon\", \"physically\", \"piece\", \"pjps\", \"point\", \"point\", \"politic\", \"political\", \"polynomial\", \"pos\", \"position\", \"positive\", \"positive\", \"positively\", \"positively\", \"post_test\", \"potential\", \"potential\", \"potential\", \"power\", \"power\", \"pr\", \"practical\", \"practical\", \"practical\", \"practice\", \"practice\", \"practitioner\", \"pragmatic\", \"pre-\", \"precursor\", \"predict\", \"predict\", \"predict\", \"predict\", \"predictor\", \"preference\", \"president\", \"presidential\", \"prevailing\", \"prior\", \"proactive\", \"probation\", \"problem\", \"profile\", \"profitable\", \"program\", \"progress\", \"project\", \"promote\", \"proposition\", \"proscribe\", \"protect\", \"protective\", \"prototype\", \"prove\", \"psychological\", \"public\", \"publish\", \"publishing\", \"purchase\", \"purpose\", \"quality\", \"quality\", \"quantitative\", \"questionnaire\", \"questionnaire_form\", \"quo\", \"radical\", \"rat\", \"rater\", \"rating\", \"re_examin\", \"reaction\", \"reaction\", \"receipt\", \"receive\", \"receive\", \"reciprocate\", \"reflect\", \"regard\", \"regulation\", \"regulatory\", \"relation\", \"relation\", \"relational\", \"relationship_oriented\", \"relative\", \"remain\", \"replicate\", \"report\", \"represent\", \"reputation\", \"require\", \"resource_constrained\", \"resource_munificent\", \"response\", \"response\", \"retraction\", \"reveal\", \"reveal\", \"reveal\", \"revenge\", \"review\", \"rodi\", \"role\", \"role\", \"role\", \"rupert\", \"rwa\", \"ryan\", \"safe\", \"salary\", \"satisfaction\", \"scale\", \"science\", \"science\", \"score\", \"scss\", \"scss_na\", \"sdt\", \"selection\", \"self-\", \"self_efficacy\", \"self_intereste\", \"self_regulation\", \"self_sacrificial\", \"selfless\", \"senior\", \"sequentially\", \"servant\", \"serve\", \"serve\", \"set\", \"set\", \"setting\", \"shape\", \"shape\", \"share\", \"shop_floor\", \"shortage\", \"show\", \"show\", \"show\", \"show\", \"show\", \"show\", \"significant\", \"significant\", \"significantly\", \"similarity\", \"simplification\", \"situation\", \"situation\", \"situation\", \"situational\", \"skill\", \"sl_28\", \"small\", \"smooth\", \"sna\", \"socially_innovative\", \"societal_level\", \"society\", \"society\", \"soft\", \"solution\", \"solve\", \"special\", \"specifically\", \"specifically\", \"speculate\", \"speech\", \"speech\", \"spend\", \"spillover\", \"spiritual\", \"spirituality\", \"split_data\", \"spread\", \"stand_alone\", \"state\", \"state\", \"status\", \"stereotype\", \"stereotypical\", \"strategic\", \"strategy\", \"strength\", \"strong\", \"strong\", \"structure\", \"structure\", \"style\", \"style\", \"style\", \"subordinate\", \"subordinate_reported\", \"subsequent\", \"subsequent\", \"substantively\", \"substitute\", \"success\", \"success\", \"successful\", \"succession\", \"supervisor\", \"sustain\", \"synchronization\", \"system\", \"systematic\", \"t3\", \"tactic\", \"target\", \"target\", \"task\", \"team\", \"technique\", \"tee\", \"temporal\", \"tend\", \"test_wusct\", \"testable\", \"theme\", \"threat\", \"tie\", \"time\", \"time\", \"tkml\", \"tmt\", \"top_level\", \"top_tier\", \"traditional\", \"traditional\", \"traditional\", \"training\", \"trait\", \"trait\", \"transactional\", \"transform\", \"transformational\", \"transformational\", \"transformational_transactional\", \"transgress\", \"transporter\", \"trust\", \"trust\", \"trustworthiness\", \"turn\", \"two_group\", \"two_source\", \"two_stage\", \"type\", \"type\", \"type\", \"u.s\", \"underlie\", \"understand\", \"understanding\", \"understanding\", \"understanding\", \"unique\", \"unit\", \"upper_echelon\", \"validity\", \"value_behavior\", \"variability\", \"variance\", \"variety\", \"verification\", \"viable\", \"view\", \"view\", \"virtual\", \"virtuousness\", \"vision\", \"vision\", \"voice\", \"weber\", \"wisdom\", \"withdraw\", \"within_person\", \"woman\", \"work\", \"work\", \"work_relate\", \"working\", \"world\", \"worth\", \"year\", \"year\", \"zhao\"]}, \"R\": 30, \"lambda.step\": 0.01, \"plot.opts\": {\"xlab\": \"PC1\", \"ylab\": \"PC2\"}, \"topic.order\": [1, 2, 3, 4, 5, 6, 7, 8, 9, 10]};\n",
       "\n",
       "function LDAvis_load_lib(url, callback){\n",
       "  var s = document.createElement('script');\n",
       "  s.src = url;\n",
       "  s.async = true;\n",
       "  s.onreadystatechange = s.onload = callback;\n",
       "  s.onerror = function(){console.warn(\"failed to load library \" + url);};\n",
       "  document.getElementsByTagName(\"head\")[0].appendChild(s);\n",
       "}\n",
       "\n",
       "if(typeof(LDAvis) !== \"undefined\"){\n",
       "   // already loaded: just create the visualization\n",
       "   !function(LDAvis){\n",
       "       new LDAvis(\"#\" + \"ldavis_el473952101648245768926316\", ldavis_el473952101648245768926316_data);\n",
       "   }(LDAvis);\n",
       "}else if(typeof define === \"function\" && define.amd){\n",
       "   // require.js is available: use it to load d3/LDAvis\n",
       "   require.config({paths: {d3: \"https://cdnjs.cloudflare.com/ajax/libs/d3/3.5.5/d3.min\"}});\n",
       "   require([\"d3\"], function(d3){\n",
       "      window.d3 = d3;\n",
       "      LDAvis_load_lib(\"https://cdn.rawgit.com/bmabey/pyLDAvis/files/ldavis.v1.0.0.js\", function(){\n",
       "        new LDAvis(\"#\" + \"ldavis_el473952101648245768926316\", ldavis_el473952101648245768926316_data);\n",
       "      });\n",
       "    });\n",
       "}else{\n",
       "    // require.js not available: dynamically load d3 & LDAvis\n",
       "    LDAvis_load_lib(\"https://cdnjs.cloudflare.com/ajax/libs/d3/3.5.5/d3.min.js\", function(){\n",
       "         LDAvis_load_lib(\"https://cdn.rawgit.com/bmabey/pyLDAvis/files/ldavis.v1.0.0.js\", function(){\n",
       "                 new LDAvis(\"#\" + \"ldavis_el473952101648245768926316\", ldavis_el473952101648245768926316_data);\n",
       "            })\n",
       "         });\n",
       "}\n",
       "</script>"
      ],
      "text/plain": [
       "PreparedData(topic_coordinates=              x         y  topics  cluster       Freq\n",
       "topic                                                \n",
       "0      0.137176 -0.073134       1        1   9.868051\n",
       "1     -0.098397  0.137931       2        1   9.696344\n",
       "2     -0.130300 -0.226149       3        1  10.486971\n",
       "3      0.297407  0.084309       4        1  10.138615\n",
       "4     -0.144736  0.158053       5        1  10.418150\n",
       "5     -0.045599  0.244126       6        1  10.001669\n",
       "6     -0.082241 -0.151466       7        1  10.110474\n",
       "7      0.225939  0.011279       8        1   9.562007\n",
       "8      0.022695 -0.222757       9        1   9.681441\n",
       "9     -0.181944  0.037809      10        1  10.036278, topic_info=     Category        Freq              Term       Total  loglift  logprob\n",
       "89    Default  701.000000       performance  701.000000  30.0000  30.0000\n",
       "221   Default  565.000000              team  565.000000  29.0000  29.0000\n",
       "157   Default  480.000000             group  480.000000  28.0000  28.0000\n",
       "324   Default  420.000000  transformational  420.000000  27.0000  27.0000\n",
       "74    Default  367.000000          employee  367.000000  26.0000  26.0000\n",
       "7     Default  325.000000       charismatic  325.000000  25.0000  25.0000\n",
       "101   Default  383.000000              work  383.000000  24.0000  24.0000\n",
       "13    Default  303.000000       development  303.000000  23.0000  23.0000\n",
       "609   Default  298.000000       subordinate  298.000000  22.0000  22.0000\n",
       "110   Default  269.000000           context  269.000000  21.0000  21.0000\n",
       "280   Default  263.000000     effectiveness  263.000000  20.0000  20.0000\n",
       "109   Default  258.000000            change  258.000000  19.0000  19.0000\n",
       "170   Default  410.000000              role  410.000000  18.0000  18.0000\n",
       "127   Default  219.000000           manager  219.000000  17.0000  17.0000\n",
       "299   Default  231.000000               lmx  231.000000  16.0000  16.0000\n",
       "631   Default  218.000000            member  218.000000  15.0000  15.0000\n",
       "88    Default  272.000000        perception  272.000000  14.0000  14.0000\n",
       "615   Default  208.000000            affect  208.000000  13.0000  13.0000\n",
       "1167  Default  200.000000               ceo  200.000000  12.0000  12.0000\n",
       "50    Default  199.000000              task  199.000000  11.0000  11.0000\n",
       "176   Default  195.000000             woman  195.000000  10.0000  10.0000\n",
       "51    Default  190.000000              time  190.000000   9.0000   9.0000\n",
       "92    Default  238.000000          positive  238.000000   8.0000   8.0000\n",
       "14    Default  179.000000           emotion  179.000000   7.0000   7.0000\n",
       "600   Default  239.000000             level  239.000000   6.0000   6.0000\n",
       "239   Default  190.000000       perspective  190.000000   5.0000   5.0000\n",
       "994   Default  176.000000            rating  176.000000   4.0000   4.0000\n",
       "937   Default  164.000000         emotional  164.000000   3.0000   3.0000\n",
       "12    Default  234.000000           develop  234.000000   2.0000   2.0000\n",
       "1051  Default  159.000000          charisma  159.000000   1.0000   1.0000\n",
       "...       ...         ...               ...         ...      ...      ...\n",
       "169   Topic10  100.075957          response  101.143500   2.2884  -4.1847\n",
       "295   Topic10   34.763227       independent   34.763227   2.2990  -5.2421\n",
       "2519  Topic10   33.709796      extraversion   33.709796   2.2990  -5.2728\n",
       "1824  Topic10   32.656365          complete   32.656365   2.2990  -5.3046\n",
       "1504  Topic10   32.656365         dominance   32.656365   2.2990  -5.3046\n",
       "1548  Topic10   31.602934             score   31.602934   2.2990  -5.3374\n",
       "967   Topic10   31.602934         selection   31.602934   2.2990  -5.3374\n",
       "2040  Topic10   30.549503             ideal   30.549503   2.2990  -5.3713\n",
       "2632  Topic10   30.549503              norm   30.549503   2.2990  -5.3713\n",
       "3378  Topic10   29.496071          efficacy   29.496071   2.2990  -5.4064\n",
       "905   Topic10   29.496071   decision_making   29.496071   2.2990  -5.4064\n",
       "2353  Topic10   28.442640     self_efficacy   28.442640   2.2990  -5.4427\n",
       "76    Topic10   65.312730      experimental   67.476168   2.2664  -4.6114\n",
       "695   Topic10   45.297538           receive   46.365082   2.2757  -4.9774\n",
       "1270  Topic10   41.083814          interact   42.171116   2.2728  -5.0750\n",
       "272   Topic10   72.686747           control   82.092984   2.1773  -4.5045\n",
       "43    Topic10   48.457832             serve   52.807042   2.2130  -4.9099\n",
       "136   Topic10  110.610268              show  143.764120   2.0368  -4.0846\n",
       "514   Topic10   74.793610          relation   90.652809   2.1067  -4.4759\n",
       "115   Topic10   40.030383            degree   42.206082   2.2460  -5.1010\n",
       "297   Topic10   88.488214       interaction  118.379429   2.0079  -4.3078\n",
       "724   Topic10   38.976951            person   41.016071   2.2480  -5.1277\n",
       "954   Topic10   62.152436             great   78.165587   2.0697  -4.6610\n",
       "904   Topic10   62.152436           compare   84.997282   1.9859  -4.6610\n",
       "97    Topic10   40.030383             shape   43.065517   2.2259  -5.1010\n",
       "831   Topic10   67.419592           ability  122.052016   1.7055  -4.5797\n",
       "586   Topic10   55.831849         attention   91.756359   1.8022  -4.7683\n",
       "166   Topic10   66.366161          perceive  209.189476   1.1509  -4.5954\n",
       "26    Topic10   58.992143              lead  151.888190   1.3532  -4.7132\n",
       "530   Topic10   52.671556             focus  125.831171   1.4281  -4.8266\n",
       "\n",
       "[774 rows x 6 columns], token_table=      Topic      Freq                 Term\n",
       "term                                      \n",
       "2931     10  0.949279            10_repeat\n",
       "3033      4  0.980815            1992_1993\n",
       "3329      6  0.958060                 25th\n",
       "3895      9  0.919245                3_way\n",
       "1050      9  0.919245              46_item\n",
       "139       3  1.005177                    =\n",
       "831       3  0.450628              ability\n",
       "831      10  0.548946              ability\n",
       "2828     10  0.949279               absent\n",
       "58        5  0.991484  abusive_supervision\n",
       "1289      3  0.193061              account\n",
       "1289      8  0.804422              account\n",
       "3528      2  1.021887       accountability\n",
       "3115      8  0.985401             accuracy\n",
       "2595      1  0.974275              achieve\n",
       "2595      9  0.024981              achieve\n",
       "3215      3  0.988424              achille\n",
       "734       2  0.961144                  act\n",
       "734       5  0.042717                  act\n",
       "1368      6  0.281948               action\n",
       "1368      8  0.718968               action\n",
       "0         6  0.992277             activity\n",
       "975       8  0.987834               actual\n",
       "395       6  1.008484             adaptive\n",
       "1175      7  0.386309             addition\n",
       "1175      9  0.412063             addition\n",
       "1175     10  0.206031             addition\n",
       "3246      3  0.988424          adolescence\n",
       "396       2  0.256608              advance\n",
       "396       4  0.741313              advance\n",
       "...     ...       ...                  ...\n",
       "2193      5  1.008878                 unit\n",
       "3422      7  0.956812        upper_echelon\n",
       "3156      8  0.919707             validity\n",
       "3859      9  0.919245       value_behavior\n",
       "3237      5  1.008878          variability\n",
       "328       3  1.007074             variance\n",
       "1614      2  0.987364              variety\n",
       "3234      3  0.988424         verification\n",
       "3048      6  0.958060               viable\n",
       "100       2  0.271649                 view\n",
       "100       4  0.733454                 view\n",
       "2331      7  1.000303              virtual\n",
       "3913      7  0.956812         virtuousness\n",
       "56        5  0.007856               vision\n",
       "56        6  0.989881               vision\n",
       "614       5  1.008878                voice\n",
       "4662      9  0.999179                weber\n",
       "2135      2  0.979309               wisdom\n",
       "2967      8  0.919707             withdraw\n",
       "1479      2  0.936730        within_person\n",
       "176       1  1.001066                woman\n",
       "101       5  0.860940                 work\n",
       "101       6  0.138272                 work\n",
       "491       1  0.924454          work_relate\n",
       "2983      5  1.008878              working\n",
       "3343      9  0.989956                world\n",
       "3942      9  0.919245                worth\n",
       "177       2  0.015314                 year\n",
       "177       4  0.980095                 year\n",
       "3158      3  0.988424                 zhao\n",
       "\n",
       "[923 rows x 3 columns], R=30, lambda_step=0.01, plot_opts={'xlab': 'PC1', 'ylab': 'PC2'}, topic_order=[1, 2, 3, 4, 5, 6, 7, 8, 9, 10])"
      ]
     },
     "execution_count": 390,
     "metadata": {},
     "output_type": "execute_result"
    }
   ],
   "source": [
    "# ignore warnings coming from pyLDAvis\n",
    "import warnings\n",
    "warnings.filterwarnings('ignore')\n",
    "\n",
    "# visualizing the outcome of the retained model -- this takes time\n",
    "pyLDAvis.enable_notebook()\n",
    "DATA_VIS = pyLDAvis.gensim.prepare(LDA_MALLET_G, CORPUS, DICT, sort_topics=False)\n",
    "DATA_VIS"
   ]
  },
  {
   "cell_type": "code",
   "execution_count": 391,
   "metadata": {
    "attributes": {
     "classes": [],
     "id": "",
     "n": "391"
    }
   },
   "outputs": [],
   "source": [
    "# save pyLDAvis data to json file\n",
    "pyLDAvis.save_json(DATA_VIS, 'topic_modelling_vis.json')"
   ]
  },
  {
   "cell_type": "markdown",
   "metadata": {},
   "source": [
    "# Statistical analysis of LDA estimation results"
   ]
  },
  {
   "cell_type": "markdown",
   "metadata": {},
   "source": [
    "## Get term-to-topic probabilities"
   ]
  },
  {
   "cell_type": "code",
   "execution_count": 392,
   "metadata": {
    "attributes": {
     "classes": [],
     "id": "",
     "n": "392"
    }
   },
   "outputs": [],
   "source": [
    "# get top 5 terms per topic\n",
    "TOP_TERMS_LINE = LDA_MALLET_G.show_topics(num_topics=N_TOPICS, num_words=10)"
   ]
  },
  {
   "cell_type": "code",
   "execution_count": 393,
   "metadata": {
    "attributes": {
     "classes": [],
     "id": "",
     "n": "393"
    }
   },
   "outputs": [],
   "source": [
    "# rearrange data on top 10 terms per topic\n",
    "TOP_TERMS_M = []\n",
    "\n",
    "for i in TOP_TERMS_LINE:\n",
    "    topic_num = i[0]\n",
    "    prob_terms = i[1].split('+')\n",
    "    for term_sort, term in enumerate(prob_terms):\n",
    "        weight = float(term.split('*')[0])\n",
    "        term = term.split('*')[1].strip('\"| ')\n",
    "        TOP_TERMS_M.append([topic_num, term_sort, weight, term])\n",
    "\n",
    "DF = pd.DataFrame(TOP_TERMS_M)\n",
    "\n",
    "# rename columns\n",
    "OLD_NAMES = [0, 1, 2, 3]\n",
    "NEW_NAMES = ['topic_n', 'term_sort', 'weight', 'term']\n",
    "COLS = dict(zip(OLD_NAMES, NEW_NAMES))\n",
    "DF.rename(columns=COLS, inplace=True)\n",
    "DF.set_index(['term_sort', 'topic_n'], inplace=True)\n",
    "DF = DF.unstack()\n",
    "\n",
    "# sidewaystable\n",
    "DF_H = pd.DataFrame()\n",
    "\n",
    "for i in range(10):\n",
    "    terms = DF['term'][i]\n",
    "    weights = DF['weight'][i]\n",
    "    weights = pd.Series(['( %s )' % j for j in weights ])\n",
    "    DF_H = pd.concat([DF_H, terms, weights], axis=1)\n",
    "\n",
    "\n",
    "# write data to file\n",
    "CWD = CWD\n",
    "FOLDER = 'exhibits'\n",
    "FILE = '_1.tex'\n",
    "DF_H.T.to_latex(os.path.join(CWD, FOLDER, FILE), index=True)"
   ]
  },
  {
   "cell_type": "markdown",
   "metadata": {},
   "source": [
    "## Get document-to-topic probabilities"
   ]
  },
  {
   "cell_type": "code",
   "execution_count": 394,
   "metadata": {
    "attributes": {
     "classes": [],
     "id": "",
     "n": "394"
    }
   },
   "outputs": [],
   "source": [
    "# get transformed corpus as per the LDA model\n",
    "TRANSF_CORPUS = LDA_MALLET_G.get_document_topics(CORPUS)\n",
    "\n",
    "# rearrange data on document-topic pairs probabilities\n",
    "DOC_TOPIC_M = []\n",
    "\n",
    "for id, doc in enumerate(TRANSF_CORPUS):\n",
    "    for topic in np.arange(0, 10, 1):\n",
    "        topic_n = doc[topic][0]\n",
    "        topic_prob = doc[topic][1] \n",
    "        DOC_TOPIC_M.append([id, topic, topic_prob])\n",
    "\n",
    "DF = pd.DataFrame(DOC_TOPIC_M)\n",
    "\n",
    "# rename columns\n",
    "OLD_NAMES = [0, 1, 2]\n",
    "NEW_NAMES = ['doc_id', 'topic_n', 'prob']\n",
    "COLS = dict(zip(OLD_NAMES, NEW_NAMES))\n",
    "DF.rename(columns=COLS, inplace=True)\n",
    "\n",
    "# dominant topic\n",
    "GR = DF.groupby('doc_id')\n",
    "DF.loc[:, 'max'] = GR['prob'].transform(np.max)\n",
    "DF.loc[:, 'first_topic'] = 0\n",
    "DF.loc[DF['prob'] == DF['max'], 'first_topic'] = 1\n",
    "FIRST_TOPIC = DF.loc[DF['first_topic'] == 1]\n",
    "\n",
    "# arrange data as contingency table\n",
    "DF = DF.pivot_table(index='doc_id', columns='topic_n', values='prob', aggfunc=np.mean)\n",
    "\n",
    "# write data to file\n",
    "CWD = CWD\n",
    "FOLDER = 'transformed_data'\n",
    "FILE = 'transformed_corpus.csv'\n",
    "DF.to_csv(os.path.join(CWD, FOLDER, FILE), index=True)"
   ]
  }
 ],
 "metadata": {
  "kernelspec": {
   "display_name": "Python 3",
   "language": "python",
   "name": "python3"
  },
  "language_info": {
   "codemirror_mode": {
    "name": "ipython",
    "version": 3
   },
   "file_extension": ".py",
   "mimetype": "text/x-python",
   "name": "python",
   "nbconvert_exporter": "python",
   "pygments_lexer": "ipython3",
   "version": "3.8.3"
  },
  "toc": {
   "base_numbering": 1,
   "nav_menu": {},
   "number_sections": true,
   "sideBar": true,
   "skip_h1_title": false,
   "title_cell": "Table of Contents",
   "title_sidebar": "Contents",
   "toc_cell": false,
   "toc_position": {},
   "toc_section_display": true,
   "toc_window_display": true
  },
  "varInspector": {
   "cols": {
    "lenName": 16,
    "lenType": 16,
    "lenVar": 40
   },
   "kernels_config": {
    "python": {
     "delete_cmd_postfix": "",
     "delete_cmd_prefix": "del ",
     "library": "var_list.py",
     "varRefreshCmd": "print(var_dic_list())"
    },
    "r": {
     "delete_cmd_postfix": ") ",
     "delete_cmd_prefix": "rm(",
     "library": "var_list.r",
     "varRefreshCmd": "cat(var_dic_list()) "
    }
   },
   "types_to_exclude": [
    "module",
    "function",
    "builtin_function_or_method",
    "instance",
    "_Feature"
   ],
   "window_display": false
  }
 },
 "nbformat": 4,
 "nbformat_minor": 2
}
